{
 "cells": [
  {
   "cell_type": "markdown",
   "metadata": {},
   "source": [
    "# F21 AA. CW 1\n",
    "# TASK 2 Text Processing and Normalization\n"
   ]
  },
  {
   "cell_type": "markdown",
   "metadata": {},
   "source": [
    "Import"
   ]
  },
  {
   "cell_type": "code",
   "execution_count": 2,
   "metadata": {},
   "outputs": [
    {
     "name": "stderr",
     "output_type": "stream",
     "text": [
      "[nltk_data] Downloading package stopwords to /Users/amit/nltk_data...\n",
      "[nltk_data]   Package stopwords is already up-to-date!\n",
      "[nltk_data] Downloading package wordnet to /Users/amit/nltk_data...\n",
      "[nltk_data]   Package wordnet is already up-to-date!\n"
     ]
    }
   ],
   "source": [
    "import pandas as pd\n",
    "from nltk import FreqDist\n",
    "import seaborn as sns\n",
    "import matplotlib.pyplot as plt\n",
    "\n",
    "# Custom PreprocessAndNorm.pynb module to perform preprocessing and Normalization for function reuse\n",
    "%run ProcessingAndNorm.ipynb"
   ]
  },
  {
   "cell_type": "markdown",
   "metadata": {},
   "source": [
    "Function definitions"
   ]
  },
  {
   "cell_type": "code",
   "execution_count": 4,
   "metadata": {},
   "outputs": [],
   "source": [
    "def Calculate_Len_NoOfWords(df_reviews):\n",
    "    df_reviews['length']=df_reviews['Summary_text'].apply(len)\n",
    "    df_reviews['word_count'] = df_reviews['Summary_text'].apply(lambda x: len(str(x).split()))\n",
    "    return df_reviews\n",
    "\n",
    "\n",
    "# function to plot most frequent terms\n",
    "\n",
    "def freq_words(x, terms = 30):\n",
    "  all_words = ' '.join([text for text in x])\n",
    "  all_words = all_words.split()\n",
    "\n",
    "  fdist = FreqDist(all_words)\n",
    "  words_df = pd.DataFrame({'word':list(fdist.keys()), 'count':list(fdist.values())})\n",
    "\n",
    "  # selecting top 20 most frequent words\n",
    "  d = words_df.nlargest(columns=\"count\", n = terms) \n",
    "  plt.figure(figsize=(20,5))\n",
    "  ax = sns.barplot(data=d, x= \"word\", y = \"count\")\n",
    "  ax.set(ylabel = 'Count')\n",
    "  plt.show()"
   ]
  },
  {
   "cell_type": "markdown",
   "metadata": {},
   "source": [
    "File Input"
   ]
  },
  {
   "cell_type": "code",
   "execution_count": 9,
   "metadata": {},
   "outputs": [
    {
     "data": {
      "text/html": [
       "<div>\n",
       "<style scoped>\n",
       "    .dataframe tbody tr th:only-of-type {\n",
       "        vertical-align: middle;\n",
       "    }\n",
       "\n",
       "    .dataframe tbody tr th {\n",
       "        vertical-align: top;\n",
       "    }\n",
       "\n",
       "    .dataframe thead th {\n",
       "        text-align: right;\n",
       "    }\n",
       "</style>\n",
       "<table border=\"1\" class=\"dataframe\">\n",
       "  <thead>\n",
       "    <tr style=\"text-align: right;\">\n",
       "      <th></th>\n",
       "      <th>Id</th>\n",
       "      <th>ProductId</th>\n",
       "      <th>UserId</th>\n",
       "      <th>ProfileName</th>\n",
       "      <th>HelpfulnessNumerator</th>\n",
       "      <th>HelpfulnessDenominator</th>\n",
       "      <th>Score</th>\n",
       "      <th>Time</th>\n",
       "      <th>Summary</th>\n",
       "      <th>Text</th>\n",
       "    </tr>\n",
       "  </thead>\n",
       "  <tbody>\n",
       "    <tr>\n",
       "      <th>0</th>\n",
       "      <td>220291</td>\n",
       "      <td>B0034EDLS2</td>\n",
       "      <td>AVF82BC7S0IO7</td>\n",
       "      <td>Kbrown</td>\n",
       "      <td>0</td>\n",
       "      <td>0</td>\n",
       "      <td>5</td>\n",
       "      <td>1332806400</td>\n",
       "      <td>Very Good</td>\n",
       "      <td>I received this product early from the seller!...</td>\n",
       "    </tr>\n",
       "    <tr>\n",
       "      <th>1</th>\n",
       "      <td>225833</td>\n",
       "      <td>B001I7HJE4</td>\n",
       "      <td>A1YUL9PCJR3JTY</td>\n",
       "      <td>O. Brown \"Ms. O. Khannah-Brown\"</td>\n",
       "      <td>1</td>\n",
       "      <td>1</td>\n",
       "      <td>5</td>\n",
       "      <td>1190160000</td>\n",
       "      <td>Organic, Kosher, Tasty Assortment of Premium T...</td>\n",
       "      <td>*****&lt;br /&gt;Numi's Collection Assortment Melang...</td>\n",
       "    </tr>\n",
       "    <tr>\n",
       "      <th>2</th>\n",
       "      <td>350901</td>\n",
       "      <td>B000LKTB90</td>\n",
       "      <td>A1BBPP1EC75JX4</td>\n",
       "      <td>Johan Bollen \"gekhond\"</td>\n",
       "      <td>0</td>\n",
       "      <td>0</td>\n",
       "      <td>5</td>\n",
       "      <td>1285977600</td>\n",
       "      <td>excellent gluten-free spaghetti: great taste, ...</td>\n",
       "      <td>I was very careful not to overcook this pasta,...</td>\n",
       "    </tr>\n",
       "    <tr>\n",
       "      <th>3</th>\n",
       "      <td>299801</td>\n",
       "      <td>B001HXJPS2</td>\n",
       "      <td>A5QSI9MNS8NMS</td>\n",
       "      <td>M. Esaili</td>\n",
       "      <td>0</td>\n",
       "      <td>0</td>\n",
       "      <td>5</td>\n",
       "      <td>1338163200</td>\n",
       "      <td>Lindt is Lindt</td>\n",
       "      <td>Buying this multi-pack I was misled by the pic...</td>\n",
       "    </tr>\n",
       "    <tr>\n",
       "      <th>4</th>\n",
       "      <td>48472</td>\n",
       "      <td>B006H34CUS</td>\n",
       "      <td>A20IBAIRSNBEAQ</td>\n",
       "      <td>Chelsea</td>\n",
       "      <td>0</td>\n",
       "      <td>0</td>\n",
       "      <td>5</td>\n",
       "      <td>1343606400</td>\n",
       "      <td>YUM!!!!!</td>\n",
       "      <td>These bars are so good! I loved them warmed up...</td>\n",
       "    </tr>\n",
       "  </tbody>\n",
       "</table>\n",
       "</div>"
      ],
      "text/plain": [
       "       Id   ProductId          UserId                      ProfileName  \\\n",
       "0  220291  B0034EDLS2   AVF82BC7S0IO7                           Kbrown   \n",
       "1  225833  B001I7HJE4  A1YUL9PCJR3JTY  O. Brown \"Ms. O. Khannah-Brown\"   \n",
       "2  350901  B000LKTB90  A1BBPP1EC75JX4           Johan Bollen \"gekhond\"   \n",
       "3  299801  B001HXJPS2   A5QSI9MNS8NMS                        M. Esaili   \n",
       "4   48472  B006H34CUS  A20IBAIRSNBEAQ                          Chelsea   \n",
       "\n",
       "   HelpfulnessNumerator  HelpfulnessDenominator  Score        Time  \\\n",
       "0                     0                       0      5  1332806400   \n",
       "1                     1                       1      5  1190160000   \n",
       "2                     0                       0      5  1285977600   \n",
       "3                     0                       0      5  1338163200   \n",
       "4                     0                       0      5  1343606400   \n",
       "\n",
       "                                             Summary  \\\n",
       "0                                          Very Good   \n",
       "1  Organic, Kosher, Tasty Assortment of Premium T...   \n",
       "2  excellent gluten-free spaghetti: great taste, ...   \n",
       "3                                     Lindt is Lindt   \n",
       "4                                           YUM!!!!!   \n",
       "\n",
       "                                                Text  \n",
       "0  I received this product early from the seller!...  \n",
       "1  *****<br />Numi's Collection Assortment Melang...  \n",
       "2  I was very careful not to overcook this pasta,...  \n",
       "3  Buying this multi-pack I was misled by the pic...  \n",
       "4  These bars are so good! I loved them warmed up...  "
      ]
     },
     "execution_count": 9,
     "metadata": {},
     "output_type": "execute_result"
    }
   ],
   "source": [
    "#Read File\n",
    "df_reviews = pd.read_csv('train.csv')\n",
    "df_reviews.head()\n"
   ]
  },
  {
   "cell_type": "markdown",
   "metadata": {},
   "source": [
    "Format Contents "
   ]
  },
  {
   "cell_type": "code",
   "execution_count": 10,
   "metadata": {},
   "outputs": [
    {
     "name": "stdout",
     "output_type": "stream",
     "text": [
      "<class 'pandas.core.frame.DataFrame'>\n",
      "RangeIndex: 426340 entries, 0 to 426339\n",
      "Data columns (total 2 columns):\n",
      "Score           426340 non-null category\n",
      "Summary_text    426340 non-null object\n",
      "dtypes: category(1), object(1)\n",
      "memory usage: 3.7+ MB\n"
     ]
    }
   ],
   "source": [
    "df_reviews.Summary.fillna('',inplace=True)\n",
    "df_reviews.Text.fillna('', inplace=True)\n",
    "df_reviews['Summary_text']=df_reviews['Summary']+\" \"+df_reviews['Text']\n",
    "df_reviews = df_reviews[['Score','Summary_text']]\n",
    "df_reviews['Score']=df_reviews.Score.astype('category')\n",
    "df_reviews.info()"
   ]
  },
  {
   "cell_type": "code",
   "execution_count": 11,
   "metadata": {},
   "outputs": [
    {
     "data": {
      "text/html": [
       "<div>\n",
       "<style scoped>\n",
       "    .dataframe tbody tr th:only-of-type {\n",
       "        vertical-align: middle;\n",
       "    }\n",
       "\n",
       "    .dataframe tbody tr th {\n",
       "        vertical-align: top;\n",
       "    }\n",
       "\n",
       "    .dataframe thead th {\n",
       "        text-align: right;\n",
       "    }\n",
       "</style>\n",
       "<table border=\"1\" class=\"dataframe\">\n",
       "  <thead>\n",
       "    <tr style=\"text-align: right;\">\n",
       "      <th></th>\n",
       "      <th>Score</th>\n",
       "      <th>Summary_text</th>\n",
       "    </tr>\n",
       "  </thead>\n",
       "  <tbody>\n",
       "    <tr>\n",
       "      <th>0</th>\n",
       "      <td>5</td>\n",
       "      <td>Very Good I received this product early from t...</td>\n",
       "    </tr>\n",
       "    <tr>\n",
       "      <th>1</th>\n",
       "      <td>5</td>\n",
       "      <td>Organic, Kosher, Tasty Assortment of Premium T...</td>\n",
       "    </tr>\n",
       "    <tr>\n",
       "      <th>2</th>\n",
       "      <td>5</td>\n",
       "      <td>excellent gluten-free spaghetti: great taste, ...</td>\n",
       "    </tr>\n",
       "    <tr>\n",
       "      <th>3</th>\n",
       "      <td>5</td>\n",
       "      <td>Lindt is Lindt Buying this multi-pack I was mi...</td>\n",
       "    </tr>\n",
       "    <tr>\n",
       "      <th>4</th>\n",
       "      <td>5</td>\n",
       "      <td>YUM!!!!! These bars are so good! I loved them ...</td>\n",
       "    </tr>\n",
       "  </tbody>\n",
       "</table>\n",
       "</div>"
      ],
      "text/plain": [
       "  Score                                       Summary_text\n",
       "0     5  Very Good I received this product early from t...\n",
       "1     5  Organic, Kosher, Tasty Assortment of Premium T...\n",
       "2     5  excellent gluten-free spaghetti: great taste, ...\n",
       "3     5  Lindt is Lindt Buying this multi-pack I was mi...\n",
       "4     5  YUM!!!!! These bars are so good! I loved them ..."
      ]
     },
     "execution_count": 11,
     "metadata": {},
     "output_type": "execute_result"
    }
   ],
   "source": [
    "df_reviews.head()"
   ]
  },
  {
   "cell_type": "code",
   "execution_count": 12,
   "metadata": {},
   "outputs": [
    {
     "data": {
      "text/html": [
       "<div>\n",
       "<style scoped>\n",
       "    .dataframe tbody tr th:only-of-type {\n",
       "        vertical-align: middle;\n",
       "    }\n",
       "\n",
       "    .dataframe tbody tr th {\n",
       "        vertical-align: top;\n",
       "    }\n",
       "\n",
       "    .dataframe thead th {\n",
       "        text-align: right;\n",
       "    }\n",
       "</style>\n",
       "<table border=\"1\" class=\"dataframe\">\n",
       "  <thead>\n",
       "    <tr style=\"text-align: right;\">\n",
       "      <th></th>\n",
       "      <th>Score</th>\n",
       "      <th>Summary_text</th>\n",
       "    </tr>\n",
       "  </thead>\n",
       "  <tbody>\n",
       "    <tr>\n",
       "      <th>count</th>\n",
       "      <td>426340</td>\n",
       "      <td>426340</td>\n",
       "    </tr>\n",
       "    <tr>\n",
       "      <th>unique</th>\n",
       "      <td>5</td>\n",
       "      <td>309168</td>\n",
       "    </tr>\n",
       "    <tr>\n",
       "      <th>top</th>\n",
       "      <td>5</td>\n",
       "      <td>Filler food is empty, leaves your cat always n...</td>\n",
       "    </tr>\n",
       "    <tr>\n",
       "      <th>freq</th>\n",
       "      <td>272492</td>\n",
       "      <td>140</td>\n",
       "    </tr>\n",
       "  </tbody>\n",
       "</table>\n",
       "</div>"
      ],
      "text/plain": [
       "         Score                                       Summary_text\n",
       "count   426340                                             426340\n",
       "unique       5                                             309168\n",
       "top          5  Filler food is empty, leaves your cat always n...\n",
       "freq    272492                                                140"
      ]
     },
     "execution_count": 12,
     "metadata": {},
     "output_type": "execute_result"
    }
   ],
   "source": [
    "df_reviews.describe()"
   ]
  },
  {
   "cell_type": "markdown",
   "metadata": {},
   "source": [
    "Add length of summary and word count column"
   ]
  },
  {
   "cell_type": "code",
   "execution_count": 13,
   "metadata": {},
   "outputs": [],
   "source": [
    "df_reviews=Calculate_Len_NoOfWords(df_reviews)"
   ]
  },
  {
   "cell_type": "code",
   "execution_count": 14,
   "metadata": {},
   "outputs": [
    {
     "data": {
      "text/html": [
       "<div>\n",
       "<style scoped>\n",
       "    .dataframe tbody tr th:only-of-type {\n",
       "        vertical-align: middle;\n",
       "    }\n",
       "\n",
       "    .dataframe tbody tr th {\n",
       "        vertical-align: top;\n",
       "    }\n",
       "\n",
       "    .dataframe thead th {\n",
       "        text-align: right;\n",
       "    }\n",
       "</style>\n",
       "<table border=\"1\" class=\"dataframe\">\n",
       "  <thead>\n",
       "    <tr style=\"text-align: right;\">\n",
       "      <th></th>\n",
       "      <th>Score</th>\n",
       "      <th>Summary_text</th>\n",
       "      <th>length</th>\n",
       "      <th>word_count</th>\n",
       "    </tr>\n",
       "  </thead>\n",
       "  <tbody>\n",
       "    <tr>\n",
       "      <th>0</th>\n",
       "      <td>5</td>\n",
       "      <td>Very Good I received this product early from t...</td>\n",
       "      <td>207</td>\n",
       "      <td>40</td>\n",
       "    </tr>\n",
       "    <tr>\n",
       "      <th>1</th>\n",
       "      <td>5</td>\n",
       "      <td>Organic, Kosher, Tasty Assortment of Premium T...</td>\n",
       "      <td>1998</td>\n",
       "      <td>319</td>\n",
       "    </tr>\n",
       "    <tr>\n",
       "      <th>2</th>\n",
       "      <td>5</td>\n",
       "      <td>excellent gluten-free spaghetti: great taste, ...</td>\n",
       "      <td>1146</td>\n",
       "      <td>204</td>\n",
       "    </tr>\n",
       "    <tr>\n",
       "      <th>3</th>\n",
       "      <td>5</td>\n",
       "      <td>Lindt is Lindt Buying this multi-pack I was mi...</td>\n",
       "      <td>201</td>\n",
       "      <td>34</td>\n",
       "    </tr>\n",
       "    <tr>\n",
       "      <th>4</th>\n",
       "      <td>5</td>\n",
       "      <td>YUM!!!!! These bars are so good! I loved them ...</td>\n",
       "      <td>164</td>\n",
       "      <td>29</td>\n",
       "    </tr>\n",
       "  </tbody>\n",
       "</table>\n",
       "</div>"
      ],
      "text/plain": [
       "  Score                                       Summary_text  length  word_count\n",
       "0     5  Very Good I received this product early from t...     207          40\n",
       "1     5  Organic, Kosher, Tasty Assortment of Premium T...    1998         319\n",
       "2     5  excellent gluten-free spaghetti: great taste, ...    1146         204\n",
       "3     5  Lindt is Lindt Buying this multi-pack I was mi...     201          34\n",
       "4     5  YUM!!!!! These bars are so good! I loved them ...     164          29"
      ]
     },
     "execution_count": 14,
     "metadata": {},
     "output_type": "execute_result"
    }
   ],
   "source": [
    "df_reviews.head()"
   ]
  },
  {
   "cell_type": "markdown",
   "metadata": {},
   "source": [
    "## 1.Processing Experiments"
   ]
  },
  {
   "cell_type": "markdown",
   "metadata": {},
   "source": [
    "### a) Lower Case Conversion "
   ]
  },
  {
   "cell_type": "code",
   "execution_count": 193,
   "metadata": {},
   "outputs": [],
   "source": [
    "df_reviews_copy=df_reviews.copy()"
   ]
  },
  {
   "cell_type": "code",
   "execution_count": 194,
   "metadata": {},
   "outputs": [
    {
     "data": {
      "text/plain": [
       "'Organic, Kosher, Tasty Assortment of Premium Teas & Teasans *****<br />Numi\\'s Collection Assortment Melange includes:<br />5 Herbal Teas (caffeine-free, also called \"teasans\"):<br />* Dry Desert Lime: Lime Herbal Teasan<br />* Fields of Gold: Lemongrass Herbal Teasan<br />* Red Mellow Bush: Rooibos Herbal Teasan<br />* Bushmen\\'s Brew: Honeybush Herbal Teasan<br />* Simply Mint: Moroccan Mint<br /><br />2 Green Teas (lower in caffeine):<br />* Temple of Heaven: Gunpowder Green Tea<br />* Monkey King: Jasmine Green Tea<br /><br />2 Black Teas (contain caffeine):<br />* Chinese Breakfast: Yunnan Black Tea<br />* Smoky Tarry: Lapsang Souchong Black Tea<br /><br />This is a total of nine different teas, two tea bags of each one in each box. Numi teas are known for their high-quality, organic and kosher ingredients, and in my opinion, are some of the tastiest and best teas I have ever tried. They do not include artificial ingredients or flavorings.<br /><br />On the box, the manufacturer writes: \"From mist-covered mountains to sun-drenched deserts to fertile fields, we proudly bring you our tea palette. The flavors range from smooth earthiness, and light floral scents, to refreshingly sweet and sour notes. What they all share is the recollection of how some Ancient One tamed fire and water to coexist harmoniously, and steeped in them the gifts of Nature. Since that distant past, people have soothed, roused, healed, explored and celebrated with these wonderful infusions. We encourage you to do the same with Numi\\'s finest.\"<br /><br />The price is perfect, a big savings over single boxes. If you like Numi teas and want to sample a wonderful assortment, get it---you won\\'t be sorry. There may be some you like and others you don\\'t, but sampling them will be a delightful experience. If you are new to Numi this is an excellent way to sample their high-quality teas. I do not think you could find a better source of premium tea than Numi.<br /><br />Highly recommended.<br />*****'"
      ]
     },
     "execution_count": 194,
     "metadata": {},
     "output_type": "execute_result"
    }
   ],
   "source": [
    "# Check sample text\n",
    "df_reviews_copy['Summary_text'].loc[1] "
   ]
  },
  {
   "cell_type": "code",
   "execution_count": 195,
   "metadata": {},
   "outputs": [],
   "source": [
    "df_reviews_copy=To_Lower(df_reviews_copy)\n",
    "df_reviews_copy=Calculate_Len_NoOfWords(df_reviews_copy)"
   ]
  },
  {
   "cell_type": "code",
   "execution_count": 196,
   "metadata": {},
   "outputs": [
    {
     "data": {
      "text/plain": [
       "'organic, kosher, tasty assortment of premium teas & teasans *****<br />numi\\'s collection assortment melange includes:<br />5 herbal teas (caffeine-free, also called \"teasans\"):<br />* dry desert lime: lime herbal teasan<br />* fields of gold: lemongrass herbal teasan<br />* red mellow bush: rooibos herbal teasan<br />* bushmen\\'s brew: honeybush herbal teasan<br />* simply mint: moroccan mint<br /><br />2 green teas (lower in caffeine):<br />* temple of heaven: gunpowder green tea<br />* monkey king: jasmine green tea<br /><br />2 black teas (contain caffeine):<br />* chinese breakfast: yunnan black tea<br />* smoky tarry: lapsang souchong black tea<br /><br />this is a total of nine different teas, two tea bags of each one in each box. numi teas are known for their high-quality, organic and kosher ingredients, and in my opinion, are some of the tastiest and best teas i have ever tried. they do not include artificial ingredients or flavorings.<br /><br />on the box, the manufacturer writes: \"from mist-covered mountains to sun-drenched deserts to fertile fields, we proudly bring you our tea palette. the flavors range from smooth earthiness, and light floral scents, to refreshingly sweet and sour notes. what they all share is the recollection of how some ancient one tamed fire and water to coexist harmoniously, and steeped in them the gifts of nature. since that distant past, people have soothed, roused, healed, explored and celebrated with these wonderful infusions. we encourage you to do the same with numi\\'s finest.\"<br /><br />the price is perfect, a big savings over single boxes. if you like numi teas and want to sample a wonderful assortment, get it---you won\\'t be sorry. there may be some you like and others you don\\'t, but sampling them will be a delightful experience. if you are new to numi this is an excellent way to sample their high-quality teas. i do not think you could find a better source of premium tea than numi.<br /><br />highly recommended.<br />*****'"
      ]
     },
     "execution_count": 196,
     "metadata": {},
     "output_type": "execute_result"
    }
   ],
   "source": [
    "df_reviews_copy['Summary_text'].loc[1]"
   ]
  },
  {
   "cell_type": "markdown",
   "metadata": {},
   "source": [
    "Discussion: We can see that all the upper case has been changed into lower case. The effect can be seen later on when we create a vector representation which will have a smaller dictionary "
   ]
  },
  {
   "cell_type": "markdown",
   "metadata": {},
   "source": [
    "### b) Remove HTML tag from original frame"
   ]
  },
  {
   "cell_type": "code",
   "execution_count": 197,
   "metadata": {},
   "outputs": [
    {
     "data": {
      "text/plain": [
       "'Organic, Kosher, Tasty Assortment of Premium Teas & Teasans *****<br />Numi\\'s Collection Assortment Melange includes:<br />5 Herbal Teas (caffeine-free, also called \"teasans\"):<br />* Dry Desert Lime: Lime Herbal Teasan<br />* Fields of Gold: Lemongrass Herbal Teasan<br />* Red Mellow Bush: Rooibos Herbal Teasan<br />* Bushmen\\'s Brew: Honeybush Herbal Teasan<br />* Simply Mint: Moroccan Mint<br /><br />2 Green Teas (lower in caffeine):<br />* Temple of Heaven: Gunpowder Green Tea<br />* Monkey King: Jasmine Green Tea<br /><br />2 Black Teas (contain caffeine):<br />* Chinese Breakfast: Yunnan Black Tea<br />* Smoky Tarry: Lapsang Souchong Black Tea<br /><br />This is a total of nine different teas, two tea bags of each one in each box. Numi teas are known for their high-quality, organic and kosher ingredients, and in my opinion, are some of the tastiest and best teas I have ever tried. They do not include artificial ingredients or flavorings.<br /><br />On the box, the manufacturer writes: \"From mist-covered mountains to sun-drenched deserts to fertile fields, we proudly bring you our tea palette. The flavors range from smooth earthiness, and light floral scents, to refreshingly sweet and sour notes. What they all share is the recollection of how some Ancient One tamed fire and water to coexist harmoniously, and steeped in them the gifts of Nature. Since that distant past, people have soothed, roused, healed, explored and celebrated with these wonderful infusions. We encourage you to do the same with Numi\\'s finest.\"<br /><br />The price is perfect, a big savings over single boxes. If you like Numi teas and want to sample a wonderful assortment, get it---you won\\'t be sorry. There may be some you like and others you don\\'t, but sampling them will be a delightful experience. If you are new to Numi this is an excellent way to sample their high-quality teas. I do not think you could find a better source of premium tea than Numi.<br /><br />Highly recommended.<br />*****'"
      ]
     },
     "execution_count": 197,
     "metadata": {},
     "output_type": "execute_result"
    }
   ],
   "source": [
    "\n",
    "df_reviews_copy=df_reviews.copy()\n",
    "# Check sample text\n",
    "df_reviews_copy['Summary_text'].loc[1] \n",
    "\n"
   ]
  },
  {
   "cell_type": "code",
   "execution_count": 198,
   "metadata": {},
   "outputs": [
    {
     "data": {
      "text/plain": [
       "'Organic, Kosher, Tasty Assortment of Premium Teas & Teasans ***** Numi\\'s Collection Assortment Melange includes: 5 Herbal Teas (caffeine-free, also called \"teasans\"): * Dry Desert Lime: Lime Herbal Teasan * Fields of Gold: Lemongrass Herbal Teasan * Red Mellow Bush: Rooibos Herbal Teasan * Bushmen\\'s Brew: Honeybush Herbal Teasan * Simply Mint: Moroccan Mint  2 Green Teas (lower in caffeine): * Temple of Heaven: Gunpowder Green Tea * Monkey King: Jasmine Green Tea  2 Black Teas (contain caffeine): * Chinese Breakfast: Yunnan Black Tea * Smoky Tarry: Lapsang Souchong Black Tea  This is a total of nine different teas, two tea bags of each one in each box. Numi teas are known for their high-quality, organic and kosher ingredients, and in my opinion, are some of the tastiest and best teas I have ever tried. They do not include artificial ingredients or flavorings.  On the box, the manufacturer writes: \"From mist-covered mountains to sun-drenched deserts to fertile fields, we proudly bring you our tea palette. The flavors range from smooth earthiness, and light floral scents, to refreshingly sweet and sour notes. What they all share is the recollection of how some Ancient One tamed fire and water to coexist harmoniously, and steeped in them the gifts of Nature. Since that distant past, people have soothed, roused, healed, explored and celebrated with these wonderful infusions. We encourage you to do the same with Numi\\'s finest.\"  The price is perfect, a big savings over single boxes. If you like Numi teas and want to sample a wonderful assortment, get it---you won\\'t be sorry. There may be some you like and others you don\\'t, but sampling them will be a delightful experience. If you are new to Numi this is an excellent way to sample their high-quality teas. I do not think you could find a better source of premium tea than Numi.  Highly recommended. *****'"
      ]
     },
     "execution_count": 198,
     "metadata": {},
     "output_type": "execute_result"
    }
   ],
   "source": [
    "df_reviews_copy=Remove_HTML_Tag(df_reviews_copy)\n",
    "df_reviews_copy=Calculate_Len_NoOfWords(df_reviews_copy)\n",
    "df_reviews_copy['Summary_text'].loc[1] "
   ]
  },
  {
   "cell_type": "code",
   "execution_count": 199,
   "metadata": {},
   "outputs": [
    {
     "data": {
      "text/plain": [
       "21756     21535\n",
       "66592     21535\n",
       "175574    21535\n",
       "388043    16991\n",
       "36341     13082\n",
       "61339     12563\n",
       "252436    12362\n",
       "328089    11362\n",
       "352693    10835\n",
       "78968     10834\n",
       "Name: length, dtype: int64"
      ]
     },
     "execution_count": 199,
     "metadata": {},
     "output_type": "execute_result"
    }
   ],
   "source": [
    "#Check change in largest 10 review length to see any effect\n",
    "df_reviews['length'].nlargest(10)"
   ]
  },
  {
   "cell_type": "code",
   "execution_count": 200,
   "metadata": {},
   "outputs": [
    {
     "data": {
      "text/plain": [
       "21756     21260\n",
       "66592     21260\n",
       "175574    21260\n",
       "388043    16426\n",
       "36341     12682\n",
       "61339     12223\n",
       "252436    12117\n",
       "328089    11002\n",
       "352693    10435\n",
       "78968     10434\n",
       "Name: length, dtype: int64"
      ]
     },
     "execution_count": 200,
     "metadata": {},
     "output_type": "execute_result"
    }
   ],
   "source": [
    "df_reviews_copy['length'].nlargest(10)"
   ]
  },
  {
   "cell_type": "markdown",
   "metadata": {},
   "source": [
    "Discussion: We can see above that there has been a change in the length after removing the html tag"
   ]
  },
  {
   "cell_type": "code",
   "execution_count": 211,
   "metadata": {},
   "outputs": [
    {
     "data": {
      "text/plain": [
       "21756     3451\n",
       "66592     3451\n",
       "175574    3451\n",
       "388043    2526\n",
       "252436    2096\n",
       "61339     2070\n",
       "36341     2068\n",
       "328089    1908\n",
       "80478     1873\n",
       "248426    1822\n",
       "Name: word_count, dtype: int64"
      ]
     },
     "execution_count": 211,
     "metadata": {},
     "output_type": "execute_result"
    }
   ],
   "source": [
    "#Check change in largest 10 review word count to see any effect\n",
    "df_reviews['word_count'].nlargest(10)"
   ]
  },
  {
   "cell_type": "code",
   "execution_count": 212,
   "metadata": {},
   "outputs": [
    {
     "data": {
      "text/plain": [
       "21756     3428\n",
       "66592     3428\n",
       "175574    3428\n",
       "388043    2429\n",
       "252436    2077\n",
       "61339     2047\n",
       "36341     2024\n",
       "328089    1872\n",
       "80478     1847\n",
       "248426    1791\n",
       "Name: word_count, dtype: int64"
      ]
     },
     "execution_count": 212,
     "metadata": {},
     "output_type": "execute_result"
    }
   ],
   "source": [
    "df_reviews_copy['word_count'].nlargest(10)"
   ]
  },
  {
   "cell_type": "markdown",
   "metadata": {},
   "source": [
    "Discussion: We can see above that there has been a change in the word count after removing the html tag"
   ]
  },
  {
   "cell_type": "code",
   "execution_count": 214,
   "metadata": {},
   "outputs": [
    {
     "data": {
      "text/html": [
       "<div>\n",
       "<style scoped>\n",
       "    .dataframe tbody tr th:only-of-type {\n",
       "        vertical-align: middle;\n",
       "    }\n",
       "\n",
       "    .dataframe tbody tr th {\n",
       "        vertical-align: top;\n",
       "    }\n",
       "\n",
       "    .dataframe thead th {\n",
       "        text-align: right;\n",
       "    }\n",
       "</style>\n",
       "<table border=\"1\" class=\"dataframe\">\n",
       "  <thead>\n",
       "    <tr style=\"text-align: right;\">\n",
       "      <th></th>\n",
       "      <th>Score</th>\n",
       "      <th>Summary_text</th>\n",
       "      <th>length</th>\n",
       "      <th>word_count</th>\n",
       "      <th>length_change</th>\n",
       "      <th>wordcount_change</th>\n",
       "    </tr>\n",
       "  </thead>\n",
       "  <tbody>\n",
       "    <tr>\n",
       "      <th>0</th>\n",
       "      <td>5</td>\n",
       "      <td>Very Good I received this product early from t...</td>\n",
       "      <td>207</td>\n",
       "      <td>40</td>\n",
       "      <td>0</td>\n",
       "      <td>0</td>\n",
       "    </tr>\n",
       "    <tr>\n",
       "      <th>1</th>\n",
       "      <td>5</td>\n",
       "      <td>Organic, Kosher, Tasty Assortment of Premium T...</td>\n",
       "      <td>1878</td>\n",
       "      <td>313</td>\n",
       "      <td>120</td>\n",
       "      <td>6</td>\n",
       "    </tr>\n",
       "    <tr>\n",
       "      <th>2</th>\n",
       "      <td>5</td>\n",
       "      <td>excellent gluten-free spaghetti: great taste, ...</td>\n",
       "      <td>1126</td>\n",
       "      <td>202</td>\n",
       "      <td>20</td>\n",
       "      <td>2</td>\n",
       "    </tr>\n",
       "    <tr>\n",
       "      <th>3</th>\n",
       "      <td>5</td>\n",
       "      <td>Lindt is Lindt Buying this multi-pack I was mi...</td>\n",
       "      <td>201</td>\n",
       "      <td>34</td>\n",
       "      <td>0</td>\n",
       "      <td>0</td>\n",
       "    </tr>\n",
       "    <tr>\n",
       "      <th>4</th>\n",
       "      <td>5</td>\n",
       "      <td>YUM!!!!! These bars are so good! I loved them ...</td>\n",
       "      <td>164</td>\n",
       "      <td>29</td>\n",
       "      <td>0</td>\n",
       "      <td>0</td>\n",
       "    </tr>\n",
       "  </tbody>\n",
       "</table>\n",
       "</div>"
      ],
      "text/plain": [
       "  Score                                       Summary_text  length  \\\n",
       "0     5  Very Good I received this product early from t...     207   \n",
       "1     5  Organic, Kosher, Tasty Assortment of Premium T...    1878   \n",
       "2     5  excellent gluten-free spaghetti: great taste, ...    1126   \n",
       "3     5  Lindt is Lindt Buying this multi-pack I was mi...     201   \n",
       "4     5  YUM!!!!! These bars are so good! I loved them ...     164   \n",
       "\n",
       "   word_count  length_change  wordcount_change  \n",
       "0          40              0                 0  \n",
       "1         313            120                 6  \n",
       "2         202             20                 2  \n",
       "3          34              0                 0  \n",
       "4          29              0                 0  "
      ]
     },
     "execution_count": 214,
     "metadata": {},
     "output_type": "execute_result"
    }
   ],
   "source": [
    "# To prove that removing the html tag has an effect we can calcualate average reduction in length and word count\n",
    "\n",
    "\n",
    "df_reviews_copy['length_change']=df_reviews['length']-df_reviews_copy['length']\n",
    "df_reviews_copy['wordcount_change']=df_reviews['word_count']-df_reviews_copy['word_count']\n",
    "\n",
    "df_reviews_copy.head()\n"
   ]
  },
  {
   "cell_type": "code",
   "execution_count": 228,
   "metadata": {},
   "outputs": [
    {
     "name": "stdout",
     "output_type": "stream",
     "text": [
      "Average reduction in length per review is 5.667155322043439 characters\n"
     ]
    }
   ],
   "source": [
    "print('Average reduction in length per review is',df_reviews_copy['length_change'].sum()/(len(df_reviews_copy['length_change'])),'characters')"
   ]
  },
  {
   "cell_type": "code",
   "execution_count": 229,
   "metadata": {},
   "outputs": [
    {
     "name": "stdout",
     "output_type": "stream",
     "text": [
      "Average reduction in number of words per review is 0.46527184875920624 words\n"
     ]
    }
   ],
   "source": [
    "print('Average reduction in number of words per review is',df_reviews_copy['wordcount_change'].sum()/(len(df_reviews_copy['wordcount_change'])),'words')\n"
   ]
  },
  {
   "cell_type": "markdown",
   "metadata": {},
   "source": [
    "### c) Remove Special Characters from original frame"
   ]
  },
  {
   "cell_type": "code",
   "execution_count": 231,
   "metadata": {},
   "outputs": [
    {
     "data": {
      "text/plain": [
       "'Organic, Kosher, Tasty Assortment of Premium Teas & Teasans *****<br />Numi\\'s Collection Assortment Melange includes:<br />5 Herbal Teas (caffeine-free, also called \"teasans\"):<br />* Dry Desert Lime: Lime Herbal Teasan<br />* Fields of Gold: Lemongrass Herbal Teasan<br />* Red Mellow Bush: Rooibos Herbal Teasan<br />* Bushmen\\'s Brew: Honeybush Herbal Teasan<br />* Simply Mint: Moroccan Mint<br /><br />2 Green Teas (lower in caffeine):<br />* Temple of Heaven: Gunpowder Green Tea<br />* Monkey King: Jasmine Green Tea<br /><br />2 Black Teas (contain caffeine):<br />* Chinese Breakfast: Yunnan Black Tea<br />* Smoky Tarry: Lapsang Souchong Black Tea<br /><br />This is a total of nine different teas, two tea bags of each one in each box. Numi teas are known for their high-quality, organic and kosher ingredients, and in my opinion, are some of the tastiest and best teas I have ever tried. They do not include artificial ingredients or flavorings.<br /><br />On the box, the manufacturer writes: \"From mist-covered mountains to sun-drenched deserts to fertile fields, we proudly bring you our tea palette. The flavors range from smooth earthiness, and light floral scents, to refreshingly sweet and sour notes. What they all share is the recollection of how some Ancient One tamed fire and water to coexist harmoniously, and steeped in them the gifts of Nature. Since that distant past, people have soothed, roused, healed, explored and celebrated with these wonderful infusions. We encourage you to do the same with Numi\\'s finest.\"<br /><br />The price is perfect, a big savings over single boxes. If you like Numi teas and want to sample a wonderful assortment, get it---you won\\'t be sorry. There may be some you like and others you don\\'t, but sampling them will be a delightful experience. If you are new to Numi this is an excellent way to sample their high-quality teas. I do not think you could find a better source of premium tea than Numi.<br /><br />Highly recommended.<br />*****'"
      ]
     },
     "execution_count": 231,
     "metadata": {},
     "output_type": "execute_result"
    }
   ],
   "source": [
    "df_reviews_copy=df_reviews.copy()\n",
    "# Check sample text\n",
    "df_reviews_copy['Summary_text'].loc[1] \n"
   ]
  },
  {
   "cell_type": "code",
   "execution_count": 232,
   "metadata": {},
   "outputs": [
    {
     "data": {
      "text/plain": [
       "'Organic Kosher Tasty Assortment of Premium Teas  Teasans br Numis Collection Assortment Melange includesbr 5 Herbal Teas caffeinefree also called teasansbr  Dry Desert Lime Lime Herbal Teasanbr  Fields of Gold Lemongrass Herbal Teasanbr  Red Mellow Bush Rooibos Herbal Teasanbr  Bushmens Brew Honeybush Herbal Teasanbr  Simply Mint Moroccan Mintbr br 2 Green Teas lower in caffeinebr  Temple of Heaven Gunpowder Green Teabr  Monkey King Jasmine Green Teabr br 2 Black Teas contain caffeinebr  Chinese Breakfast Yunnan Black Teabr  Smoky Tarry Lapsang Souchong Black Teabr br This is a total of nine different teas two tea bags of each one in each box Numi teas are known for their highquality organic and kosher ingredients and in my opinion are some of the tastiest and best teas I have ever tried They do not include artificial ingredients or flavoringsbr br On the box the manufacturer writes From mistcovered mountains to sundrenched deserts to fertile fields we proudly bring you our tea palette The flavors range from smooth earthiness and light floral scents to refreshingly sweet and sour notes What they all share is the recollection of how some Ancient One tamed fire and water to coexist harmoniously and steeped in them the gifts of Nature Since that distant past people have soothed roused healed explored and celebrated with these wonderful infusions We encourage you to do the same with Numis finestbr br The price is perfect a big savings over single boxes If you like Numi teas and want to sample a wonderful assortment get ityou wont be sorry There may be some you like and others you dont but sampling them will be a delightful experience If you are new to Numi this is an excellent way to sample their highquality teas I do not think you could find a better source of premium tea than Numibr br Highly recommendedbr '"
      ]
     },
     "execution_count": 232,
     "metadata": {},
     "output_type": "execute_result"
    }
   ],
   "source": [
    "df_reviews_copy=Remove_Special_Char(df_reviews_copy)\n",
    "df_reviews_copy=Calculate_Len_NoOfWords(df_reviews_copy)\n",
    "df_reviews_copy['Summary_text'].loc[1] "
   ]
  },
  {
   "cell_type": "code",
   "execution_count": 233,
   "metadata": {},
   "outputs": [
    {
     "data": {
      "text/plain": [
       "21756     21535\n",
       "66592     21535\n",
       "175574    21535\n",
       "388043    16991\n",
       "36341     13082\n",
       "61339     12563\n",
       "252436    12362\n",
       "328089    11362\n",
       "352693    10835\n",
       "78968     10834\n",
       "Name: length, dtype: int64"
      ]
     },
     "execution_count": 233,
     "metadata": {},
     "output_type": "execute_result"
    }
   ],
   "source": [
    "#Check change in largest 10 review length to see any effect\n",
    "df_reviews['length'].nlargest(10)"
   ]
  },
  {
   "cell_type": "code",
   "execution_count": 234,
   "metadata": {},
   "outputs": [
    {
     "data": {
      "text/plain": [
       "21756     20746\n",
       "66592     20746\n",
       "175574    20746\n",
       "388043    14955\n",
       "36341     12391\n",
       "61339     11991\n",
       "252436    11807\n",
       "328089    10746\n",
       "78968     10255\n",
       "352693    10255\n",
       "Name: length, dtype: int64"
      ]
     },
     "execution_count": 234,
     "metadata": {},
     "output_type": "execute_result"
    }
   ],
   "source": [
    "df_reviews_copy['length'].nlargest(10)"
   ]
  },
  {
   "cell_type": "code",
   "execution_count": 235,
   "metadata": {},
   "outputs": [
    {
     "data": {
      "text/plain": [
       "21756     3451\n",
       "66592     3451\n",
       "175574    3451\n",
       "388043    2526\n",
       "252436    2096\n",
       "61339     2070\n",
       "36341     2068\n",
       "328089    1908\n",
       "80478     1873\n",
       "248426    1822\n",
       "Name: word_count, dtype: int64"
      ]
     },
     "execution_count": 235,
     "metadata": {},
     "output_type": "execute_result"
    }
   ],
   "source": [
    "#Check change in largest 10 review word count to see any effect\n",
    "df_reviews['word_count'].nlargest(10)"
   ]
  },
  {
   "cell_type": "code",
   "execution_count": 236,
   "metadata": {},
   "outputs": [
    {
     "data": {
      "text/plain": [
       "21756     3433\n",
       "66592     3433\n",
       "175574    3433\n",
       "388043    2433\n",
       "252436    2070\n",
       "61339     2069\n",
       "36341     2048\n",
       "328089    1908\n",
       "80478     1872\n",
       "248426    1822\n",
       "Name: word_count, dtype: int64"
      ]
     },
     "execution_count": 236,
     "metadata": {},
     "output_type": "execute_result"
    }
   ],
   "source": [
    "df_reviews_copy['word_count'].nlargest(10)"
   ]
  },
  {
   "cell_type": "code",
   "execution_count": 237,
   "metadata": {},
   "outputs": [
    {
     "data": {
      "text/html": [
       "<div>\n",
       "<style scoped>\n",
       "    .dataframe tbody tr th:only-of-type {\n",
       "        vertical-align: middle;\n",
       "    }\n",
       "\n",
       "    .dataframe tbody tr th {\n",
       "        vertical-align: top;\n",
       "    }\n",
       "\n",
       "    .dataframe thead th {\n",
       "        text-align: right;\n",
       "    }\n",
       "</style>\n",
       "<table border=\"1\" class=\"dataframe\">\n",
       "  <thead>\n",
       "    <tr style=\"text-align: right;\">\n",
       "      <th></th>\n",
       "      <th>Score</th>\n",
       "      <th>Summary_text</th>\n",
       "      <th>length</th>\n",
       "      <th>word_count</th>\n",
       "      <th>length_change</th>\n",
       "      <th>wordcount_change</th>\n",
       "    </tr>\n",
       "  </thead>\n",
       "  <tbody>\n",
       "    <tr>\n",
       "      <th>0</th>\n",
       "      <td>5</td>\n",
       "      <td>Very Good I received this product early from t...</td>\n",
       "      <td>200</td>\n",
       "      <td>37</td>\n",
       "      <td>7</td>\n",
       "      <td>3</td>\n",
       "    </tr>\n",
       "    <tr>\n",
       "      <th>1</th>\n",
       "      <td>5</td>\n",
       "      <td>Organic Kosher Tasty Assortment of Premium Tea...</td>\n",
       "      <td>1836</td>\n",
       "      <td>308</td>\n",
       "      <td>162</td>\n",
       "      <td>11</td>\n",
       "    </tr>\n",
       "    <tr>\n",
       "      <th>2</th>\n",
       "      <td>5</td>\n",
       "      <td>excellent glutenfree spaghetti great taste gre...</td>\n",
       "      <td>1094</td>\n",
       "      <td>204</td>\n",
       "      <td>52</td>\n",
       "      <td>0</td>\n",
       "    </tr>\n",
       "    <tr>\n",
       "      <th>3</th>\n",
       "      <td>5</td>\n",
       "      <td>Lindt is Lindt Buying this multipack I was mis...</td>\n",
       "      <td>193</td>\n",
       "      <td>34</td>\n",
       "      <td>8</td>\n",
       "      <td>0</td>\n",
       "    </tr>\n",
       "    <tr>\n",
       "      <th>4</th>\n",
       "      <td>5</td>\n",
       "      <td>YUM These bars are so good I loved them warmed...</td>\n",
       "      <td>155</td>\n",
       "      <td>29</td>\n",
       "      <td>9</td>\n",
       "      <td>0</td>\n",
       "    </tr>\n",
       "  </tbody>\n",
       "</table>\n",
       "</div>"
      ],
      "text/plain": [
       "  Score                                       Summary_text  length  \\\n",
       "0     5  Very Good I received this product early from t...     200   \n",
       "1     5  Organic Kosher Tasty Assortment of Premium Tea...    1836   \n",
       "2     5  excellent glutenfree spaghetti great taste gre...    1094   \n",
       "3     5  Lindt is Lindt Buying this multipack I was mis...     193   \n",
       "4     5  YUM These bars are so good I loved them warmed...     155   \n",
       "\n",
       "   word_count  length_change  wordcount_change  \n",
       "0          37              7                 3  \n",
       "1         308            162                11  \n",
       "2         204             52                 0  \n",
       "3          34              8                 0  \n",
       "4          29              9                 0  "
      ]
     },
     "execution_count": 237,
     "metadata": {},
     "output_type": "execute_result"
    }
   ],
   "source": [
    "# To prove that removing the html tag has an effect we can calcualate average reduction in length and word count\n",
    "\n",
    "\n",
    "df_reviews_copy['length_change']=df_reviews['length']-df_reviews_copy['length']\n",
    "df_reviews_copy['wordcount_change']=df_reviews['word_count']-df_reviews_copy['word_count']\n",
    "\n",
    "df_reviews_copy.head()"
   ]
  },
  {
   "cell_type": "code",
   "execution_count": 238,
   "metadata": {},
   "outputs": [
    {
     "name": "stdout",
     "output_type": "stream",
     "text": [
      "Average reduction in length per review is 18.286302012478302 characters\n"
     ]
    }
   ],
   "source": [
    "print('Average reduction in length per review is',df_reviews_copy['length_change'].sum()/(len(df_reviews_copy['length_change'])),'characters')\n"
   ]
  },
  {
   "cell_type": "code",
   "execution_count": 239,
   "metadata": {},
   "outputs": [
    {
     "name": "stdout",
     "output_type": "stream",
     "text": [
      "Average reduction in number of words per review is 0.39763334427921376 words\n"
     ]
    }
   ],
   "source": [
    "print('Average reduction in number of words per review is',df_reviews_copy['wordcount_change'].sum()/(len(df_reviews_copy['wordcount_change'])),'words')\n"
   ]
  },
  {
   "cell_type": "markdown",
   "metadata": {},
   "source": [
    "### d) Remove Stop words  from original frame"
   ]
  },
  {
   "cell_type": "code",
   "execution_count": 15,
   "metadata": {},
   "outputs": [
    {
     "data": {
      "text/plain": [
       "'Organic, Kosher, Tasty Assortment of Premium Teas & Teasans *****<br />Numi\\'s Collection Assortment Melange includes:<br />5 Herbal Teas (caffeine-free, also called \"teasans\"):<br />* Dry Desert Lime: Lime Herbal Teasan<br />* Fields of Gold: Lemongrass Herbal Teasan<br />* Red Mellow Bush: Rooibos Herbal Teasan<br />* Bushmen\\'s Brew: Honeybush Herbal Teasan<br />* Simply Mint: Moroccan Mint<br /><br />2 Green Teas (lower in caffeine):<br />* Temple of Heaven: Gunpowder Green Tea<br />* Monkey King: Jasmine Green Tea<br /><br />2 Black Teas (contain caffeine):<br />* Chinese Breakfast: Yunnan Black Tea<br />* Smoky Tarry: Lapsang Souchong Black Tea<br /><br />This is a total of nine different teas, two tea bags of each one in each box. Numi teas are known for their high-quality, organic and kosher ingredients, and in my opinion, are some of the tastiest and best teas I have ever tried. They do not include artificial ingredients or flavorings.<br /><br />On the box, the manufacturer writes: \"From mist-covered mountains to sun-drenched deserts to fertile fields, we proudly bring you our tea palette. The flavors range from smooth earthiness, and light floral scents, to refreshingly sweet and sour notes. What they all share is the recollection of how some Ancient One tamed fire and water to coexist harmoniously, and steeped in them the gifts of Nature. Since that distant past, people have soothed, roused, healed, explored and celebrated with these wonderful infusions. We encourage you to do the same with Numi\\'s finest.\"<br /><br />The price is perfect, a big savings over single boxes. If you like Numi teas and want to sample a wonderful assortment, get it---you won\\'t be sorry. There may be some you like and others you don\\'t, but sampling them will be a delightful experience. If you are new to Numi this is an excellent way to sample their high-quality teas. I do not think you could find a better source of premium tea than Numi.<br /><br />Highly recommended.<br />*****'"
      ]
     },
     "execution_count": 15,
     "metadata": {},
     "output_type": "execute_result"
    }
   ],
   "source": [
    "df_reviews_copy=df_reviews.copy()\n",
    "# Check sample text\n",
    "df_reviews_copy['Summary_text'].loc[1] \n"
   ]
  },
  {
   "cell_type": "code",
   "execution_count": 261,
   "metadata": {},
   "outputs": [
    {
     "data": {
      "text/plain": [
       "'organic, kosher, tasty assortment premium teas & teasans *****<br />numi\\'s collection assortment melange includes:<br />5 herbal teas (caffeine-free, also called \"teasans\"):<br />* dry desert lime: lime herbal teasan<br />* fields gold: lemongrass herbal teasan<br />* red mellow bush: rooibos herbal teasan<br />* bushmen\\'s brew: honeybush herbal teasan<br />* simply mint: moroccan mint<br /><br />2 green teas (lower caffeine):<br />* temple heaven: gunpowder green tea<br />* monkey king: jasmine green tea<br /><br />2 black teas (contain caffeine):<br />* chinese breakfast: yunnan black tea<br />* smoky tarry: lapsang souchong black tea<br /><br />this total nine different teas, two tea bags one box. numi teas known high-quality, organic kosher ingredients, opinion, tastiest best teas ever tried. include artificial ingredients flavorings.<br /><br />on box, manufacturer writes: \"from mist-covered mountains sun-drenched deserts fertile fields, proudly bring tea palette. flavors range smooth earthiness, light floral scents, refreshingly sweet sour notes. share recollection ancient one tamed fire water coexist harmoniously, steeped gifts nature. since distant past, people soothed, roused, healed, explored celebrated wonderful infusions. encourage numi\\'s finest.\"<br /><br />the price perfect, big savings single boxes. like numi teas want sample wonderful assortment, get it---you sorry. may like others don\\'t, sampling delightful experience. new numi excellent way sample high-quality teas. think could find better source premium tea numi.<br /><br />highly recommended.<br />*****'"
      ]
     },
     "execution_count": 261,
     "metadata": {},
     "output_type": "execute_result"
    }
   ],
   "source": [
    "df_reviews_copy=Remove_Stopwords(df_reviews_copy)\n",
    "df_reviews_copy=Calculate_Len_NoOfWords(df_reviews_copy)\n",
    "df_reviews_copy['Summary_text'].loc[1] "
   ]
  },
  {
   "cell_type": "code",
   "execution_count": 262,
   "metadata": {},
   "outputs": [
    {
     "data": {
      "text/plain": [
       "21756     21535\n",
       "66592     21535\n",
       "175574    21535\n",
       "388043    16991\n",
       "36341     13082\n",
       "61339     12563\n",
       "252436    12362\n",
       "328089    11362\n",
       "352693    10835\n",
       "78968     10834\n",
       "Name: length, dtype: int64"
      ]
     },
     "execution_count": 262,
     "metadata": {},
     "output_type": "execute_result"
    }
   ],
   "source": [
    "#Check change in largest 10 review length to see any effect\n",
    "df_reviews['length'].nlargest(10)"
   ]
  },
  {
   "cell_type": "code",
   "execution_count": 263,
   "metadata": {},
   "outputs": [
    {
     "data": {
      "text/plain": [
       "21756     15969\n",
       "66592     15969\n",
       "175574    15969\n",
       "388043    13705\n",
       "36341     10459\n",
       "61339      9044\n",
       "252436     8906\n",
       "328089     8470\n",
       "352693     8432\n",
       "78968      8431\n",
       "Name: length, dtype: int64"
      ]
     },
     "execution_count": 263,
     "metadata": {},
     "output_type": "execute_result"
    }
   ],
   "source": [
    "df_reviews_copy['length'].nlargest(10)"
   ]
  },
  {
   "cell_type": "code",
   "execution_count": 264,
   "metadata": {},
   "outputs": [
    {
     "data": {
      "text/plain": [
       "21756     3451\n",
       "66592     3451\n",
       "175574    3451\n",
       "388043    2526\n",
       "252436    2096\n",
       "61339     2070\n",
       "36341     2068\n",
       "328089    1908\n",
       "80478     1873\n",
       "248426    1822\n",
       "Name: word_count, dtype: int64"
      ]
     },
     "execution_count": 264,
     "metadata": {},
     "output_type": "execute_result"
    }
   ],
   "source": [
    "#Check change in largest 10 review word count to see any effect\n",
    "df_reviews['word_count'].nlargest(10)"
   ]
  },
  {
   "cell_type": "code",
   "execution_count": 265,
   "metadata": {},
   "outputs": [
    {
     "data": {
      "text/plain": [
       "21756     2054\n",
       "66592     2054\n",
       "175574    2054\n",
       "388043    1694\n",
       "36341     1364\n",
       "252436    1214\n",
       "61339     1168\n",
       "328089    1157\n",
       "78968     1124\n",
       "352693    1124\n",
       "Name: word_count, dtype: int64"
      ]
     },
     "execution_count": 265,
     "metadata": {},
     "output_type": "execute_result"
    }
   ],
   "source": [
    "df_reviews_copy['word_count'].nlargest(10)"
   ]
  },
  {
   "cell_type": "code",
   "execution_count": 266,
   "metadata": {},
   "outputs": [
    {
     "data": {
      "text/html": [
       "<div>\n",
       "<style scoped>\n",
       "    .dataframe tbody tr th:only-of-type {\n",
       "        vertical-align: middle;\n",
       "    }\n",
       "\n",
       "    .dataframe tbody tr th {\n",
       "        vertical-align: top;\n",
       "    }\n",
       "\n",
       "    .dataframe thead th {\n",
       "        text-align: right;\n",
       "    }\n",
       "</style>\n",
       "<table border=\"1\" class=\"dataframe\">\n",
       "  <thead>\n",
       "    <tr style=\"text-align: right;\">\n",
       "      <th></th>\n",
       "      <th>Score</th>\n",
       "      <th>Summary_text</th>\n",
       "      <th>length</th>\n",
       "      <th>word_count</th>\n",
       "      <th>length_change</th>\n",
       "      <th>wordcount_change</th>\n",
       "    </tr>\n",
       "  </thead>\n",
       "  <tbody>\n",
       "    <tr>\n",
       "      <th>0</th>\n",
       "      <td>5</td>\n",
       "      <td>good received product early seller! tastey &amp; g...</td>\n",
       "      <td>120</td>\n",
       "      <td>19</td>\n",
       "      <td>87</td>\n",
       "      <td>21</td>\n",
       "    </tr>\n",
       "    <tr>\n",
       "      <th>1</th>\n",
       "      <td>5</td>\n",
       "      <td>organic, kosher, tasty assortment premium teas...</td>\n",
       "      <td>1599</td>\n",
       "      <td>214</td>\n",
       "      <td>399</td>\n",
       "      <td>105</td>\n",
       "    </tr>\n",
       "    <tr>\n",
       "      <th>2</th>\n",
       "      <td>5</td>\n",
       "      <td>excellent gluten-free spaghetti: great taste, ...</td>\n",
       "      <td>790</td>\n",
       "      <td>109</td>\n",
       "      <td>356</td>\n",
       "      <td>95</td>\n",
       "    </tr>\n",
       "    <tr>\n",
       "      <th>3</th>\n",
       "      <td>5</td>\n",
       "      <td>lindt lindt buying multi-pack misled picture w...</td>\n",
       "      <td>147</td>\n",
       "      <td>19</td>\n",
       "      <td>54</td>\n",
       "      <td>15</td>\n",
       "    </tr>\n",
       "    <tr>\n",
       "      <th>4</th>\n",
       "      <td>5</td>\n",
       "      <td>yum!!!!! bars good! loved warmed up! definitel...</td>\n",
       "      <td>111</td>\n",
       "      <td>15</td>\n",
       "      <td>53</td>\n",
       "      <td>14</td>\n",
       "    </tr>\n",
       "  </tbody>\n",
       "</table>\n",
       "</div>"
      ],
      "text/plain": [
       "  Score                                       Summary_text  length  \\\n",
       "0     5  good received product early seller! tastey & g...     120   \n",
       "1     5  organic, kosher, tasty assortment premium teas...    1599   \n",
       "2     5  excellent gluten-free spaghetti: great taste, ...     790   \n",
       "3     5  lindt lindt buying multi-pack misled picture w...     147   \n",
       "4     5  yum!!!!! bars good! loved warmed up! definitel...     111   \n",
       "\n",
       "   word_count  length_change  wordcount_change  \n",
       "0          19             87                21  \n",
       "1         214            399               105  \n",
       "2         109            356                95  \n",
       "3          19             54                15  \n",
       "4          15             53                14  "
      ]
     },
     "execution_count": 266,
     "metadata": {},
     "output_type": "execute_result"
    }
   ],
   "source": [
    "# To prove that removing the special characters has an effect we can calcualate average reduction in length and word count\n",
    "\n",
    "\n",
    "df_reviews_copy['length_change']=df_reviews['length']-df_reviews_copy['length']\n",
    "df_reviews_copy['wordcount_change']=df_reviews['word_count']-df_reviews_copy['word_count']\n",
    "\n",
    "df_reviews_copy.head()"
   ]
  },
  {
   "cell_type": "code",
   "execution_count": 267,
   "metadata": {},
   "outputs": [
    {
     "name": "stdout",
     "output_type": "stream",
     "text": [
      "Average reduction in length per review is 147.06529999530892 characters\n"
     ]
    }
   ],
   "source": [
    "print('Average reduction in length per review is',df_reviews_copy['length_change'].sum()/(len(df_reviews_copy['length_change'])),'characters')\n",
    "\n"
   ]
  },
  {
   "cell_type": "code",
   "execution_count": 268,
   "metadata": {},
   "outputs": [
    {
     "name": "stdout",
     "output_type": "stream",
     "text": [
      "Average reduction in number of words per review is 38.25318994229957 words\n"
     ]
    }
   ],
   "source": [
    "print('Average reduction in number of words per review is',df_reviews_copy['wordcount_change'].sum()/(len(df_reviews_copy['wordcount_change'])),'words')\n",
    "\n"
   ]
  },
  {
   "cell_type": "code",
   "execution_count": null,
   "metadata": {},
   "outputs": [],
   "source": []
  },
  {
   "cell_type": "markdown",
   "metadata": {},
   "source": [
    "### e) Before and after comparison when all preprocessing techniques are applied together"
   ]
  },
  {
   "cell_type": "code",
   "execution_count": 16,
   "metadata": {},
   "outputs": [
    {
     "data": {
      "text/plain": [
       "'Organic, Kosher, Tasty Assortment of Premium Teas & Teasans *****<br />Numi\\'s Collection Assortment Melange includes:<br />5 Herbal Teas (caffeine-free, also called \"teasans\"):<br />* Dry Desert Lime: Lime Herbal Teasan<br />* Fields of Gold: Lemongrass Herbal Teasan<br />* Red Mellow Bush: Rooibos Herbal Teasan<br />* Bushmen\\'s Brew: Honeybush Herbal Teasan<br />* Simply Mint: Moroccan Mint<br /><br />2 Green Teas (lower in caffeine):<br />* Temple of Heaven: Gunpowder Green Tea<br />* Monkey King: Jasmine Green Tea<br /><br />2 Black Teas (contain caffeine):<br />* Chinese Breakfast: Yunnan Black Tea<br />* Smoky Tarry: Lapsang Souchong Black Tea<br /><br />This is a total of nine different teas, two tea bags of each one in each box. Numi teas are known for their high-quality, organic and kosher ingredients, and in my opinion, are some of the tastiest and best teas I have ever tried. They do not include artificial ingredients or flavorings.<br /><br />On the box, the manufacturer writes: \"From mist-covered mountains to sun-drenched deserts to fertile fields, we proudly bring you our tea palette. The flavors range from smooth earthiness, and light floral scents, to refreshingly sweet and sour notes. What they all share is the recollection of how some Ancient One tamed fire and water to coexist harmoniously, and steeped in them the gifts of Nature. Since that distant past, people have soothed, roused, healed, explored and celebrated with these wonderful infusions. We encourage you to do the same with Numi\\'s finest.\"<br /><br />The price is perfect, a big savings over single boxes. If you like Numi teas and want to sample a wonderful assortment, get it---you won\\'t be sorry. There may be some you like and others you don\\'t, but sampling them will be a delightful experience. If you are new to Numi this is an excellent way to sample their high-quality teas. I do not think you could find a better source of premium tea than Numi.<br /><br />Highly recommended.<br />*****'"
      ]
     },
     "execution_count": 16,
     "metadata": {},
     "output_type": "execute_result"
    }
   ],
   "source": [
    "df_reviews_p=df_reviews.copy()\n",
    "# Check sample text\n",
    "df_reviews_p['Summary_text'].loc[1] "
   ]
  },
  {
   "cell_type": "code",
   "execution_count": 17,
   "metadata": {},
   "outputs": [
    {
     "data": {
      "text/plain": [
       "'organic kosher tasty assortment premium teas teasans numis collection assortment melange includes 5 herbal teas caffeinefree also called teasans dry desert lime lime herbal teasan fields gold lemongrass herbal teasan red mellow bush rooibos herbal teasan bushmens brew honeybush herbal teasan simply mint moroccan mint 2 green teas lower caffeine temple heaven gunpowder green tea monkey king jasmine green tea 2 black teas contain caffeine chinese breakfast yunnan black tea smoky tarry lapsang souchong black tea total nine different teas two tea bags one box numi teas known highquality organic kosher ingredients opinion tastiest best teas ever tried include artificial ingredients flavorings box manufacturer writes mistcovered mountains sundrenched deserts fertile fields proudly bring tea palette flavors range smooth earthiness light floral scents refreshingly sweet sour notes share recollection ancient one tamed fire water coexist harmoniously steeped gifts nature since distant past people soothed roused healed explored celebrated wonderful infusions encourage numis finest price perfect big savings single boxes like numi teas want sample wonderful assortment get ityou wont sorry may like others dont sampling delightful experience new numi excellent way sample highquality teas think could find better source premium tea numi highly recommended'"
      ]
     },
     "execution_count": 17,
     "metadata": {},
     "output_type": "execute_result"
    }
   ],
   "source": [
    "df_reviews_p=Perform_Preprocessing(df_reviews_p)\n",
    "df_reviews_p=Calculate_Len_NoOfWords(df_reviews_p)\n",
    "df_reviews_p['Summary_text'].loc[1] "
   ]
  },
  {
   "cell_type": "code",
   "execution_count": 271,
   "metadata": {},
   "outputs": [
    {
     "data": {
      "text/plain": [
       "21756     21535\n",
       "66592     21535\n",
       "175574    21535\n",
       "388043    16991\n",
       "36341     13082\n",
       "61339     12563\n",
       "252436    12362\n",
       "328089    11362\n",
       "352693    10835\n",
       "78968     10834\n",
       "Name: length, dtype: int64"
      ]
     },
     "execution_count": 271,
     "metadata": {},
     "output_type": "execute_result"
    }
   ],
   "source": [
    "#Check change in largest 10 review length to see any effect\n",
    "df_reviews['length'].nlargest(10)"
   ]
  },
  {
   "cell_type": "code",
   "execution_count": 272,
   "metadata": {},
   "outputs": [
    {
     "data": {
      "text/plain": [
       "21756     14827\n",
       "66592     14827\n",
       "175574    14827\n",
       "388043    11094\n",
       "36341      9474\n",
       "61339      8186\n",
       "252436     8105\n",
       "78968      7598\n",
       "352693     7598\n",
       "328089     7529\n",
       "Name: length, dtype: int64"
      ]
     },
     "execution_count": 272,
     "metadata": {},
     "output_type": "execute_result"
    }
   ],
   "source": [
    "df_reviews_p['length'].nlargest(10)"
   ]
  },
  {
   "cell_type": "code",
   "execution_count": 273,
   "metadata": {},
   "outputs": [
    {
     "data": {
      "text/plain": [
       "21756     3451\n",
       "66592     3451\n",
       "175574    3451\n",
       "388043    2526\n",
       "252436    2096\n",
       "61339     2070\n",
       "36341     2068\n",
       "328089    1908\n",
       "80478     1873\n",
       "248426    1822\n",
       "Name: word_count, dtype: int64"
      ]
     },
     "execution_count": 273,
     "metadata": {},
     "output_type": "execute_result"
    }
   ],
   "source": [
    "#Check change in largest 10 review word count to see any effect\n",
    "df_reviews['word_count'].nlargest(10)"
   ]
  },
  {
   "cell_type": "code",
   "execution_count": 274,
   "metadata": {},
   "outputs": [
    {
     "data": {
      "text/plain": [
       "21756     1965\n",
       "66592     1965\n",
       "175574    1965\n",
       "388043    1518\n",
       "36341     1287\n",
       "252436    1138\n",
       "61339     1106\n",
       "328089    1078\n",
       "78968     1068\n",
       "352693    1068\n",
       "Name: word_count, dtype: int64"
      ]
     },
     "execution_count": 274,
     "metadata": {},
     "output_type": "execute_result"
    }
   ],
   "source": [
    "df_reviews_p['word_count'].nlargest(10)"
   ]
  },
  {
   "cell_type": "code",
   "execution_count": 18,
   "metadata": {},
   "outputs": [
    {
     "data": {
      "text/html": [
       "<div>\n",
       "<style scoped>\n",
       "    .dataframe tbody tr th:only-of-type {\n",
       "        vertical-align: middle;\n",
       "    }\n",
       "\n",
       "    .dataframe tbody tr th {\n",
       "        vertical-align: top;\n",
       "    }\n",
       "\n",
       "    .dataframe thead th {\n",
       "        text-align: right;\n",
       "    }\n",
       "</style>\n",
       "<table border=\"1\" class=\"dataframe\">\n",
       "  <thead>\n",
       "    <tr style=\"text-align: right;\">\n",
       "      <th></th>\n",
       "      <th>Score</th>\n",
       "      <th>Summary_text</th>\n",
       "      <th>length</th>\n",
       "      <th>word_count</th>\n",
       "      <th>length_change</th>\n",
       "      <th>wordcount_change</th>\n",
       "    </tr>\n",
       "  </thead>\n",
       "  <tbody>\n",
       "    <tr>\n",
       "      <th>0</th>\n",
       "      <td>5</td>\n",
       "      <td>good received product early seller tastey grea...</td>\n",
       "      <td>110</td>\n",
       "      <td>16</td>\n",
       "      <td>97</td>\n",
       "      <td>24</td>\n",
       "    </tr>\n",
       "    <tr>\n",
       "      <th>1</th>\n",
       "      <td>5</td>\n",
       "      <td>organic kosher tasty assortment premium teas t...</td>\n",
       "      <td>1360</td>\n",
       "      <td>193</td>\n",
       "      <td>638</td>\n",
       "      <td>126</td>\n",
       "    </tr>\n",
       "    <tr>\n",
       "      <th>2</th>\n",
       "      <td>5</td>\n",
       "      <td>excellent glutenfree spaghetti great taste gre...</td>\n",
       "      <td>702</td>\n",
       "      <td>101</td>\n",
       "      <td>444</td>\n",
       "      <td>103</td>\n",
       "    </tr>\n",
       "    <tr>\n",
       "      <th>3</th>\n",
       "      <td>5</td>\n",
       "      <td>lindt lindt buying multipack misled picture wh...</td>\n",
       "      <td>139</td>\n",
       "      <td>19</td>\n",
       "      <td>62</td>\n",
       "      <td>15</td>\n",
       "    </tr>\n",
       "    <tr>\n",
       "      <th>4</th>\n",
       "      <td>5</td>\n",
       "      <td>yum bars good loved warmed definitely think gr...</td>\n",
       "      <td>99</td>\n",
       "      <td>14</td>\n",
       "      <td>65</td>\n",
       "      <td>15</td>\n",
       "    </tr>\n",
       "  </tbody>\n",
       "</table>\n",
       "</div>"
      ],
      "text/plain": [
       "  Score                                       Summary_text  length  \\\n",
       "0     5  good received product early seller tastey grea...     110   \n",
       "1     5  organic kosher tasty assortment premium teas t...    1360   \n",
       "2     5  excellent glutenfree spaghetti great taste gre...     702   \n",
       "3     5  lindt lindt buying multipack misled picture wh...     139   \n",
       "4     5  yum bars good loved warmed definitely think gr...      99   \n",
       "\n",
       "   word_count  length_change  wordcount_change  \n",
       "0          16             97                24  \n",
       "1         193            638               126  \n",
       "2         101            444               103  \n",
       "3          19             62                15  \n",
       "4          14             65                15  "
      ]
     },
     "execution_count": 18,
     "metadata": {},
     "output_type": "execute_result"
    }
   ],
   "source": [
    "# To prove that preprocessing has an effect we can calcualate average reduction in length and word count\n",
    "\n",
    "\n",
    "df_reviews_p['length_change']=df_reviews['length']-df_reviews_p['length']\n",
    "df_reviews_p['wordcount_change']=df_reviews['word_count']-df_reviews_p['word_count']\n",
    "\n",
    "df_reviews_p.head()\n"
   ]
  },
  {
   "cell_type": "code",
   "execution_count": 19,
   "metadata": {},
   "outputs": [
    {
     "name": "stdout",
     "output_type": "stream",
     "text": [
      "Average reduction in length per review is 172.21420697096215 characters\n"
     ]
    }
   ],
   "source": [
    "print('Average reduction in length per review is',df_reviews_p['length_change'].sum()/(len(df_reviews_p['length_change'])),'characters')\n",
    "\n",
    "\n"
   ]
  },
  {
   "cell_type": "code",
   "execution_count": 20,
   "metadata": {},
   "outputs": [
    {
     "name": "stdout",
     "output_type": "stream",
     "text": [
      "Average reduction in number of words per review is 40.49343481728198 words\n"
     ]
    }
   ],
   "source": [
    "print('Average reduction in number of words per review is',df_reviews_p['wordcount_change'].sum()/(len(df_reviews_p['wordcount_change'])),'words')\n",
    "\n",
    "\n"
   ]
  },
  {
   "cell_type": "markdown",
   "metadata": {},
   "source": [
    "Distribution of words before and after preprocessing"
   ]
  },
  {
   "cell_type": "code",
   "execution_count": 297,
   "metadata": {},
   "outputs": [
    {
     "data": {
      "image/png": "[encoded data removed]",
      "text/plain": [
       "<Figure size 432x288 with 1 Axes>"
      ]
     },
     "metadata": {
      "needs_background": "light"
     },
     "output_type": "display_data"
    }
   ],
   "source": [
    "# BEFORE\n",
    "\n",
    "plt.hist(df_reviews[df_reviews.word_count<1000]['word_count'],25,\n",
    "         histtype='bar',\n",
    "         facecolor='b',\n",
    "         alpha=0.75)\n",
    "plt.title('Distribution of word count before preprocessing')\n",
    "\n",
    "plt.show()"
   ]
  },
  {
   "cell_type": "code",
   "execution_count": 301,
   "metadata": {},
   "outputs": [
    {
     "data": {
      "image/png": "[encoded data removed]",
      "text/plain": [
       "<Figure size 432x288 with 1 Axes>"
      ]
     },
     "metadata": {
      "needs_background": "light"
     },
     "output_type": "display_data"
    }
   ],
   "source": [
    "#AFTER \n",
    "plt.hist(df_reviews_p[df_reviews_p.word_count<1000]['word_count'],25,\n",
    "         histtype='bar',\n",
    "         facecolor='b',\n",
    "         alpha=0.75)\n",
    "plt.title('Distribution of word count after preprocessing ')\n",
    "plt.show()"
   ]
  },
  {
   "cell_type": "markdown",
   "metadata": {},
   "source": [
    "Top words before and after preprocessing"
   ]
  },
  {
   "cell_type": "code",
   "execution_count": 290,
   "metadata": {},
   "outputs": [],
   "source": []
  },
  {
   "cell_type": "code",
   "execution_count": 291,
   "metadata": {},
   "outputs": [
    {
     "data": {
      "image/png": "[encoded data removed]",
      "text/plain": [
       "<Figure size 1440x360 with 1 Axes>"
      ]
     },
     "metadata": {
      "needs_background": "light"
     },
     "output_type": "display_data"
    }
   ],
   "source": [
    "freq_words(df_reviews['Summary_text']) # BEFORE"
   ]
  },
  {
   "cell_type": "code",
   "execution_count": 292,
   "metadata": {},
   "outputs": [
    {
     "data": {
      "image/png": "[encoded data removed]",
      "text/plain": [
       "<Figure size 1440x360 with 1 Axes>"
      ]
     },
     "metadata": {
      "needs_background": "light"
     },
     "output_type": "display_data"
    }
   ],
   "source": [
    "freq_words(df_reviews_p['Summary_text']) #AFTER"
   ]
  },
  {
   "cell_type": "code",
   "execution_count": null,
   "metadata": {},
   "outputs": [],
   "source": []
  },
  {
   "cell_type": "markdown",
   "metadata": {},
   "source": [
    "## 2.Normalization Experiments"
   ]
  },
  {
   "cell_type": "markdown",
   "metadata": {},
   "source": [
    "### a) Stemming"
   ]
  },
  {
   "cell_type": "code",
   "execution_count": 21,
   "metadata": {},
   "outputs": [],
   "source": [
    "df_reviews_p_s=df_reviews_p.copy()"
   ]
  },
  {
   "cell_type": "code",
   "execution_count": 22,
   "metadata": {},
   "outputs": [
    {
     "data": {
      "text/html": [
       "<div>\n",
       "<style scoped>\n",
       "    .dataframe tbody tr th:only-of-type {\n",
       "        vertical-align: middle;\n",
       "    }\n",
       "\n",
       "    .dataframe tbody tr th {\n",
       "        vertical-align: top;\n",
       "    }\n",
       "\n",
       "    .dataframe thead th {\n",
       "        text-align: right;\n",
       "    }\n",
       "</style>\n",
       "<table border=\"1\" class=\"dataframe\">\n",
       "  <thead>\n",
       "    <tr style=\"text-align: right;\">\n",
       "      <th></th>\n",
       "      <th>Score</th>\n",
       "      <th>Summary_text</th>\n",
       "      <th>length</th>\n",
       "      <th>word_count</th>\n",
       "      <th>length_change</th>\n",
       "      <th>wordcount_change</th>\n",
       "    </tr>\n",
       "  </thead>\n",
       "  <tbody>\n",
       "    <tr>\n",
       "      <th>0</th>\n",
       "      <td>5</td>\n",
       "      <td>good received product early seller tastey grea...</td>\n",
       "      <td>110</td>\n",
       "      <td>16</td>\n",
       "      <td>97</td>\n",
       "      <td>24</td>\n",
       "    </tr>\n",
       "    <tr>\n",
       "      <th>1</th>\n",
       "      <td>5</td>\n",
       "      <td>organic kosher tasty assortment premium teas t...</td>\n",
       "      <td>1360</td>\n",
       "      <td>193</td>\n",
       "      <td>638</td>\n",
       "      <td>126</td>\n",
       "    </tr>\n",
       "    <tr>\n",
       "      <th>2</th>\n",
       "      <td>5</td>\n",
       "      <td>excellent glutenfree spaghetti great taste gre...</td>\n",
       "      <td>702</td>\n",
       "      <td>101</td>\n",
       "      <td>444</td>\n",
       "      <td>103</td>\n",
       "    </tr>\n",
       "    <tr>\n",
       "      <th>3</th>\n",
       "      <td>5</td>\n",
       "      <td>lindt lindt buying multipack misled picture wh...</td>\n",
       "      <td>139</td>\n",
       "      <td>19</td>\n",
       "      <td>62</td>\n",
       "      <td>15</td>\n",
       "    </tr>\n",
       "    <tr>\n",
       "      <th>4</th>\n",
       "      <td>5</td>\n",
       "      <td>yum bars good loved warmed definitely think gr...</td>\n",
       "      <td>99</td>\n",
       "      <td>14</td>\n",
       "      <td>65</td>\n",
       "      <td>15</td>\n",
       "    </tr>\n",
       "  </tbody>\n",
       "</table>\n",
       "</div>"
      ],
      "text/plain": [
       "  Score                                       Summary_text  length  \\\n",
       "0     5  good received product early seller tastey grea...     110   \n",
       "1     5  organic kosher tasty assortment premium teas t...    1360   \n",
       "2     5  excellent glutenfree spaghetti great taste gre...     702   \n",
       "3     5  lindt lindt buying multipack misled picture wh...     139   \n",
       "4     5  yum bars good loved warmed definitely think gr...      99   \n",
       "\n",
       "   word_count  length_change  wordcount_change  \n",
       "0          16             97                24  \n",
       "1         193            638               126  \n",
       "2         101            444               103  \n",
       "3          19             62                15  \n",
       "4          14             65                15  "
      ]
     },
     "execution_count": 22,
     "metadata": {},
     "output_type": "execute_result"
    }
   ],
   "source": [
    "df_reviews_p_s.head()"
   ]
  },
  {
   "cell_type": "code",
   "execution_count": 305,
   "metadata": {},
   "outputs": [],
   "source": []
  },
  {
   "cell_type": "code",
   "execution_count": 306,
   "metadata": {},
   "outputs": [],
   "source": []
  },
  {
   "cell_type": "code",
   "execution_count": 23,
   "metadata": {},
   "outputs": [
    {
     "data": {
      "text/plain": [
       "'organic kosher tasty assortment premium teas teasans numis collection assortment melange includes 5 herbal teas caffeinefree also called teasans dry desert lime lime herbal teasan fields gold lemongrass herbal teasan red mellow bush rooibos herbal teasan bushmens brew honeybush herbal teasan simply mint moroccan mint 2 green teas lower caffeine temple heaven gunpowder green tea monkey king jasmine green tea 2 black teas contain caffeine chinese breakfast yunnan black tea smoky tarry lapsang souchong black tea total nine different teas two tea bags one box numi teas known highquality organic kosher ingredients opinion tastiest best teas ever tried include artificial ingredients flavorings box manufacturer writes mistcovered mountains sundrenched deserts fertile fields proudly bring tea palette flavors range smooth earthiness light floral scents refreshingly sweet sour notes share recollection ancient one tamed fire water coexist harmoniously steeped gifts nature since distant past people soothed roused healed explored celebrated wonderful infusions encourage numis finest price perfect big savings single boxes like numi teas want sample wonderful assortment get ityou wont sorry may like others dont sampling delightful experience new numi excellent way sample highquality teas think could find better source premium tea numi highly recommended'"
      ]
     },
     "execution_count": 23,
     "metadata": {},
     "output_type": "execute_result"
    }
   ],
   "source": [
    "df_reviews_p['Summary_text'].loc[1]"
   ]
  },
  {
   "cell_type": "code",
   "execution_count": 24,
   "metadata": {},
   "outputs": [],
   "source": [
    "df_reviews_p_s['Summary_text'] = Perform_Stemming(df_reviews_p_s['Summary_text'])"
   ]
  },
  {
   "cell_type": "code",
   "execution_count": 308,
   "metadata": {},
   "outputs": [
    {
     "data": {
      "text/plain": [
       "'organ kosher tasti assort premium tea teasan numi collect assort melang includ 5 herbal tea caffeinefre also call teasan dri desert lime lime herbal teasan field gold lemongrass herbal teasan red mellow bush rooibo herbal teasan bushmen brew honeybush herbal teasan simpli mint moroccan mint 2 green tea lower caffein templ heaven gunpowd green tea monkey king jasmin green tea 2 black tea contain caffein chines breakfast yunnan black tea smoki tarri lapsang souchong black tea total nine differ tea two tea bag one box numi tea known highqual organ kosher ingredi opinion tastiest best tea ever tri includ artifici ingredi flavor box manufactur write mistcov mountain sundrench desert fertil field proudli bring tea palett flavor rang smooth earthi light floral scent refreshingli sweet sour note share recollect ancient one tame fire water coexist harmoni steep gift natur sinc distant past peopl sooth rous heal explor celebr wonder infus encourag numi finest price perfect big save singl box like numi tea want sampl wonder assort get ityou wont sorri may like other dont sampl delight experi new numi excel way sampl highqual tea think could find better sourc premium tea numi highli recommend'"
      ]
     },
     "execution_count": 308,
     "metadata": {},
     "output_type": "execute_result"
    }
   ],
   "source": [
    "df_reviews_p_s=Calculate_Len_NoOfWords(df_reviews_p_s)\n",
    "df_reviews_p_s['Summary_text'].loc[1]"
   ]
  },
  {
   "cell_type": "code",
   "execution_count": 309,
   "metadata": {},
   "outputs": [
    {
     "data": {
      "text/plain": [
       "21756     14827\n",
       "66592     14827\n",
       "175574    14827\n",
       "388043    11094\n",
       "36341      9474\n",
       "61339      8186\n",
       "252436     8105\n",
       "78968      7598\n",
       "352693     7598\n",
       "328089     7529\n",
       "Name: length, dtype: int64"
      ]
     },
     "execution_count": 309,
     "metadata": {},
     "output_type": "execute_result"
    }
   ],
   "source": [
    "#Check change in largest 10 review length to see any effect\n",
    "df_reviews_p['length'].nlargest(10)"
   ]
  },
  {
   "cell_type": "code",
   "execution_count": 310,
   "metadata": {},
   "outputs": [
    {
     "data": {
      "text/plain": [
       "21756     12861\n",
       "66592     12861\n",
       "175574    12861\n",
       "388043     9677\n",
       "36341      8230\n",
       "61339      7114\n",
       "252436     7043\n",
       "328089     6828\n",
       "247696     6679\n",
       "78968      6669\n",
       "Name: length, dtype: int64"
      ]
     },
     "execution_count": 310,
     "metadata": {},
     "output_type": "execute_result"
    }
   ],
   "source": [
    "df_reviews_p_s['length'].nlargest(10)"
   ]
  },
  {
   "cell_type": "code",
   "execution_count": 311,
   "metadata": {},
   "outputs": [
    {
     "data": {
      "text/plain": [
       "21756     1965\n",
       "66592     1965\n",
       "175574    1965\n",
       "388043    1518\n",
       "36341     1287\n",
       "252436    1138\n",
       "61339     1106\n",
       "328089    1078\n",
       "78968     1068\n",
       "352693    1068\n",
       "Name: word_count, dtype: int64"
      ]
     },
     "execution_count": 311,
     "metadata": {},
     "output_type": "execute_result"
    }
   ],
   "source": [
    "#Check change in largest 10 review word count to see any effect\n",
    "df_reviews_p['word_count'].nlargest(10)"
   ]
  },
  {
   "cell_type": "code",
   "execution_count": 312,
   "metadata": {},
   "outputs": [
    {
     "data": {
      "text/plain": [
       "21756     1965\n",
       "66592     1965\n",
       "175574    1965\n",
       "388043    1518\n",
       "36341     1287\n",
       "252436    1138\n",
       "61339     1106\n",
       "328089    1078\n",
       "78968     1068\n",
       "352693    1068\n",
       "Name: word_count, dtype: int64"
      ]
     },
     "execution_count": 312,
     "metadata": {},
     "output_type": "execute_result"
    }
   ],
   "source": [
    "df_reviews_p_s['word_count'].nlargest(10)"
   ]
  },
  {
   "cell_type": "code",
   "execution_count": 313,
   "metadata": {},
   "outputs": [
    {
     "data": {
      "image/png": "[encoded data removed]",
      "text/plain": [
       "<Figure size 1440x360 with 1 Axes>"
      ]
     },
     "metadata": {
      "needs_background": "light"
     },
     "output_type": "display_data"
    }
   ],
   "source": [
    "freq_words(df_reviews_p['Summary_text']) # BEFORE"
   ]
  },
  {
   "cell_type": "code",
   "execution_count": 314,
   "metadata": {},
   "outputs": [
    {
     "data": {
      "image/png": "[encoded data removed]",
      "text/plain": [
       "<Figure size 1440x360 with 1 Axes>"
      ]
     },
     "metadata": {
      "needs_background": "light"
     },
     "output_type": "display_data"
    }
   ],
   "source": [
    "freq_words(df_reviews_p_s['Summary_text']) #AFTER"
   ]
  },
  {
   "cell_type": "code",
   "execution_count": null,
   "metadata": {},
   "outputs": [],
   "source": []
  },
  {
   "cell_type": "code",
   "execution_count": null,
   "metadata": {},
   "outputs": [],
   "source": []
  },
  {
   "cell_type": "markdown",
   "metadata": {},
   "source": [
    "### b) Lemmatization"
   ]
  },
  {
   "cell_type": "code",
   "execution_count": 376,
   "metadata": {},
   "outputs": [],
   "source": [
    "df_reviews_p_l=df_reviews_p.copy()"
   ]
  },
  {
   "cell_type": "code",
   "execution_count": 377,
   "metadata": {},
   "outputs": [
    {
     "data": {
      "text/plain": [
       "'organic kosher tasty assortment premium teas teasans numis collection assortment melange includes 5 herbal teas caffeinefree also called teasans dry desert lime lime herbal teasan fields gold lemongrass herbal teasan red mellow bush rooibos herbal teasan bushmens brew honeybush herbal teasan simply mint moroccan mint 2 green teas lower caffeine temple heaven gunpowder green tea monkey king jasmine green tea 2 black teas contain caffeine chinese breakfast yunnan black tea smoky tarry lapsang souchong black tea total nine different teas two tea bags one box numi teas known highquality organic kosher ingredients opinion tastiest best teas ever tried include artificial ingredients flavorings box manufacturer writes mistcovered mountains sundrenched deserts fertile fields proudly bring tea palette flavors range smooth earthiness light floral scents refreshingly sweet sour notes share recollection ancient one tamed fire water coexist harmoniously steeped gifts nature since distant past people soothed roused healed explored celebrated wonderful infusions encourage numis finest price perfect big savings single boxes like numi teas want sample wonderful assortment get ityou wont sorry may like others dont sampling delightful experience new numi excellent way sample highquality teas think could find better source premium tea numi highly recommended'"
      ]
     },
     "execution_count": 377,
     "metadata": {},
     "output_type": "execute_result"
    }
   ],
   "source": [
    "df_reviews_p['Summary_text'].loc[1]"
   ]
  },
  {
   "cell_type": "code",
   "execution_count": 378,
   "metadata": {},
   "outputs": [],
   "source": [
    "df_reviews_p_l = Perform_Lemmatization(df_reviews_p_l)\n",
    "df_reviews_p_l=Calculate_Len_NoOfWords(df_reviews_p_l)\n",
    "\n"
   ]
  },
  {
   "cell_type": "code",
   "execution_count": 379,
   "metadata": {},
   "outputs": [
    {
     "data": {
      "text/plain": [
       "'organic kosher tasty assortment premium tea teasans numis collection assortment melange includes 5 herbal tea caffeinefree also called teasans dry desert lime lime herbal teasan field gold lemongrass herbal teasan red mellow bush rooibos herbal teasan bushman brew honeybush herbal teasan simply mint moroccan mint 2 green tea lower caffeine temple heaven gunpowder green tea monkey king jasmine green tea 2 black tea contain caffeine chinese breakfast yunnan black tea smoky tarry lapsang souchong black tea total nine different tea two tea bag one box numi tea known highquality organic kosher ingredient opinion tastiest best tea ever tried include artificial ingredient flavoring box manufacturer writes mistcovered mountain sundrenched desert fertile field proudly bring tea palette flavor range smooth earthiness light floral scent refreshingly sweet sour note share recollection ancient one tamed fire water coexist harmoniously steeped gift nature since distant past people soothed roused healed explored celebrated wonderful infusion encourage numis finest price perfect big saving single box like numi tea want sample wonderful assortment get ityou wont sorry may like others dont sampling delightful experience new numi excellent way sample highquality tea think could find better source premium tea numi highly recommended'"
      ]
     },
     "execution_count": 379,
     "metadata": {},
     "output_type": "execute_result"
    }
   ],
   "source": [
    "df_reviews_p_l['Summary_text'].loc[1]"
   ]
  },
  {
   "cell_type": "code",
   "execution_count": 382,
   "metadata": {},
   "outputs": [
    {
     "data": {
      "text/plain": [
       "21756     14827\n",
       "66592     14827\n",
       "175574    14827\n",
       "388043    11094\n",
       "36341      9474\n",
       "61339      8186\n",
       "252436     8105\n",
       "78968      7598\n",
       "352693     7598\n",
       "328089     7529\n",
       "Name: length, dtype: int64"
      ]
     },
     "execution_count": 382,
     "metadata": {},
     "output_type": "execute_result"
    }
   ],
   "source": [
    "#Check change in largest 10 review length to see any effect\n",
    "df_reviews_p['length'].nlargest(10)"
   ]
  },
  {
   "cell_type": "code",
   "execution_count": 381,
   "metadata": {},
   "outputs": [
    {
     "data": {
      "text/plain": [
       "21756     14556\n",
       "66592     14556\n",
       "175574    14556\n",
       "388043    10818\n",
       "36341      9277\n",
       "61339      8042\n",
       "252436     7923\n",
       "78968      7436\n",
       "352693     7436\n",
       "328089     7428\n",
       "Name: length, dtype: int64"
      ]
     },
     "execution_count": 381,
     "metadata": {},
     "output_type": "execute_result"
    }
   ],
   "source": [
    "df_reviews_p_l['length'].nlargest(10)"
   ]
  },
  {
   "cell_type": "code",
   "execution_count": 383,
   "metadata": {},
   "outputs": [
    {
     "data": {
      "image/png": "[encoded data removed]",
      "text/plain": [
       "<Figure size 1440x360 with 1 Axes>"
      ]
     },
     "metadata": {
      "needs_background": "light"
     },
     "output_type": "display_data"
    }
   ],
   "source": [
    "freq_words(df_reviews_p['Summary_text']) # BEFORE"
   ]
  },
  {
   "cell_type": "code",
   "execution_count": 384,
   "metadata": {},
   "outputs": [
    {
     "data": {
      "image/png": "[encoded data removed]",
      "text/plain": [
       "<Figure size 1440x360 with 1 Axes>"
      ]
     },
     "metadata": {
      "needs_background": "light"
     },
     "output_type": "display_data"
    }
   ],
   "source": [
    "freq_words(df_reviews_p_l['Summary_text']) #AFTER"
   ]
  },
  {
   "cell_type": "code",
   "execution_count": null,
   "metadata": {},
   "outputs": [],
   "source": [
    "# Save both versions of preprocessed data"
   ]
  },
  {
   "cell_type": "code",
   "execution_count": 388,
   "metadata": {},
   "outputs": [],
   "source": [
    "df_reviews_p_l['length_change']=df_reviews['length']-df_reviews_p_l['length']\n",
    "df_reviews_p_l['wordcount_change']=df_reviews['word_count']-df_reviews_p_l['word_count']\n",
    "df_reviews_p_l.to_csv('df_reviews_p_l.csv')"
   ]
  },
  {
   "cell_type": "code",
   "execution_count": 389,
   "metadata": {},
   "outputs": [],
   "source": [
    "df_reviews_p_s['length_change']=df_reviews['length']-df_reviews_p_s['length']\n",
    "df_reviews_p_s['wordcount_change']=df_reviews['word_count']-df_reviews_p_s['word_count']\n",
    "df_reviews_p_s.to_csv('df_reviews_p_s.csv')"
   ]
  }
 ],
 "metadata": {
  "kernelspec": {
   "display_name": "Python 3",
   "language": "python",
   "name": "python3"
  },
  "language_info": {
   "codemirror_mode": {
    "name": "ipython",
    "version": 3
   },
   "file_extension": ".py",
   "mimetype": "text/x-python",
   "name": "python",
   "nbconvert_exporter": "python",
   "pygments_lexer": "ipython3",
   "version": "3.7.6"
  }
 },
 "nbformat": 4,
 "nbformat_minor": 2
}
