{
 "cells": [
  {
   "cell_type": "markdown",
   "metadata": {},
   "source": [
    "# F21 AA. CW 1\n",
    "# TASK 5 Topic Modelling"
   ]
  },
  {
   "cell_type": "markdown",
   "metadata": {},
   "source": [
    "Import"
   ]
  },
  {
   "cell_type": "code",
   "execution_count": 46,
   "metadata": {},
   "outputs": [],
   "source": [
    "import pandas as pd\n",
    "import numpy as np\n",
    "import mglearn\n",
    "import seaborn as sns\n",
    "import matplotlib.pyplot as plt\n",
    "\n",
    "from sklearn.feature_extraction.text import CountVectorizer\n",
    "from sklearn.decomposition import LatentDirichletAllocation"
   ]
  },
  {
   "cell_type": "markdown",
   "metadata": {},
   "source": [
    "Input"
   ]
  },
  {
   "cell_type": "code",
   "execution_count": 47,
   "metadata": {},
   "outputs": [
    {
     "data": {
      "text/html": [
       "<div>\n",
       "<style scoped>\n",
       "    .dataframe tbody tr th:only-of-type {\n",
       "        vertical-align: middle;\n",
       "    }\n",
       "\n",
       "    .dataframe tbody tr th {\n",
       "        vertical-align: top;\n",
       "    }\n",
       "\n",
       "    .dataframe thead th {\n",
       "        text-align: right;\n",
       "    }\n",
       "</style>\n",
       "<table border=\"1\" class=\"dataframe\">\n",
       "  <thead>\n",
       "    <tr style=\"text-align: right;\">\n",
       "      <th></th>\n",
       "      <th>Unnamed: 0</th>\n",
       "      <th>Score</th>\n",
       "      <th>Summary_text</th>\n",
       "      <th>length</th>\n",
       "      <th>word_count</th>\n",
       "      <th>length_change</th>\n",
       "      <th>wordcount_change</th>\n",
       "    </tr>\n",
       "  </thead>\n",
       "  <tbody>\n",
       "    <tr>\n",
       "      <th>0</th>\n",
       "      <td>0</td>\n",
       "      <td>5</td>\n",
       "      <td>good receiv product earli seller tastey great ...</td>\n",
       "      <td>103</td>\n",
       "      <td>16</td>\n",
       "      <td>104</td>\n",
       "      <td>24</td>\n",
       "    </tr>\n",
       "    <tr>\n",
       "      <th>1</th>\n",
       "      <td>1</td>\n",
       "      <td>5</td>\n",
       "      <td>organ kosher tasti assort premium tea teasan n...</td>\n",
       "      <td>1199</td>\n",
       "      <td>193</td>\n",
       "      <td>799</td>\n",
       "      <td>126</td>\n",
       "    </tr>\n",
       "    <tr>\n",
       "      <th>2</th>\n",
       "      <td>2</td>\n",
       "      <td>5</td>\n",
       "      <td>excel glutenfre spaghetti great tast great str...</td>\n",
       "      <td>619</td>\n",
       "      <td>101</td>\n",
       "      <td>527</td>\n",
       "      <td>103</td>\n",
       "    </tr>\n",
       "    <tr>\n",
       "      <th>3</th>\n",
       "      <td>3</td>\n",
       "      <td>5</td>\n",
       "      <td>lindt lindt buy multipack misl pictur whole ha...</td>\n",
       "      <td>117</td>\n",
       "      <td>19</td>\n",
       "      <td>84</td>\n",
       "      <td>15</td>\n",
       "    </tr>\n",
       "    <tr>\n",
       "      <th>4</th>\n",
       "      <td>4</td>\n",
       "      <td>5</td>\n",
       "      <td>yum bar good love warm definit think great sna...</td>\n",
       "      <td>88</td>\n",
       "      <td>14</td>\n",
       "      <td>76</td>\n",
       "      <td>15</td>\n",
       "    </tr>\n",
       "  </tbody>\n",
       "</table>\n",
       "</div>"
      ],
      "text/plain": [
       "   Unnamed: 0  Score                                       Summary_text  \\\n",
       "0           0      5  good receiv product earli seller tastey great ...   \n",
       "1           1      5  organ kosher tasti assort premium tea teasan n...   \n",
       "2           2      5  excel glutenfre spaghetti great tast great str...   \n",
       "3           3      5  lindt lindt buy multipack misl pictur whole ha...   \n",
       "4           4      5  yum bar good love warm definit think great sna...   \n",
       "\n",
       "   length  word_count  length_change  wordcount_change  \n",
       "0     103          16            104                24  \n",
       "1    1199         193            799               126  \n",
       "2     619         101            527               103  \n",
       "3     117          19             84                15  \n",
       "4      88          14             76                15  "
      ]
     },
     "execution_count": 47,
     "metadata": {},
     "output_type": "execute_result"
    }
   ],
   "source": [
    "# Preprocessed data from step 2 which used Stemming\n",
    "df_reviews_p_s = pd.read_csv('df_reviews_p_s.csv')\n",
    "df_reviews_p_s.head()"
   ]
  },
  {
   "cell_type": "markdown",
   "metadata": {},
   "source": [
    "Split into 1 star and 5 star ratings and subsample 30,000 rows for both"
   ]
  },
  {
   "cell_type": "markdown",
   "metadata": {},
   "source": [
    "1 Star"
   ]
  },
  {
   "cell_type": "code",
   "execution_count": 48,
   "metadata": {},
   "outputs": [],
   "source": [
    "df_reviews_1Star=df_reviews_p_s[df_reviews_p_s['Score']==1]"
   ]
  },
  {
   "cell_type": "code",
   "execution_count": 49,
   "metadata": {},
   "outputs": [
    {
     "data": {
      "text/html": [
       "<div>\n",
       "<style scoped>\n",
       "    .dataframe tbody tr th:only-of-type {\n",
       "        vertical-align: middle;\n",
       "    }\n",
       "\n",
       "    .dataframe tbody tr th {\n",
       "        vertical-align: top;\n",
       "    }\n",
       "\n",
       "    .dataframe thead th {\n",
       "        text-align: right;\n",
       "    }\n",
       "</style>\n",
       "<table border=\"1\" class=\"dataframe\">\n",
       "  <thead>\n",
       "    <tr style=\"text-align: right;\">\n",
       "      <th></th>\n",
       "      <th>Unnamed: 0</th>\n",
       "      <th>Score</th>\n",
       "      <th>Summary_text</th>\n",
       "      <th>length</th>\n",
       "      <th>word_count</th>\n",
       "      <th>length_change</th>\n",
       "      <th>wordcount_change</th>\n",
       "    </tr>\n",
       "  </thead>\n",
       "  <tbody>\n",
       "    <tr>\n",
       "      <th>18</th>\n",
       "      <td>18</td>\n",
       "      <td>1</td>\n",
       "      <td>plastic tast first coffe tri got keurig disapp...</td>\n",
       "      <td>219</td>\n",
       "      <td>36</td>\n",
       "      <td>136</td>\n",
       "      <td>28</td>\n",
       "    </tr>\n",
       "    <tr>\n",
       "      <th>31</th>\n",
       "      <td>31</td>\n",
       "      <td>1</td>\n",
       "      <td>danger doggi dont buy larg german shepherd cut...</td>\n",
       "      <td>149</td>\n",
       "      <td>27</td>\n",
       "      <td>153</td>\n",
       "      <td>32</td>\n",
       "    </tr>\n",
       "    <tr>\n",
       "      <th>49</th>\n",
       "      <td>49</td>\n",
       "      <td>1</td>\n",
       "      <td>ugh fake food want sugar splurg chose shortbre...</td>\n",
       "      <td>180</td>\n",
       "      <td>27</td>\n",
       "      <td>84</td>\n",
       "      <td>13</td>\n",
       "    </tr>\n",
       "    <tr>\n",
       "      <th>55</th>\n",
       "      <td>55</td>\n",
       "      <td>1</td>\n",
       "      <td>worst product ever chines never brought produc...</td>\n",
       "      <td>139</td>\n",
       "      <td>23</td>\n",
       "      <td>102</td>\n",
       "      <td>22</td>\n",
       "    </tr>\n",
       "    <tr>\n",
       "      <th>56</th>\n",
       "      <td>56</td>\n",
       "      <td>1</td>\n",
       "      <td>enorm ripoff nearli twice expens cost nespress...</td>\n",
       "      <td>89</td>\n",
       "      <td>14</td>\n",
       "      <td>67</td>\n",
       "      <td>11</td>\n",
       "    </tr>\n",
       "    <tr>\n",
       "      <th>...</th>\n",
       "      <td>...</td>\n",
       "      <td>...</td>\n",
       "      <td>...</td>\n",
       "      <td>...</td>\n",
       "      <td>...</td>\n",
       "      <td>...</td>\n",
       "      <td>...</td>\n",
       "    </tr>\n",
       "    <tr>\n",
       "      <th>426306</th>\n",
       "      <td>426306</td>\n",
       "      <td>1</td>\n",
       "      <td>pleas coffe drinker know good coffe one pass s...</td>\n",
       "      <td>53</td>\n",
       "      <td>9</td>\n",
       "      <td>43</td>\n",
       "      <td>11</td>\n",
       "    </tr>\n",
       "    <tr>\n",
       "      <th>426307</th>\n",
       "      <td>426307</td>\n",
       "      <td>1</td>\n",
       "      <td>two leav blah saw chai tea shop tazo chai tea ...</td>\n",
       "      <td>293</td>\n",
       "      <td>55</td>\n",
       "      <td>270</td>\n",
       "      <td>58</td>\n",
       "    </tr>\n",
       "    <tr>\n",
       "      <th>426309</th>\n",
       "      <td>426309</td>\n",
       "      <td>1</td>\n",
       "      <td>evang buffalo fruit vegtabl treat would never ...</td>\n",
       "      <td>125</td>\n",
       "      <td>20</td>\n",
       "      <td>107</td>\n",
       "      <td>24</td>\n",
       "    </tr>\n",
       "    <tr>\n",
       "      <th>426325</th>\n",
       "      <td>426325</td>\n",
       "      <td>1</td>\n",
       "      <td>great product item near expir receiv item toda...</td>\n",
       "      <td>274</td>\n",
       "      <td>50</td>\n",
       "      <td>200</td>\n",
       "      <td>42</td>\n",
       "    </tr>\n",
       "    <tr>\n",
       "      <th>426339</th>\n",
       "      <td>426339</td>\n",
       "      <td>1</td>\n",
       "      <td>canida dog food made dog extrem ill reli canid...</td>\n",
       "      <td>549</td>\n",
       "      <td>95</td>\n",
       "      <td>381</td>\n",
       "      <td>79</td>\n",
       "    </tr>\n",
       "  </tbody>\n",
       "</table>\n",
       "<p>39193 rows × 7 columns</p>\n",
       "</div>"
      ],
      "text/plain": [
       "        Unnamed: 0  Score                                       Summary_text  \\\n",
       "18              18      1  plastic tast first coffe tri got keurig disapp...   \n",
       "31              31      1  danger doggi dont buy larg german shepherd cut...   \n",
       "49              49      1  ugh fake food want sugar splurg chose shortbre...   \n",
       "55              55      1  worst product ever chines never brought produc...   \n",
       "56              56      1  enorm ripoff nearli twice expens cost nespress...   \n",
       "...            ...    ...                                                ...   \n",
       "426306      426306      1  pleas coffe drinker know good coffe one pass s...   \n",
       "426307      426307      1  two leav blah saw chai tea shop tazo chai tea ...   \n",
       "426309      426309      1  evang buffalo fruit vegtabl treat would never ...   \n",
       "426325      426325      1  great product item near expir receiv item toda...   \n",
       "426339      426339      1  canida dog food made dog extrem ill reli canid...   \n",
       "\n",
       "        length  word_count  length_change  wordcount_change  \n",
       "18         219          36            136                28  \n",
       "31         149          27            153                32  \n",
       "49         180          27             84                13  \n",
       "55         139          23            102                22  \n",
       "56          89          14             67                11  \n",
       "...        ...         ...            ...               ...  \n",
       "426306      53           9             43                11  \n",
       "426307     293          55            270                58  \n",
       "426309     125          20            107                24  \n",
       "426325     274          50            200                42  \n",
       "426339     549          95            381                79  \n",
       "\n",
       "[39193 rows x 7 columns]"
      ]
     },
     "execution_count": 49,
     "metadata": {},
     "output_type": "execute_result"
    }
   ],
   "source": [
    "df_reviews_1Star"
   ]
  },
  {
   "cell_type": "code",
   "execution_count": 50,
   "metadata": {},
   "outputs": [
    {
     "data": {
      "text/html": [
       "<div>\n",
       "<style scoped>\n",
       "    .dataframe tbody tr th:only-of-type {\n",
       "        vertical-align: middle;\n",
       "    }\n",
       "\n",
       "    .dataframe tbody tr th {\n",
       "        vertical-align: top;\n",
       "    }\n",
       "\n",
       "    .dataframe thead th {\n",
       "        text-align: right;\n",
       "    }\n",
       "</style>\n",
       "<table border=\"1\" class=\"dataframe\">\n",
       "  <thead>\n",
       "    <tr style=\"text-align: right;\">\n",
       "      <th></th>\n",
       "      <th>Unnamed: 0</th>\n",
       "      <th>Score</th>\n",
       "      <th>Summary_text</th>\n",
       "      <th>length</th>\n",
       "      <th>word_count</th>\n",
       "      <th>length_change</th>\n",
       "      <th>wordcount_change</th>\n",
       "    </tr>\n",
       "  </thead>\n",
       "  <tbody>\n",
       "    <tr>\n",
       "      <th>173377</th>\n",
       "      <td>173377</td>\n",
       "      <td>1</td>\n",
       "      <td>slow servic site say paypal accept upon reques...</td>\n",
       "      <td>143</td>\n",
       "      <td>24</td>\n",
       "      <td>101</td>\n",
       "      <td>19</td>\n",
       "    </tr>\n",
       "    <tr>\n",
       "      <th>36137</th>\n",
       "      <td>36137</td>\n",
       "      <td>1</td>\n",
       "      <td>disgust obvious old stock broken wrapper torn ...</td>\n",
       "      <td>212</td>\n",
       "      <td>34</td>\n",
       "      <td>149</td>\n",
       "      <td>27</td>\n",
       "    </tr>\n",
       "    <tr>\n",
       "      <th>173910</th>\n",
       "      <td>173910</td>\n",
       "      <td>1</td>\n",
       "      <td>dont wast money bought xsmall 12 lb dog dog un...</td>\n",
       "      <td>258</td>\n",
       "      <td>47</td>\n",
       "      <td>198</td>\n",
       "      <td>44</td>\n",
       "    </tr>\n",
       "    <tr>\n",
       "      <th>223877</th>\n",
       "      <td>223877</td>\n",
       "      <td>1</td>\n",
       "      <td>expir chip receiv miss vicki varieti pack 30 t...</td>\n",
       "      <td>623</td>\n",
       "      <td>114</td>\n",
       "      <td>539</td>\n",
       "      <td>122</td>\n",
       "    </tr>\n",
       "    <tr>\n",
       "      <th>163868</th>\n",
       "      <td>163868</td>\n",
       "      <td>1</td>\n",
       "      <td>extrem bitter dont know might got bad bag stuf...</td>\n",
       "      <td>199</td>\n",
       "      <td>34</td>\n",
       "      <td>120</td>\n",
       "      <td>26</td>\n",
       "    </tr>\n",
       "    <tr>\n",
       "      <th>...</th>\n",
       "      <td>...</td>\n",
       "      <td>...</td>\n",
       "      <td>...</td>\n",
       "      <td>...</td>\n",
       "      <td>...</td>\n",
       "      <td>...</td>\n",
       "      <td>...</td>\n",
       "    </tr>\n",
       "    <tr>\n",
       "      <th>341236</th>\n",
       "      <td>341236</td>\n",
       "      <td>1</td>\n",
       "      <td>nice waxi ive got believ review havent actual ...</td>\n",
       "      <td>1168</td>\n",
       "      <td>191</td>\n",
       "      <td>923</td>\n",
       "      <td>164</td>\n",
       "    </tr>\n",
       "    <tr>\n",
       "      <th>81586</th>\n",
       "      <td>81586</td>\n",
       "      <td>1</td>\n",
       "      <td>tast like dirt purchas contain dairi soy corn ...</td>\n",
       "      <td>171</td>\n",
       "      <td>32</td>\n",
       "      <td>134</td>\n",
       "      <td>22</td>\n",
       "    </tr>\n",
       "    <tr>\n",
       "      <th>382135</th>\n",
       "      <td>382135</td>\n",
       "      <td>1</td>\n",
       "      <td>super fast servicenasti candi hrefhttpwwwamazo...</td>\n",
       "      <td>553</td>\n",
       "      <td>90</td>\n",
       "      <td>413</td>\n",
       "      <td>85</td>\n",
       "    </tr>\n",
       "    <tr>\n",
       "      <th>185992</th>\n",
       "      <td>185992</td>\n",
       "      <td>1</td>\n",
       "      <td>yuck tea prefer avid tea drinker tea bitter wo...</td>\n",
       "      <td>147</td>\n",
       "      <td>27</td>\n",
       "      <td>140</td>\n",
       "      <td>32</td>\n",
       "    </tr>\n",
       "    <tr>\n",
       "      <th>204287</th>\n",
       "      <td>204287</td>\n",
       "      <td>1</td>\n",
       "      <td>settl bottom matter much stir 2 minut settl bo...</td>\n",
       "      <td>80</td>\n",
       "      <td>15</td>\n",
       "      <td>81</td>\n",
       "      <td>16</td>\n",
       "    </tr>\n",
       "  </tbody>\n",
       "</table>\n",
       "<p>30000 rows × 7 columns</p>\n",
       "</div>"
      ],
      "text/plain": [
       "        Unnamed: 0  Score                                       Summary_text  \\\n",
       "173377      173377      1  slow servic site say paypal accept upon reques...   \n",
       "36137        36137      1  disgust obvious old stock broken wrapper torn ...   \n",
       "173910      173910      1  dont wast money bought xsmall 12 lb dog dog un...   \n",
       "223877      223877      1  expir chip receiv miss vicki varieti pack 30 t...   \n",
       "163868      163868      1  extrem bitter dont know might got bad bag stuf...   \n",
       "...            ...    ...                                                ...   \n",
       "341236      341236      1  nice waxi ive got believ review havent actual ...   \n",
       "81586        81586      1  tast like dirt purchas contain dairi soy corn ...   \n",
       "382135      382135      1  super fast servicenasti candi hrefhttpwwwamazo...   \n",
       "185992      185992      1  yuck tea prefer avid tea drinker tea bitter wo...   \n",
       "204287      204287      1  settl bottom matter much stir 2 minut settl bo...   \n",
       "\n",
       "        length  word_count  length_change  wordcount_change  \n",
       "173377     143          24            101                19  \n",
       "36137      212          34            149                27  \n",
       "173910     258          47            198                44  \n",
       "223877     623         114            539               122  \n",
       "163868     199          34            120                26  \n",
       "...        ...         ...            ...               ...  \n",
       "341236    1168         191            923               164  \n",
       "81586      171          32            134                22  \n",
       "382135     553          90            413                85  \n",
       "185992     147          27            140                32  \n",
       "204287      80          15             81                16  \n",
       "\n",
       "[30000 rows x 7 columns]"
      ]
     },
     "execution_count": 50,
     "metadata": {},
     "output_type": "execute_result"
    }
   ],
   "source": [
    "df_reviews_1Star.sample(frac =30000/len(df_reviews_1Star)) "
   ]
  },
  {
   "cell_type": "markdown",
   "metadata": {},
   "source": [
    "5 Star"
   ]
  },
  {
   "cell_type": "code",
   "execution_count": 51,
   "metadata": {},
   "outputs": [],
   "source": [
    "df_reviews_5Star=df_reviews_p_s[df_reviews_p_s['Score']==5]"
   ]
  },
  {
   "cell_type": "code",
   "execution_count": 52,
   "metadata": {},
   "outputs": [
    {
     "data": {
      "text/html": [
       "<div>\n",
       "<style scoped>\n",
       "    .dataframe tbody tr th:only-of-type {\n",
       "        vertical-align: middle;\n",
       "    }\n",
       "\n",
       "    .dataframe tbody tr th {\n",
       "        vertical-align: top;\n",
       "    }\n",
       "\n",
       "    .dataframe thead th {\n",
       "        text-align: right;\n",
       "    }\n",
       "</style>\n",
       "<table border=\"1\" class=\"dataframe\">\n",
       "  <thead>\n",
       "    <tr style=\"text-align: right;\">\n",
       "      <th></th>\n",
       "      <th>Unnamed: 0</th>\n",
       "      <th>Score</th>\n",
       "      <th>Summary_text</th>\n",
       "      <th>length</th>\n",
       "      <th>word_count</th>\n",
       "      <th>length_change</th>\n",
       "      <th>wordcount_change</th>\n",
       "    </tr>\n",
       "  </thead>\n",
       "  <tbody>\n",
       "    <tr>\n",
       "      <th>0</th>\n",
       "      <td>0</td>\n",
       "      <td>5</td>\n",
       "      <td>good receiv product earli seller tastey great ...</td>\n",
       "      <td>103</td>\n",
       "      <td>16</td>\n",
       "      <td>104</td>\n",
       "      <td>24</td>\n",
       "    </tr>\n",
       "    <tr>\n",
       "      <th>1</th>\n",
       "      <td>1</td>\n",
       "      <td>5</td>\n",
       "      <td>organ kosher tasti assort premium tea teasan n...</td>\n",
       "      <td>1199</td>\n",
       "      <td>193</td>\n",
       "      <td>799</td>\n",
       "      <td>126</td>\n",
       "    </tr>\n",
       "    <tr>\n",
       "      <th>2</th>\n",
       "      <td>2</td>\n",
       "      <td>5</td>\n",
       "      <td>excel glutenfre spaghetti great tast great str...</td>\n",
       "      <td>619</td>\n",
       "      <td>101</td>\n",
       "      <td>527</td>\n",
       "      <td>103</td>\n",
       "    </tr>\n",
       "    <tr>\n",
       "      <th>3</th>\n",
       "      <td>3</td>\n",
       "      <td>5</td>\n",
       "      <td>lindt lindt buy multipack misl pictur whole ha...</td>\n",
       "      <td>117</td>\n",
       "      <td>19</td>\n",
       "      <td>84</td>\n",
       "      <td>15</td>\n",
       "    </tr>\n",
       "    <tr>\n",
       "      <th>4</th>\n",
       "      <td>4</td>\n",
       "      <td>5</td>\n",
       "      <td>yum bar good love warm definit think great sna...</td>\n",
       "      <td>88</td>\n",
       "      <td>14</td>\n",
       "      <td>76</td>\n",
       "      <td>15</td>\n",
       "    </tr>\n",
       "    <tr>\n",
       "      <th>...</th>\n",
       "      <td>...</td>\n",
       "      <td>...</td>\n",
       "      <td>...</td>\n",
       "      <td>...</td>\n",
       "      <td>...</td>\n",
       "      <td>...</td>\n",
       "      <td>...</td>\n",
       "    </tr>\n",
       "    <tr>\n",
       "      <th>426333</th>\n",
       "      <td>426333</td>\n",
       "      <td>5</td>\n",
       "      <td>yum current favorit tea basic given lipton tea...</td>\n",
       "      <td>84</td>\n",
       "      <td>16</td>\n",
       "      <td>54</td>\n",
       "      <td>10</td>\n",
       "    </tr>\n",
       "    <tr>\n",
       "      <th>426334</th>\n",
       "      <td>426334</td>\n",
       "      <td>5</td>\n",
       "      <td>wow grandma work grow southwest refri bean sta...</td>\n",
       "      <td>328</td>\n",
       "      <td>54</td>\n",
       "      <td>232</td>\n",
       "      <td>53</td>\n",
       "    </tr>\n",
       "    <tr>\n",
       "      <th>426336</th>\n",
       "      <td>426336</td>\n",
       "      <td>5</td>\n",
       "      <td>antifatigu fantast product im rel new long dis...</td>\n",
       "      <td>1228</td>\n",
       "      <td>215</td>\n",
       "      <td>969</td>\n",
       "      <td>201</td>\n",
       "    </tr>\n",
       "    <tr>\n",
       "      <th>426337</th>\n",
       "      <td>426337</td>\n",
       "      <td>5</td>\n",
       "      <td>alway right formula trust brandth flavor blend...</td>\n",
       "      <td>103</td>\n",
       "      <td>16</td>\n",
       "      <td>48</td>\n",
       "      <td>9</td>\n",
       "    </tr>\n",
       "    <tr>\n",
       "      <th>426338</th>\n",
       "      <td>426338</td>\n",
       "      <td>5</td>\n",
       "      <td>smoke black pepper pepper great buy mccormick ...</td>\n",
       "      <td>228</td>\n",
       "      <td>35</td>\n",
       "      <td>150</td>\n",
       "      <td>31</td>\n",
       "    </tr>\n",
       "  </tbody>\n",
       "</table>\n",
       "<p>272492 rows × 7 columns</p>\n",
       "</div>"
      ],
      "text/plain": [
       "        Unnamed: 0  Score                                       Summary_text  \\\n",
       "0                0      5  good receiv product earli seller tastey great ...   \n",
       "1                1      5  organ kosher tasti assort premium tea teasan n...   \n",
       "2                2      5  excel glutenfre spaghetti great tast great str...   \n",
       "3                3      5  lindt lindt buy multipack misl pictur whole ha...   \n",
       "4                4      5  yum bar good love warm definit think great sna...   \n",
       "...            ...    ...                                                ...   \n",
       "426333      426333      5  yum current favorit tea basic given lipton tea...   \n",
       "426334      426334      5  wow grandma work grow southwest refri bean sta...   \n",
       "426336      426336      5  antifatigu fantast product im rel new long dis...   \n",
       "426337      426337      5  alway right formula trust brandth flavor blend...   \n",
       "426338      426338      5  smoke black pepper pepper great buy mccormick ...   \n",
       "\n",
       "        length  word_count  length_change  wordcount_change  \n",
       "0          103          16            104                24  \n",
       "1         1199         193            799               126  \n",
       "2          619         101            527               103  \n",
       "3          117          19             84                15  \n",
       "4           88          14             76                15  \n",
       "...        ...         ...            ...               ...  \n",
       "426333      84          16             54                10  \n",
       "426334     328          54            232                53  \n",
       "426336    1228         215            969               201  \n",
       "426337     103          16             48                 9  \n",
       "426338     228          35            150                31  \n",
       "\n",
       "[272492 rows x 7 columns]"
      ]
     },
     "execution_count": 52,
     "metadata": {},
     "output_type": "execute_result"
    }
   ],
   "source": [
    "df_reviews_5Star"
   ]
  },
  {
   "cell_type": "code",
   "execution_count": 53,
   "metadata": {},
   "outputs": [],
   "source": [
    "df_reviews_5Star=df_reviews_5Star.sample(frac =30000/len(df_reviews_5Star)) "
   ]
  },
  {
   "cell_type": "code",
   "execution_count": 54,
   "metadata": {},
   "outputs": [
    {
     "data": {
      "text/html": [
       "<div>\n",
       "<style scoped>\n",
       "    .dataframe tbody tr th:only-of-type {\n",
       "        vertical-align: middle;\n",
       "    }\n",
       "\n",
       "    .dataframe tbody tr th {\n",
       "        vertical-align: top;\n",
       "    }\n",
       "\n",
       "    .dataframe thead th {\n",
       "        text-align: right;\n",
       "    }\n",
       "</style>\n",
       "<table border=\"1\" class=\"dataframe\">\n",
       "  <thead>\n",
       "    <tr style=\"text-align: right;\">\n",
       "      <th></th>\n",
       "      <th>Unnamed: 0</th>\n",
       "      <th>Score</th>\n",
       "      <th>Summary_text</th>\n",
       "      <th>length</th>\n",
       "      <th>word_count</th>\n",
       "      <th>length_change</th>\n",
       "      <th>wordcount_change</th>\n",
       "    </tr>\n",
       "  </thead>\n",
       "  <tbody>\n",
       "    <tr>\n",
       "      <th>73920</th>\n",
       "      <td>73920</td>\n",
       "      <td>5</td>\n",
       "      <td>awesom bread mix love mix make one best irish ...</td>\n",
       "      <td>147</td>\n",
       "      <td>26</td>\n",
       "      <td>116</td>\n",
       "      <td>24</td>\n",
       "    </tr>\n",
       "    <tr>\n",
       "      <th>414744</th>\n",
       "      <td>414744</td>\n",
       "      <td>5</td>\n",
       "      <td>wanachi ferri stir fri one sweet sour kung pao...</td>\n",
       "      <td>554</td>\n",
       "      <td>98</td>\n",
       "      <td>388</td>\n",
       "      <td>86</td>\n",
       "    </tr>\n",
       "    <tr>\n",
       "      <th>228365</th>\n",
       "      <td>228365</td>\n",
       "      <td>5</td>\n",
       "      <td>dog treat two maltipoo love duck chip reward g...</td>\n",
       "      <td>64</td>\n",
       "      <td>12</td>\n",
       "      <td>79</td>\n",
       "      <td>16</td>\n",
       "    </tr>\n",
       "    <tr>\n",
       "      <th>36221</th>\n",
       "      <td>36221</td>\n",
       "      <td>5</td>\n",
       "      <td>best best oat bran cereal none other match har...</td>\n",
       "      <td>511</td>\n",
       "      <td>90</td>\n",
       "      <td>473</td>\n",
       "      <td>95</td>\n",
       "    </tr>\n",
       "    <tr>\n",
       "      <th>132823</th>\n",
       "      <td>132823</td>\n",
       "      <td>5</td>\n",
       "      <td>delici caviar excel product prompt deliveri so...</td>\n",
       "      <td>103</td>\n",
       "      <td>16</td>\n",
       "      <td>59</td>\n",
       "      <td>11</td>\n",
       "    </tr>\n",
       "    <tr>\n",
       "      <th>...</th>\n",
       "      <td>...</td>\n",
       "      <td>...</td>\n",
       "      <td>...</td>\n",
       "      <td>...</td>\n",
       "      <td>...</td>\n",
       "      <td>...</td>\n",
       "      <td>...</td>\n",
       "    </tr>\n",
       "    <tr>\n",
       "      <th>237270</th>\n",
       "      <td>237270</td>\n",
       "      <td>5</td>\n",
       "      <td>mystic chai spice tea realli love tea get hard...</td>\n",
       "      <td>432</td>\n",
       "      <td>82</td>\n",
       "      <td>400</td>\n",
       "      <td>91</td>\n",
       "    </tr>\n",
       "    <tr>\n",
       "      <th>202376</th>\n",
       "      <td>202376</td>\n",
       "      <td>5</td>\n",
       "      <td>super order pop tart came within week realli n...</td>\n",
       "      <td>71</td>\n",
       "      <td>13</td>\n",
       "      <td>46</td>\n",
       "      <td>9</td>\n",
       "    </tr>\n",
       "    <tr>\n",
       "      <th>231511</th>\n",
       "      <td>231511</td>\n",
       "      <td>5</td>\n",
       "      <td>stash white christma 100 ct tea super exit fin...</td>\n",
       "      <td>409</td>\n",
       "      <td>71</td>\n",
       "      <td>294</td>\n",
       "      <td>60</td>\n",
       "    </tr>\n",
       "    <tr>\n",
       "      <th>189505</th>\n",
       "      <td>189505</td>\n",
       "      <td>5</td>\n",
       "      <td>energ wyld pretzel like regular pretzel even g...</td>\n",
       "      <td>144</td>\n",
       "      <td>24</td>\n",
       "      <td>104</td>\n",
       "      <td>20</td>\n",
       "    </tr>\n",
       "    <tr>\n",
       "      <th>114344</th>\n",
       "      <td>114344</td>\n",
       "      <td>5</td>\n",
       "      <td>bunni yummi recent adopt retir bengal kitti br...</td>\n",
       "      <td>274</td>\n",
       "      <td>47</td>\n",
       "      <td>272</td>\n",
       "      <td>47</td>\n",
       "    </tr>\n",
       "  </tbody>\n",
       "</table>\n",
       "<p>30000 rows × 7 columns</p>\n",
       "</div>"
      ],
      "text/plain": [
       "        Unnamed: 0  Score                                       Summary_text  \\\n",
       "73920        73920      5  awesom bread mix love mix make one best irish ...   \n",
       "414744      414744      5  wanachi ferri stir fri one sweet sour kung pao...   \n",
       "228365      228365      5  dog treat two maltipoo love duck chip reward g...   \n",
       "36221        36221      5  best best oat bran cereal none other match har...   \n",
       "132823      132823      5  delici caviar excel product prompt deliveri so...   \n",
       "...            ...    ...                                                ...   \n",
       "237270      237270      5  mystic chai spice tea realli love tea get hard...   \n",
       "202376      202376      5  super order pop tart came within week realli n...   \n",
       "231511      231511      5  stash white christma 100 ct tea super exit fin...   \n",
       "189505      189505      5  energ wyld pretzel like regular pretzel even g...   \n",
       "114344      114344      5  bunni yummi recent adopt retir bengal kitti br...   \n",
       "\n",
       "        length  word_count  length_change  wordcount_change  \n",
       "73920      147          26            116                24  \n",
       "414744     554          98            388                86  \n",
       "228365      64          12             79                16  \n",
       "36221      511          90            473                95  \n",
       "132823     103          16             59                11  \n",
       "...        ...         ...            ...               ...  \n",
       "237270     432          82            400                91  \n",
       "202376      71          13             46                 9  \n",
       "231511     409          71            294                60  \n",
       "189505     144          24            104                20  \n",
       "114344     274          47            272                47  \n",
       "\n",
       "[30000 rows x 7 columns]"
      ]
     },
     "execution_count": 54,
     "metadata": {},
     "output_type": "execute_result"
    }
   ],
   "source": [
    "df_reviews_5Star"
   ]
  },
  {
   "cell_type": "markdown",
   "metadata": {},
   "source": [
    "## TOPIC MODELLING"
   ]
  },
  {
   "cell_type": "markdown",
   "metadata": {},
   "source": [
    "### a) 1 Star ratings"
   ]
  },
  {
   "cell_type": "markdown",
   "metadata": {},
   "source": [
    "Vectorize to extract features"
   ]
  },
  {
   "cell_type": "code",
   "execution_count": 55,
   "metadata": {},
   "outputs": [],
   "source": [
    "vect = CountVectorizer(max_features=1000, max_df=.15)\n",
    "X = vect.fit_transform(df_reviews_1Star['Summary_text'])"
   ]
  },
  {
   "cell_type": "markdown",
   "metadata": {},
   "source": [
    "Use Latent Dirichlet Allocation algorithm to build vocabulary for 10 topics"
   ]
  },
  {
   "cell_type": "code",
   "execution_count": 56,
   "metadata": {},
   "outputs": [],
   "source": [
    "lda = LatentDirichletAllocation(n_components=10, learning_method=\"batch\",\n",
    "                                max_iter=25, random_state=0)"
   ]
  },
  {
   "cell_type": "code",
   "execution_count": 57,
   "metadata": {},
   "outputs": [],
   "source": [
    "document_topics = lda.fit_transform(X)"
   ]
  },
  {
   "cell_type": "markdown",
   "metadata": {},
   "source": [
    "Check shape of model"
   ]
  },
  {
   "cell_type": "code",
   "execution_count": 58,
   "metadata": {},
   "outputs": [
    {
     "name": "stdout",
     "output_type": "stream",
     "text": [
      "lda.components_.shape: (10, 1000)\n"
     ]
    }
   ],
   "source": [
    "print(\"lda.components_.shape: {}\".format(lda.components_.shape))"
   ]
  },
  {
   "cell_type": "markdown",
   "metadata": {},
   "source": [
    "Sort and get feature names"
   ]
  },
  {
   "cell_type": "code",
   "execution_count": 59,
   "metadata": {},
   "outputs": [],
   "source": [
    "\n",
    "# for each topic (a row in the components_), sort the features (ascending).\n",
    "# Invert rows with [:, ::-1] to make sorting descending\n",
    "sorting = np.argsort(lda.components_, axis=1)[:, ::-1]\n",
    "# get the feature names from the vectorizer:\n",
    "feature_names = np.array(vect.get_feature_names())"
   ]
  },
  {
   "cell_type": "markdown",
   "metadata": {},
   "source": [
    "Display 10 topics "
   ]
  },
  {
   "cell_type": "code",
   "execution_count": 60,
   "metadata": {},
   "outputs": [
    {
     "name": "stdout",
     "output_type": "stream",
     "text": [
      "topic 0       topic 1       topic 2       topic 3       topic 4       \n",
      "--------      --------      --------      --------      --------      \n",
      "time          dog           eat           amazon        coffe         \n",
      "money         treat         chocol        box           cup           \n",
      "wast          made          cooki         receiv        kcup          \n",
      "work          china         chip          packag        bean          \n",
      "didnt         chew          bar           bag           roast         \n",
      "review        jerki         realli        item          pod           \n",
      "make          chicken       love          open          brew          \n",
      "first         pet           ever          return        bitter        \n",
      "go            love          salt          arriv         blend         \n",
      "day           piec          textur        ship          weak          \n",
      "\n",
      "\n",
      "topic 5       topic 6       topic 7       topic 8       topic 9       \n",
      "--------      --------      --------      --------      --------      \n",
      "smell         tea           price         ingredi       food          \n",
      "water         green         store         sugar         cat           \n",
      "bottl         bag           amazon        contain       eat           \n",
      "drink         drink         box           organ         feed          \n",
      "bad           black         pack          food          day           \n",
      "chang         disappoint    cost          natur         diet          \n",
      "new           seed          per           list          thing         \n",
      "coconut       spice         local         corn          well          \n",
      "brand         cinnamon      oz            oil           got           \n",
      "stuff         chai          much          label         chicken       \n",
      "\n",
      "\n"
     ]
    }
   ],
   "source": [
    "# Print out the 10 topics:\n",
    "mglearn.tools.print_topics(topics=range(10), feature_names=feature_names,\n",
    "                           sorting=sorting, topics_per_chunk=5, n_words=10)\n"
   ]
  },
  {
   "cell_type": "markdown",
   "metadata": {},
   "source": [
    "Remodel for 100 topics"
   ]
  },
  {
   "cell_type": "code",
   "execution_count": 61,
   "metadata": {},
   "outputs": [],
   "source": [
    "lda100 = LatentDirichletAllocation(n_components=100, learning_method=\"batch\",\n",
    "                                   max_iter=25, random_state=0)\n",
    "document_topics100 = lda100.fit_transform(X)"
   ]
  },
  {
   "cell_type": "markdown",
   "metadata": {},
   "source": [
    "randomly choose  15 topics to display"
   ]
  },
  {
   "cell_type": "code",
   "execution_count": 62,
   "metadata": {},
   "outputs": [],
   "source": [
    "topics = np.array([7, 16, 24, 25, 28, 36, 37, 41, 45, 51, 53, 54, 63, 89, 97])"
   ]
  },
  {
   "cell_type": "markdown",
   "metadata": {},
   "source": [
    "Sort and Display topics"
   ]
  },
  {
   "cell_type": "code",
   "execution_count": 63,
   "metadata": {},
   "outputs": [
    {
     "name": "stdout",
     "output_type": "stream",
     "text": [
      "topic 7       topic 16      topic 24      topic 25      topic 28      \n",
      "--------      --------      --------      --------      --------      \n",
      "minut         tea           dri           year          can           \n",
      "toy           drink         textur        last          case          \n",
      "ball          cup           light         favorit       dent          \n",
      "dog           brew          wet           shipment      damag         \n",
      "interest      leav          seem          ago           smoke         \n",
      "30            weak          chewi         ive           open          \n",
      "apart         loos          mouth         bug           amazon        \n",
      "last          love          old           month         12            \n",
      "destroy       bitter        almost        longer        everi         \n",
      "10            noth          feel          mani          sever         \n",
      "plastic       time          past          happen        purchas       \n",
      "hold          box           recommend     purchas       whole         \n",
      "within        peach         leav          famili        problem       \n",
      "less          know          expect        sever         bean          \n",
      "treat         ice           doesnt        great         food          \n",
      "chew          disappoint    compar        standard      singl         \n",
      "time          stash         also          least         first         \n",
      "20            ive           found         notic         top           \n",
      "great         enjoy         hope          well          howev         \n",
      "thing         first         soft          make          never         \n",
      "\n",
      "\n",
      "topic 36      topic 37      topic 41      topic 45      topic 51      \n",
      "--------      --------      --------      --------      --------      \n",
      "hour          babi          chew          snack         bar           \n",
      "stomach       food          bone          healthi       rice          \n",
      "feel          happi         dog           edibl         brown         \n",
      "felt          son           teeth         crunchi       almond        \n",
      "sick          daughter      piec          soft          kind          \n",
      "energi        month         break         chunk         two           \n",
      "effect        time          choke         children      delici        \n",
      "drink         make          broke         look          lot           \n",
      "start         feed          swallow       great         think         \n",
      "night         old           mouth         enjoy         excel         \n",
      "time          love          danger        countri       ined          \n",
      "take          im            old           make          long          \n",
      "day           first         love          slightli      plu           \n",
      "gave          give          cut           natur         seem          \n",
      "first         us            give          bit           howev         \n",
      "sensit        start         first         altern        sinc          \n",
      "made          howev         could         mostli        actual        \n",
      "later         realli        month         food          experi        \n",
      "could         face          lab           definit       also          \n",
      "make          take          time          disappoint    almost        \n",
      "\n",
      "\n",
      "topic 53      topic 54      topic 63      topic 89      topic 97      \n",
      "--------      --------      --------      --------      --------      \n",
      "best          price         chicken       origin        mix           \n",
      "formula       store         protein       look          impress       \n",
      "jar           local         meal          version       prepar        \n",
      "earth         cost          health        lack          togeth        \n",
      "mold          groceri       food          plain         40            \n",
      "store         amazon        corn          wife          make          \n",
      "two           pay           diet          dissapoint    well          \n",
      "go            much          ingredi       tree          lot           \n",
      "top           ship          benefit       caffein       way           \n",
      "find          expens        liver         quickli       result        \n",
      "issu          per           yeast         forward       wasnt         \n",
      "better        less          scienc        noth          better        \n",
      "offer         worth         byproduct     expect        includ        \n",
      "anoth         sell          fat           label         blueberri     \n",
      "still         charg         lose          nice          love          \n",
      "gener         way           filler        disappoint    decid         \n",
      "first         purchas       mani          pictur        everyth       \n",
      "notic         go            anim          unfortun      10            \n",
      "avail         bought        high          us            mostli        \n",
      "friend        cheaper       first         much          seem          \n",
      "\n",
      "\n"
     ]
    }
   ],
   "source": [
    "sorting = np.argsort(lda100.components_, axis=1)[:, ::-1]\n",
    "feature_names = np.array(vect.get_feature_names())\n",
    "mglearn.tools.print_topics(topics=topics, feature_names=feature_names,\n",
    "                           sorting=sorting, topics_per_chunk=5, n_words=20)"
   ]
  },
  {
   "cell_type": "markdown",
   "metadata": {},
   "source": [
    "Plot"
   ]
  },
  {
   "cell_type": "code",
   "execution_count": 64,
   "metadata": {},
   "outputs": [
    {
     "data": {
      "image/png": "[encoded data removed]",
      "text/plain": [
       "<Figure size 720x720 with 2 Axes>"
      ]
     },
     "metadata": {
      "needs_background": "light"
     },
     "output_type": "display_data"
    }
   ],
   "source": [
    "fig, ax = plt.subplots(1, 2, figsize=(10, 10))\n",
    "topic_names = [\"{:>2} \".format(i) + \" \".join(words)\n",
    "               for i, words in enumerate(feature_names[sorting[:, :2]])]\n",
    "# two column bar chart:\n",
    "for col in [0, 1]:\n",
    "    start = col * 50\n",
    "    end = (col + 1) * 50\n",
    "    ax[col].barh(np.arange(50), np.sum(document_topics100, axis=0)[start:end])\n",
    "    ax[col].set_yticks(np.arange(50))\n",
    "    ax[col].set_yticklabels(topic_names[start:end], ha=\"left\", va=\"top\")\n",
    "    ax[col].invert_yaxis()\n",
    "    ax[col].set_xlim(10, 500)\n",
    "    yax = ax[col].get_yaxis()\n",
    "    yax.set_tick_params(pad=130)\n",
    "plt.tight_layout()"
   ]
  },
  {
   "cell_type": "markdown",
   "metadata": {},
   "source": [
    "## 2) 5 Star Ratings "
   ]
  },
  {
   "cell_type": "markdown",
   "metadata": {},
   "source": [
    "Vectorize to extract features"
   ]
  },
  {
   "cell_type": "code",
   "execution_count": 65,
   "metadata": {},
   "outputs": [],
   "source": [
    "vect = CountVectorizer(max_features=1000, max_df=.15)\n",
    "X = vect.fit_transform(df_reviews_5Star['Summary_text'])"
   ]
  },
  {
   "cell_type": "markdown",
   "metadata": {},
   "source": [
    "Use Latent Dirichlet Allocation algorithm to build vocabulary for 10 topics"
   ]
  },
  {
   "cell_type": "code",
   "execution_count": 66,
   "metadata": {},
   "outputs": [],
   "source": [
    "lda = LatentDirichletAllocation(n_components=10, learning_method=\"batch\",\n",
    "                                max_iter=25, random_state=0)"
   ]
  },
  {
   "cell_type": "code",
   "execution_count": 67,
   "metadata": {},
   "outputs": [],
   "source": [
    "document_topics = lda.fit_transform(X)"
   ]
  },
  {
   "cell_type": "markdown",
   "metadata": {},
   "source": [
    "Check shape of model"
   ]
  },
  {
   "cell_type": "code",
   "execution_count": 68,
   "metadata": {},
   "outputs": [
    {
     "name": "stdout",
     "output_type": "stream",
     "text": [
      "lda.components_.shape: (10, 1000)\n"
     ]
    }
   ],
   "source": [
    "print(\"lda.components_.shape: {}\".format(lda.components_.shape))"
   ]
  },
  {
   "cell_type": "markdown",
   "metadata": {},
   "source": [
    "Sort and get feature names"
   ]
  },
  {
   "cell_type": "code",
   "execution_count": 69,
   "metadata": {},
   "outputs": [],
   "source": [
    "\n",
    "# for each topic (a row in the components_), sort the features (ascending).\n",
    "# Invert rows with [:, ::-1] to make sorting descending\n",
    "sorting = np.argsort(lda.components_, axis=1)[:, ::-1]\n",
    "# get the feature names from the vectorizer:\n",
    "feature_names = np.array(vect.get_feature_names())"
   ]
  },
  {
   "cell_type": "markdown",
   "metadata": {},
   "source": [
    "Display 10 topics "
   ]
  },
  {
   "cell_type": "code",
   "execution_count": 70,
   "metadata": {},
   "outputs": [
    {
     "name": "stdout",
     "output_type": "stream",
     "text": [
      "topic 0       topic 1       topic 2       topic 3       topic 4       \n",
      "--------      --------      --------      --------      --------      \n",
      "amazon        oil           sugar         work          coffe         \n",
      "price         butter        milk          day           cup           \n",
      "store         mix           cereal        time          kcup          \n",
      "order         peanut        mix           water         blend         \n",
      "find          coconut       sweet         dont          roast         \n",
      "local         gluten        powder        take          strong        \n",
      "ship          free          add           drink         favorit       \n",
      "purchas       bread         fruit         im            bold          \n",
      "box           bake          syrup         go            brew          \n",
      "time          pasta         water         would         dark          \n",
      "\n",
      "\n",
      "topic 5       topic 6       topic 7       topic 8       topic 9       \n",
      "--------      --------      --------      --------      --------      \n",
      "sauc          snack         tea           dog           food          \n",
      "salt          chocol        green         treat         cat           \n",
      "hot           chip          drink         chew          eat           \n",
      "cook          cooki         bag           bag           can           \n",
      "popcorn       bar           ice           old           dri           \n",
      "add           eat           honey         babi          well          \n",
      "rice          delici        cup           give          feed          \n",
      "soup          bag           black         size          brand         \n",
      "spice         sweet         hot           eat           ingredi       \n",
      "season        healthi       ginger        small         diet          \n",
      "\n",
      "\n"
     ]
    }
   ],
   "source": [
    "# Print out the 10 topics:\n",
    "mglearn.tools.print_topics(topics=range(10), feature_names=feature_names,\n",
    "                           sorting=sorting, topics_per_chunk=5, n_words=10)"
   ]
  },
  {
   "cell_type": "markdown",
   "metadata": {},
   "source": [
    "Remodel for 100 topics"
   ]
  },
  {
   "cell_type": "code",
   "execution_count": 71,
   "metadata": {},
   "outputs": [],
   "source": [
    "lda100 = LatentDirichletAllocation(n_components=100, learning_method=\"batch\",\n",
    "                                   max_iter=25, random_state=0)\n",
    "document_topics100 = lda100.fit_transform(X)"
   ]
  },
  {
   "cell_type": "markdown",
   "metadata": {},
   "source": [
    "randomly choose  15 topics to display"
   ]
  },
  {
   "cell_type": "code",
   "execution_count": 72,
   "metadata": {},
   "outputs": [],
   "source": [
    "topics = np.array([7, 16, 24, 25, 28, 36, 37, 41, 45, 51, 53, 54, 63, 89, 97])"
   ]
  },
  {
   "cell_type": "markdown",
   "metadata": {},
   "source": [
    "Sort and Display topics"
   ]
  },
  {
   "cell_type": "code",
   "execution_count": 73,
   "metadata": {},
   "outputs": [
    {
     "name": "stdout",
     "output_type": "stream",
     "text": [
      "topic 7       topic 16      topic 24      topic 25      topic 28      \n",
      "--------      --------      --------      --------      --------      \n",
      "tea           order         water         store         spice         \n",
      "green         arriv         coconut       local         season        \n",
      "drink         quickli       boil          groceri       meat          \n",
      "black         everyon       refresh       amazon        grill         \n",
      "bag           time          better        price         steak         \n",
      "enjoy         amazon        ad            cheaper       pork          \n",
      "brew          condit        drink         much          chicken       \n",
      "wonder        perfect       liter         offer         herb          \n",
      "stash         would         much          better        everyth       \n",
      "steep         came          pure          bought        cook          \n",
      "leaf          well          say           purchas       garlic        \n",
      "also          definit       recommend     carri         dish          \n",
      "herbal        packag        would         bulk          blend         \n",
      "recommend     happi         come          found         wonder        \n",
      "drinker       outstand      real          walmart       right         \n",
      "time          soon          enjoy         expens        also          \n",
      "nice          pleas         bring         costco        ground        \n",
      "ive           place         take          onlin         without       \n",
      "caffein       continu       keep          even          kitchen       \n",
      "realli        thank         differ        compar        way           \n",
      "\n",
      "\n",
      "topic 36      topic 37      topic 41      topic 45      topic 51      \n",
      "--------      --------      --------      --------      --------      \n",
      "save          natur         size          strong        cat           \n",
      "conveni       health        small         coffe         food          \n",
      "subscrib      effect        larg          decaf         pouch         \n",
      "deliv         benefit       piec          bitter        kitti         \n",
      "amazon        also          smaller       smooth        feed          \n",
      "door          level         easili        mountain      well          \n",
      "money         blood         larger        green         problem       \n",
      "price         caus          biscuit       recommend     seem          \n",
      "program       help          import        mild          two           \n",
      "option        reduc         rawhid        full          happi         \n",
      "time          calm          contain       aftertast     much          \n",
      "right         recommend     break         bold          recommend     \n",
      "home          bodi          much          nice          would         \n",
      "go            may           enough        highli        open          \n",
      "month         increas       quantiti      magic         give          \n",
      "subscript     safe          quickli       without       chicken       \n",
      "purchas       system        littl         bodi          smell         \n",
      "shipment      research      seem          even          come          \n",
      "dont          take          would         rich          bowl          \n",
      "deliveri      found         realli        dark          everi         \n",
      "\n",
      "\n",
      "topic 53      topic 54      topic 63      topic 89      topic 97      \n",
      "--------      --------      --------      --------      --------      \n",
      "rice          sugar         long          review        roast         \n",
      "cook          sweet         last          run           coffe         \n",
      "white         sweeten       time          read          pod           \n",
      "brown         without       minut         thought       espresso      \n",
      "dish          ad            seed          id            machin        \n",
      "perfect       diabet        toy           decid         dark          \n",
      "textur        artifici      take          would         french        \n",
      "maker         brown         keep          im            senseo        \n",
      "grain         amount        way           said          italian       \n",
      "differ        much          play          dont          brew          \n",
      "wonder        aftertast     longer        say           creamer       \n",
      "tasti         slightli      around        go            starbuck      \n",
      "made          doesnt        hour          first         medium        \n",
      "wild          less          still         saw           rich          \n",
      "anyth         substitut     dont          ive           maker         \n",
      "come          dont          let           didnt         also          \n",
      "nice          even          direct        never         smooth        \n",
      "serv          teaspoon      least         give          would         \n",
      "healthier     need          measur        bought        bitter        \n",
      "call          instead       small         anoth         full          \n",
      "\n",
      "\n"
     ]
    }
   ],
   "source": [
    "sorting = np.argsort(lda100.components_, axis=1)[:, ::-1]\n",
    "feature_names = np.array(vect.get_feature_names())\n",
    "mglearn.tools.print_topics(topics=topics, feature_names=feature_names,\n",
    "                           sorting=sorting, topics_per_chunk=5, n_words=20)"
   ]
  },
  {
   "cell_type": "markdown",
   "metadata": {},
   "source": [
    "plot"
   ]
  },
  {
   "cell_type": "code",
   "execution_count": 74,
   "metadata": {},
   "outputs": [
    {
     "data": {
      "image/png": "[encoded data removed]",
      "text/plain": [
       "<Figure size 720x720 with 2 Axes>"
      ]
     },
     "metadata": {
      "needs_background": "light"
     },
     "output_type": "display_data"
    }
   ],
   "source": [
    "fig, ax = plt.subplots(1, 2, figsize=(10, 10))\n",
    "topic_names = [\"{:>2} \".format(i) + \" \".join(words)\n",
    "               for i, words in enumerate(feature_names[sorting[:, :2]])]\n",
    "# two column bar chart:\n",
    "for col in [0, 1]:\n",
    "    start = col * 50\n",
    "    end = (col + 1) * 50\n",
    "    ax[col].barh(np.arange(50), np.sum(document_topics100, axis=0)[start:end])\n",
    "    ax[col].set_yticks(np.arange(50))\n",
    "    ax[col].set_yticklabels(topic_names[start:end], ha=\"left\", va=\"top\")\n",
    "    ax[col].invert_yaxis()\n",
    "    ax[col].set_xlim(10,500)\n",
    "    yax = ax[col].get_yaxis()\n",
    "    yax.set_tick_params(pad=130)\n",
    "plt.tight_layout()"
   ]
  }
 ],
 "metadata": {
  "kernelspec": {
   "display_name": "Python 3",
   "language": "python",
   "name": "python3"
  },
  "language_info": {
   "codemirror_mode": {
    "name": "ipython",
    "version": 3
   },
   "file_extension": ".py",
   "mimetype": "text/x-python",
   "name": "python",
   "nbconvert_exporter": "python",
   "pygments_lexer": "ipython3",
   "version": "3.7.6"
  }
 },
 "nbformat": 4,
 "nbformat_minor": 2
}
