{
 "cells": [
  {
   "cell_type": "markdown",
   "metadata": {},
   "source": [
    "# F21 AA. CW 1\n",
    "# TASK 5 Topic Modelling"
   ]
  },
  {
   "cell_type": "markdown",
   "metadata": {},
   "source": [
    "Import"
   ]
  },
  {
   "cell_type": "code",
   "execution_count": 25,
   "metadata": {},
   "outputs": [],
   "source": [
    "import pandas as pd\n",
    "import numpy as np\n",
    "import mglearn\n",
    "import seaborn as sns\n",
    "import matplotlib.pyplot as plt\n",
    "\n",
    "from sklearn.feature_extraction.text import CountVectorizer\n",
    "from sklearn.decomposition import LatentDirichletAllocation"
   ]
  },
  {
   "cell_type": "markdown",
   "metadata": {},
   "source": [
    "Input"
   ]
  },
  {
   "cell_type": "code",
   "execution_count": 26,
   "metadata": {},
   "outputs": [
    {
     "data": {
      "text/html": [
       "<div>\n",
       "<style scoped>\n",
       "    .dataframe tbody tr th:only-of-type {\n",
       "        vertical-align: middle;\n",
       "    }\n",
       "\n",
       "    .dataframe tbody tr th {\n",
       "        vertical-align: top;\n",
       "    }\n",
       "\n",
       "    .dataframe thead th {\n",
       "        text-align: right;\n",
       "    }\n",
       "</style>\n",
       "<table border=\"1\" class=\"dataframe\">\n",
       "  <thead>\n",
       "    <tr style=\"text-align: right;\">\n",
       "      <th></th>\n",
       "      <th>Unnamed: 0</th>\n",
       "      <th>Score</th>\n",
       "      <th>Summary_text</th>\n",
       "      <th>length</th>\n",
       "      <th>word_count</th>\n",
       "      <th>length_change</th>\n",
       "      <th>wordcount_change</th>\n",
       "    </tr>\n",
       "  </thead>\n",
       "  <tbody>\n",
       "    <tr>\n",
       "      <th>0</th>\n",
       "      <td>0</td>\n",
       "      <td>5</td>\n",
       "      <td>good received product early seller tastey grea...</td>\n",
       "      <td>109</td>\n",
       "      <td>16</td>\n",
       "      <td>98</td>\n",
       "      <td>24</td>\n",
       "    </tr>\n",
       "    <tr>\n",
       "      <th>1</th>\n",
       "      <td>1</td>\n",
       "      <td>5</td>\n",
       "      <td>organic kosher tasty assortment premium tea te...</td>\n",
       "      <td>1334</td>\n",
       "      <td>193</td>\n",
       "      <td>664</td>\n",
       "      <td>126</td>\n",
       "    </tr>\n",
       "    <tr>\n",
       "      <th>2</th>\n",
       "      <td>2</td>\n",
       "      <td>5</td>\n",
       "      <td>excellent glutenfree spaghetti great taste gre...</td>\n",
       "      <td>690</td>\n",
       "      <td>101</td>\n",
       "      <td>456</td>\n",
       "      <td>103</td>\n",
       "    </tr>\n",
       "    <tr>\n",
       "      <th>3</th>\n",
       "      <td>3</td>\n",
       "      <td>5</td>\n",
       "      <td>lindt lindt buying multipack misled picture wh...</td>\n",
       "      <td>138</td>\n",
       "      <td>19</td>\n",
       "      <td>63</td>\n",
       "      <td>15</td>\n",
       "    </tr>\n",
       "    <tr>\n",
       "      <th>4</th>\n",
       "      <td>4</td>\n",
       "      <td>5</td>\n",
       "      <td>yum bar good loved warmed definitely think gre...</td>\n",
       "      <td>98</td>\n",
       "      <td>14</td>\n",
       "      <td>66</td>\n",
       "      <td>15</td>\n",
       "    </tr>\n",
       "  </tbody>\n",
       "</table>\n",
       "</div>"
      ],
      "text/plain": [
       "   Unnamed: 0  Score                                       Summary_text  \\\n",
       "0           0      5  good received product early seller tastey grea...   \n",
       "1           1      5  organic kosher tasty assortment premium tea te...   \n",
       "2           2      5  excellent glutenfree spaghetti great taste gre...   \n",
       "3           3      5  lindt lindt buying multipack misled picture wh...   \n",
       "4           4      5  yum bar good loved warmed definitely think gre...   \n",
       "\n",
       "   length  word_count  length_change  wordcount_change  \n",
       "0     109          16             98                24  \n",
       "1    1334         193            664               126  \n",
       "2     690         101            456               103  \n",
       "3     138          19             63                15  \n",
       "4      98          14             66                15  "
      ]
     },
     "execution_count": 26,
     "metadata": {},
     "output_type": "execute_result"
    }
   ],
   "source": [
    "# Preprocessed data from step 2 which used Stemming\n",
    "df_reviews_p_l = pd.read_csv('df_reviews_p_l.csv')\n",
    "df_reviews_p_l.head()"
   ]
  },
  {
   "cell_type": "markdown",
   "metadata": {},
   "source": [
    "Split into 1 star and 5 star ratings and subsample 30,000 rows for both"
   ]
  },
  {
   "cell_type": "markdown",
   "metadata": {},
   "source": [
    "1 Star"
   ]
  },
  {
   "cell_type": "code",
   "execution_count": 27,
   "metadata": {},
   "outputs": [],
   "source": [
    "df_reviews_1Star=df_reviews_p_l[df_reviews_p_l['Score']==1]"
   ]
  },
  {
   "cell_type": "code",
   "execution_count": 28,
   "metadata": {},
   "outputs": [
    {
     "data": {
      "text/html": [
       "<div>\n",
       "<style scoped>\n",
       "    .dataframe tbody tr th:only-of-type {\n",
       "        vertical-align: middle;\n",
       "    }\n",
       "\n",
       "    .dataframe tbody tr th {\n",
       "        vertical-align: top;\n",
       "    }\n",
       "\n",
       "    .dataframe thead th {\n",
       "        text-align: right;\n",
       "    }\n",
       "</style>\n",
       "<table border=\"1\" class=\"dataframe\">\n",
       "  <thead>\n",
       "    <tr style=\"text-align: right;\">\n",
       "      <th></th>\n",
       "      <th>Unnamed: 0</th>\n",
       "      <th>Score</th>\n",
       "      <th>Summary_text</th>\n",
       "      <th>length</th>\n",
       "      <th>word_count</th>\n",
       "      <th>length_change</th>\n",
       "      <th>wordcount_change</th>\n",
       "    </tr>\n",
       "  </thead>\n",
       "  <tbody>\n",
       "    <tr>\n",
       "      <th>18</th>\n",
       "      <td>18</td>\n",
       "      <td>1</td>\n",
       "      <td>plastic taste first coffee tried got keurig di...</td>\n",
       "      <td>243</td>\n",
       "      <td>36</td>\n",
       "      <td>112</td>\n",
       "      <td>28</td>\n",
       "    </tr>\n",
       "    <tr>\n",
       "      <th>31</th>\n",
       "      <td>31</td>\n",
       "      <td>1</td>\n",
       "      <td>dangerous doggy dont buy large german shepherd...</td>\n",
       "      <td>170</td>\n",
       "      <td>27</td>\n",
       "      <td>132</td>\n",
       "      <td>32</td>\n",
       "    </tr>\n",
       "    <tr>\n",
       "      <th>49</th>\n",
       "      <td>49</td>\n",
       "      <td>1</td>\n",
       "      <td>ugh fake food wanted sugar splurge chose short...</td>\n",
       "      <td>199</td>\n",
       "      <td>27</td>\n",
       "      <td>65</td>\n",
       "      <td>13</td>\n",
       "    </tr>\n",
       "    <tr>\n",
       "      <th>55</th>\n",
       "      <td>55</td>\n",
       "      <td>1</td>\n",
       "      <td>worst product ever chinese never brought produ...</td>\n",
       "      <td>147</td>\n",
       "      <td>23</td>\n",
       "      <td>94</td>\n",
       "      <td>22</td>\n",
       "    </tr>\n",
       "    <tr>\n",
       "      <th>56</th>\n",
       "      <td>56</td>\n",
       "      <td>1</td>\n",
       "      <td>enormous ripoff nearly twice expensive cost ne...</td>\n",
       "      <td>104</td>\n",
       "      <td>14</td>\n",
       "      <td>52</td>\n",
       "      <td>11</td>\n",
       "    </tr>\n",
       "    <tr>\n",
       "      <th>...</th>\n",
       "      <td>...</td>\n",
       "      <td>...</td>\n",
       "      <td>...</td>\n",
       "      <td>...</td>\n",
       "      <td>...</td>\n",
       "      <td>...</td>\n",
       "      <td>...</td>\n",
       "    </tr>\n",
       "    <tr>\n",
       "      <th>426306</th>\n",
       "      <td>426306</td>\n",
       "      <td>1</td>\n",
       "      <td>pleased coffee drinker know good coffee one pa...</td>\n",
       "      <td>56</td>\n",
       "      <td>9</td>\n",
       "      <td>40</td>\n",
       "      <td>11</td>\n",
       "    </tr>\n",
       "    <tr>\n",
       "      <th>426307</th>\n",
       "      <td>426307</td>\n",
       "      <td>1</td>\n",
       "      <td>two leaf blah saw chai tea shopping tazo chai ...</td>\n",
       "      <td>323</td>\n",
       "      <td>55</td>\n",
       "      <td>240</td>\n",
       "      <td>58</td>\n",
       "    </tr>\n",
       "    <tr>\n",
       "      <th>426309</th>\n",
       "      <td>426309</td>\n",
       "      <td>1</td>\n",
       "      <td>evangers buffalo fruit vegtable treat would ne...</td>\n",
       "      <td>134</td>\n",
       "      <td>20</td>\n",
       "      <td>98</td>\n",
       "      <td>24</td>\n",
       "    </tr>\n",
       "    <tr>\n",
       "      <th>426325</th>\n",
       "      <td>426325</td>\n",
       "      <td>1</td>\n",
       "      <td>great product item near expiration received it...</td>\n",
       "      <td>298</td>\n",
       "      <td>50</td>\n",
       "      <td>176</td>\n",
       "      <td>42</td>\n",
       "    </tr>\n",
       "    <tr>\n",
       "      <th>426339</th>\n",
       "      <td>426339</td>\n",
       "      <td>1</td>\n",
       "      <td>canidae dog food made dog extremely ill relied...</td>\n",
       "      <td>605</td>\n",
       "      <td>95</td>\n",
       "      <td>325</td>\n",
       "      <td>79</td>\n",
       "    </tr>\n",
       "  </tbody>\n",
       "</table>\n",
       "<p>39193 rows × 7 columns</p>\n",
       "</div>"
      ],
      "text/plain": [
       "        Unnamed: 0  Score                                       Summary_text  \\\n",
       "18              18      1  plastic taste first coffee tried got keurig di...   \n",
       "31              31      1  dangerous doggy dont buy large german shepherd...   \n",
       "49              49      1  ugh fake food wanted sugar splurge chose short...   \n",
       "55              55      1  worst product ever chinese never brought produ...   \n",
       "56              56      1  enormous ripoff nearly twice expensive cost ne...   \n",
       "...            ...    ...                                                ...   \n",
       "426306      426306      1  pleased coffee drinker know good coffee one pa...   \n",
       "426307      426307      1  two leaf blah saw chai tea shopping tazo chai ...   \n",
       "426309      426309      1  evangers buffalo fruit vegtable treat would ne...   \n",
       "426325      426325      1  great product item near expiration received it...   \n",
       "426339      426339      1  canidae dog food made dog extremely ill relied...   \n",
       "\n",
       "        length  word_count  length_change  wordcount_change  \n",
       "18         243          36            112                28  \n",
       "31         170          27            132                32  \n",
       "49         199          27             65                13  \n",
       "55         147          23             94                22  \n",
       "56         104          14             52                11  \n",
       "...        ...         ...            ...               ...  \n",
       "426306      56           9             40                11  \n",
       "426307     323          55            240                58  \n",
       "426309     134          20             98                24  \n",
       "426325     298          50            176                42  \n",
       "426339     605          95            325                79  \n",
       "\n",
       "[39193 rows x 7 columns]"
      ]
     },
     "execution_count": 28,
     "metadata": {},
     "output_type": "execute_result"
    }
   ],
   "source": [
    "df_reviews_1Star"
   ]
  },
  {
   "cell_type": "code",
   "execution_count": 29,
   "metadata": {},
   "outputs": [
    {
     "data": {
      "text/html": [
       "<div>\n",
       "<style scoped>\n",
       "    .dataframe tbody tr th:only-of-type {\n",
       "        vertical-align: middle;\n",
       "    }\n",
       "\n",
       "    .dataframe tbody tr th {\n",
       "        vertical-align: top;\n",
       "    }\n",
       "\n",
       "    .dataframe thead th {\n",
       "        text-align: right;\n",
       "    }\n",
       "</style>\n",
       "<table border=\"1\" class=\"dataframe\">\n",
       "  <thead>\n",
       "    <tr style=\"text-align: right;\">\n",
       "      <th></th>\n",
       "      <th>Unnamed: 0</th>\n",
       "      <th>Score</th>\n",
       "      <th>Summary_text</th>\n",
       "      <th>length</th>\n",
       "      <th>word_count</th>\n",
       "      <th>length_change</th>\n",
       "      <th>wordcount_change</th>\n",
       "    </tr>\n",
       "  </thead>\n",
       "  <tbody>\n",
       "    <tr>\n",
       "      <th>377445</th>\n",
       "      <td>377445</td>\n",
       "      <td>1</td>\n",
       "      <td>beer nut nut stale tastless tried get refund s...</td>\n",
       "      <td>70</td>\n",
       "      <td>12</td>\n",
       "      <td>54</td>\n",
       "      <td>14</td>\n",
       "    </tr>\n",
       "    <tr>\n",
       "      <th>350313</th>\n",
       "      <td>350313</td>\n",
       "      <td>1</td>\n",
       "      <td>sadly disappointed bought one year annivsary t...</td>\n",
       "      <td>193</td>\n",
       "      <td>32</td>\n",
       "      <td>95</td>\n",
       "      <td>24</td>\n",
       "    </tr>\n",
       "    <tr>\n",
       "      <th>383743</th>\n",
       "      <td>383743</td>\n",
       "      <td>1</td>\n",
       "      <td>new formula contains natural flavor family use...</td>\n",
       "      <td>404</td>\n",
       "      <td>57</td>\n",
       "      <td>301</td>\n",
       "      <td>60</td>\n",
       "    </tr>\n",
       "    <tr>\n",
       "      <th>69076</th>\n",
       "      <td>69076</td>\n",
       "      <td>1</td>\n",
       "      <td>taste good got passion fruit coconut water tas...</td>\n",
       "      <td>157</td>\n",
       "      <td>26</td>\n",
       "      <td>103</td>\n",
       "      <td>23</td>\n",
       "    </tr>\n",
       "    <tr>\n",
       "      <th>107649</th>\n",
       "      <td>107649</td>\n",
       "      <td>1</td>\n",
       "      <td>stale cooky sadly cooky shipment soft crunchy ...</td>\n",
       "      <td>66</td>\n",
       "      <td>11</td>\n",
       "      <td>83</td>\n",
       "      <td>16</td>\n",
       "    </tr>\n",
       "    <tr>\n",
       "      <th>...</th>\n",
       "      <td>...</td>\n",
       "      <td>...</td>\n",
       "      <td>...</td>\n",
       "      <td>...</td>\n",
       "      <td>...</td>\n",
       "      <td>...</td>\n",
       "      <td>...</td>\n",
       "    </tr>\n",
       "    <tr>\n",
       "      <th>347518</th>\n",
       "      <td>347518</td>\n",
       "      <td>1</td>\n",
       "      <td>overpriced others noted overpriced grocery ite...</td>\n",
       "      <td>172</td>\n",
       "      <td>28</td>\n",
       "      <td>113</td>\n",
       "      <td>25</td>\n",
       "    </tr>\n",
       "    <tr>\n",
       "      <th>104432</th>\n",
       "      <td>104432</td>\n",
       "      <td>1</td>\n",
       "      <td>ceylon cinnamon quality horrible brought think...</td>\n",
       "      <td>205</td>\n",
       "      <td>29</td>\n",
       "      <td>83</td>\n",
       "      <td>19</td>\n",
       "    </tr>\n",
       "    <tr>\n",
       "      <th>244616</th>\n",
       "      <td>244616</td>\n",
       "      <td>1</td>\n",
       "      <td>bacon gum ordered gum daughter missing 2 piece...</td>\n",
       "      <td>88</td>\n",
       "      <td>14</td>\n",
       "      <td>52</td>\n",
       "      <td>13</td>\n",
       "    </tr>\n",
       "    <tr>\n",
       "      <th>183030</th>\n",
       "      <td>183030</td>\n",
       "      <td>1</td>\n",
       "      <td>warning dog food warning warning dog food fed ...</td>\n",
       "      <td>276</td>\n",
       "      <td>47</td>\n",
       "      <td>197</td>\n",
       "      <td>42</td>\n",
       "    </tr>\n",
       "    <tr>\n",
       "      <th>410080</th>\n",
       "      <td>410080</td>\n",
       "      <td>1</td>\n",
       "      <td>disgusting bought baby since didnt teeth time ...</td>\n",
       "      <td>588</td>\n",
       "      <td>89</td>\n",
       "      <td>438</td>\n",
       "      <td>107</td>\n",
       "    </tr>\n",
       "  </tbody>\n",
       "</table>\n",
       "<p>30000 rows × 7 columns</p>\n",
       "</div>"
      ],
      "text/plain": [
       "        Unnamed: 0  Score                                       Summary_text  \\\n",
       "377445      377445      1  beer nut nut stale tastless tried get refund s...   \n",
       "350313      350313      1  sadly disappointed bought one year annivsary t...   \n",
       "383743      383743      1  new formula contains natural flavor family use...   \n",
       "69076        69076      1  taste good got passion fruit coconut water tas...   \n",
       "107649      107649      1  stale cooky sadly cooky shipment soft crunchy ...   \n",
       "...            ...    ...                                                ...   \n",
       "347518      347518      1  overpriced others noted overpriced grocery ite...   \n",
       "104432      104432      1  ceylon cinnamon quality horrible brought think...   \n",
       "244616      244616      1  bacon gum ordered gum daughter missing 2 piece...   \n",
       "183030      183030      1  warning dog food warning warning dog food fed ...   \n",
       "410080      410080      1  disgusting bought baby since didnt teeth time ...   \n",
       "\n",
       "        length  word_count  length_change  wordcount_change  \n",
       "377445      70          12             54                14  \n",
       "350313     193          32             95                24  \n",
       "383743     404          57            301                60  \n",
       "69076      157          26            103                23  \n",
       "107649      66          11             83                16  \n",
       "...        ...         ...            ...               ...  \n",
       "347518     172          28            113                25  \n",
       "104432     205          29             83                19  \n",
       "244616      88          14             52                13  \n",
       "183030     276          47            197                42  \n",
       "410080     588          89            438               107  \n",
       "\n",
       "[30000 rows x 7 columns]"
      ]
     },
     "execution_count": 29,
     "metadata": {},
     "output_type": "execute_result"
    }
   ],
   "source": [
    "df_reviews_1Star.sample(frac =30000/len(df_reviews_1Star)) "
   ]
  },
  {
   "cell_type": "markdown",
   "metadata": {},
   "source": [
    "5 Star"
   ]
  },
  {
   "cell_type": "code",
   "execution_count": 30,
   "metadata": {},
   "outputs": [],
   "source": [
    "df_reviews_5Star=df_reviews_p_l[df_reviews_p_l['Score']==5]"
   ]
  },
  {
   "cell_type": "code",
   "execution_count": 31,
   "metadata": {},
   "outputs": [
    {
     "data": {
      "text/html": [
       "<div>\n",
       "<style scoped>\n",
       "    .dataframe tbody tr th:only-of-type {\n",
       "        vertical-align: middle;\n",
       "    }\n",
       "\n",
       "    .dataframe tbody tr th {\n",
       "        vertical-align: top;\n",
       "    }\n",
       "\n",
       "    .dataframe thead th {\n",
       "        text-align: right;\n",
       "    }\n",
       "</style>\n",
       "<table border=\"1\" class=\"dataframe\">\n",
       "  <thead>\n",
       "    <tr style=\"text-align: right;\">\n",
       "      <th></th>\n",
       "      <th>Unnamed: 0</th>\n",
       "      <th>Score</th>\n",
       "      <th>Summary_text</th>\n",
       "      <th>length</th>\n",
       "      <th>word_count</th>\n",
       "      <th>length_change</th>\n",
       "      <th>wordcount_change</th>\n",
       "    </tr>\n",
       "  </thead>\n",
       "  <tbody>\n",
       "    <tr>\n",
       "      <th>0</th>\n",
       "      <td>0</td>\n",
       "      <td>5</td>\n",
       "      <td>good received product early seller tastey grea...</td>\n",
       "      <td>109</td>\n",
       "      <td>16</td>\n",
       "      <td>98</td>\n",
       "      <td>24</td>\n",
       "    </tr>\n",
       "    <tr>\n",
       "      <th>1</th>\n",
       "      <td>1</td>\n",
       "      <td>5</td>\n",
       "      <td>organic kosher tasty assortment premium tea te...</td>\n",
       "      <td>1334</td>\n",
       "      <td>193</td>\n",
       "      <td>664</td>\n",
       "      <td>126</td>\n",
       "    </tr>\n",
       "    <tr>\n",
       "      <th>2</th>\n",
       "      <td>2</td>\n",
       "      <td>5</td>\n",
       "      <td>excellent glutenfree spaghetti great taste gre...</td>\n",
       "      <td>690</td>\n",
       "      <td>101</td>\n",
       "      <td>456</td>\n",
       "      <td>103</td>\n",
       "    </tr>\n",
       "    <tr>\n",
       "      <th>3</th>\n",
       "      <td>3</td>\n",
       "      <td>5</td>\n",
       "      <td>lindt lindt buying multipack misled picture wh...</td>\n",
       "      <td>138</td>\n",
       "      <td>19</td>\n",
       "      <td>63</td>\n",
       "      <td>15</td>\n",
       "    </tr>\n",
       "    <tr>\n",
       "      <th>4</th>\n",
       "      <td>4</td>\n",
       "      <td>5</td>\n",
       "      <td>yum bar good loved warmed definitely think gre...</td>\n",
       "      <td>98</td>\n",
       "      <td>14</td>\n",
       "      <td>66</td>\n",
       "      <td>15</td>\n",
       "    </tr>\n",
       "    <tr>\n",
       "      <th>...</th>\n",
       "      <td>...</td>\n",
       "      <td>...</td>\n",
       "      <td>...</td>\n",
       "      <td>...</td>\n",
       "      <td>...</td>\n",
       "      <td>...</td>\n",
       "      <td>...</td>\n",
       "    </tr>\n",
       "    <tr>\n",
       "      <th>426333</th>\n",
       "      <td>426333</td>\n",
       "      <td>5</td>\n",
       "      <td>yum current favorite tea basically given lipto...</td>\n",
       "      <td>94</td>\n",
       "      <td>16</td>\n",
       "      <td>44</td>\n",
       "      <td>10</td>\n",
       "    </tr>\n",
       "    <tr>\n",
       "      <th>426334</th>\n",
       "      <td>426334</td>\n",
       "      <td>5</td>\n",
       "      <td>wow grandma work growing southwest refried bea...</td>\n",
       "      <td>346</td>\n",
       "      <td>54</td>\n",
       "      <td>214</td>\n",
       "      <td>53</td>\n",
       "    </tr>\n",
       "    <tr>\n",
       "      <th>426336</th>\n",
       "      <td>426336</td>\n",
       "      <td>5</td>\n",
       "      <td>antifatigue fantastic product im relatively ne...</td>\n",
       "      <td>1362</td>\n",
       "      <td>215</td>\n",
       "      <td>835</td>\n",
       "      <td>201</td>\n",
       "    </tr>\n",
       "    <tr>\n",
       "      <th>426337</th>\n",
       "      <td>426337</td>\n",
       "      <td>5</td>\n",
       "      <td>always right formula trust brandthe flavor ble...</td>\n",
       "      <td>110</td>\n",
       "      <td>16</td>\n",
       "      <td>41</td>\n",
       "      <td>9</td>\n",
       "    </tr>\n",
       "    <tr>\n",
       "      <th>426338</th>\n",
       "      <td>426338</td>\n",
       "      <td>5</td>\n",
       "      <td>smoked black pepper pepper great buying mccorm...</td>\n",
       "      <td>244</td>\n",
       "      <td>35</td>\n",
       "      <td>134</td>\n",
       "      <td>31</td>\n",
       "    </tr>\n",
       "  </tbody>\n",
       "</table>\n",
       "<p>272492 rows × 7 columns</p>\n",
       "</div>"
      ],
      "text/plain": [
       "        Unnamed: 0  Score                                       Summary_text  \\\n",
       "0                0      5  good received product early seller tastey grea...   \n",
       "1                1      5  organic kosher tasty assortment premium tea te...   \n",
       "2                2      5  excellent glutenfree spaghetti great taste gre...   \n",
       "3                3      5  lindt lindt buying multipack misled picture wh...   \n",
       "4                4      5  yum bar good loved warmed definitely think gre...   \n",
       "...            ...    ...                                                ...   \n",
       "426333      426333      5  yum current favorite tea basically given lipto...   \n",
       "426334      426334      5  wow grandma work growing southwest refried bea...   \n",
       "426336      426336      5  antifatigue fantastic product im relatively ne...   \n",
       "426337      426337      5  always right formula trust brandthe flavor ble...   \n",
       "426338      426338      5  smoked black pepper pepper great buying mccorm...   \n",
       "\n",
       "        length  word_count  length_change  wordcount_change  \n",
       "0          109          16             98                24  \n",
       "1         1334         193            664               126  \n",
       "2          690         101            456               103  \n",
       "3          138          19             63                15  \n",
       "4           98          14             66                15  \n",
       "...        ...         ...            ...               ...  \n",
       "426333      94          16             44                10  \n",
       "426334     346          54            214                53  \n",
       "426336    1362         215            835               201  \n",
       "426337     110          16             41                 9  \n",
       "426338     244          35            134                31  \n",
       "\n",
       "[272492 rows x 7 columns]"
      ]
     },
     "execution_count": 31,
     "metadata": {},
     "output_type": "execute_result"
    }
   ],
   "source": [
    "df_reviews_5Star"
   ]
  },
  {
   "cell_type": "code",
   "execution_count": 32,
   "metadata": {},
   "outputs": [],
   "source": [
    "df_reviews_5Star=df_reviews_5Star.sample(frac =30000/len(df_reviews_5Star)) "
   ]
  },
  {
   "cell_type": "code",
   "execution_count": 33,
   "metadata": {},
   "outputs": [
    {
     "data": {
      "text/html": [
       "<div>\n",
       "<style scoped>\n",
       "    .dataframe tbody tr th:only-of-type {\n",
       "        vertical-align: middle;\n",
       "    }\n",
       "\n",
       "    .dataframe tbody tr th {\n",
       "        vertical-align: top;\n",
       "    }\n",
       "\n",
       "    .dataframe thead th {\n",
       "        text-align: right;\n",
       "    }\n",
       "</style>\n",
       "<table border=\"1\" class=\"dataframe\">\n",
       "  <thead>\n",
       "    <tr style=\"text-align: right;\">\n",
       "      <th></th>\n",
       "      <th>Unnamed: 0</th>\n",
       "      <th>Score</th>\n",
       "      <th>Summary_text</th>\n",
       "      <th>length</th>\n",
       "      <th>word_count</th>\n",
       "      <th>length_change</th>\n",
       "      <th>wordcount_change</th>\n",
       "    </tr>\n",
       "  </thead>\n",
       "  <tbody>\n",
       "    <tr>\n",
       "      <th>406317</th>\n",
       "      <td>406317</td>\n",
       "      <td>5</td>\n",
       "      <td>worth trying bold blend good cup coffee strong...</td>\n",
       "      <td>135</td>\n",
       "      <td>21</td>\n",
       "      <td>115</td>\n",
       "      <td>27</td>\n",
       "    </tr>\n",
       "    <tr>\n",
       "      <th>72335</th>\n",
       "      <td>72335</td>\n",
       "      <td>5</td>\n",
       "      <td>tasty enjoy product sweet like fizz heavy tast...</td>\n",
       "      <td>83</td>\n",
       "      <td>13</td>\n",
       "      <td>87</td>\n",
       "      <td>20</td>\n",
       "    </tr>\n",
       "    <tr>\n",
       "      <th>48877</th>\n",
       "      <td>48877</td>\n",
       "      <td>5</td>\n",
       "      <td>tasty vanilla latte tastier price great flavou...</td>\n",
       "      <td>150</td>\n",
       "      <td>23</td>\n",
       "      <td>57</td>\n",
       "      <td>12</td>\n",
       "    </tr>\n",
       "    <tr>\n",
       "      <th>98575</th>\n",
       "      <td>98575</td>\n",
       "      <td>5</td>\n",
       "      <td>great soup thoroughly enjoyed soup taste great...</td>\n",
       "      <td>83</td>\n",
       "      <td>13</td>\n",
       "      <td>34</td>\n",
       "      <td>8</td>\n",
       "    </tr>\n",
       "    <tr>\n",
       "      <th>65051</th>\n",
       "      <td>65051</td>\n",
       "      <td>5</td>\n",
       "      <td>excellent flavor difficult time finding dinner...</td>\n",
       "      <td>231</td>\n",
       "      <td>38</td>\n",
       "      <td>160</td>\n",
       "      <td>39</td>\n",
       "    </tr>\n",
       "    <tr>\n",
       "      <th>...</th>\n",
       "      <td>...</td>\n",
       "      <td>...</td>\n",
       "      <td>...</td>\n",
       "      <td>...</td>\n",
       "      <td>...</td>\n",
       "      <td>...</td>\n",
       "      <td>...</td>\n",
       "    </tr>\n",
       "    <tr>\n",
       "      <th>397344</th>\n",
       "      <td>397344</td>\n",
       "      <td>5</td>\n",
       "      <td>massmarket drugstore chocolate excellent dark ...</td>\n",
       "      <td>351</td>\n",
       "      <td>43</td>\n",
       "      <td>164</td>\n",
       "      <td>32</td>\n",
       "    </tr>\n",
       "    <tr>\n",
       "      <th>64426</th>\n",
       "      <td>64426</td>\n",
       "      <td>5</td>\n",
       "      <td>shortage potato mild comforting soup think one...</td>\n",
       "      <td>356</td>\n",
       "      <td>54</td>\n",
       "      <td>185</td>\n",
       "      <td>42</td>\n",
       "    </tr>\n",
       "    <tr>\n",
       "      <th>129994</th>\n",
       "      <td>129994</td>\n",
       "      <td>5</td>\n",
       "      <td>great taste honeytree mother hubbard golden mo...</td>\n",
       "      <td>137</td>\n",
       "      <td>21</td>\n",
       "      <td>65</td>\n",
       "      <td>17</td>\n",
       "    </tr>\n",
       "    <tr>\n",
       "      <th>391867</th>\n",
       "      <td>391867</td>\n",
       "      <td>5</td>\n",
       "      <td>delicious health packet treat thats also nutri...</td>\n",
       "      <td>93</td>\n",
       "      <td>12</td>\n",
       "      <td>27</td>\n",
       "      <td>6</td>\n",
       "    </tr>\n",
       "    <tr>\n",
       "      <th>95258</th>\n",
       "      <td>95258</td>\n",
       "      <td>5</td>\n",
       "      <td>wonderfully declicious another wabash valley p...</td>\n",
       "      <td>128</td>\n",
       "      <td>18</td>\n",
       "      <td>73</td>\n",
       "      <td>16</td>\n",
       "    </tr>\n",
       "  </tbody>\n",
       "</table>\n",
       "<p>30000 rows × 7 columns</p>\n",
       "</div>"
      ],
      "text/plain": [
       "        Unnamed: 0  Score                                       Summary_text  \\\n",
       "406317      406317      5  worth trying bold blend good cup coffee strong...   \n",
       "72335        72335      5  tasty enjoy product sweet like fizz heavy tast...   \n",
       "48877        48877      5  tasty vanilla latte tastier price great flavou...   \n",
       "98575        98575      5  great soup thoroughly enjoyed soup taste great...   \n",
       "65051        65051      5  excellent flavor difficult time finding dinner...   \n",
       "...            ...    ...                                                ...   \n",
       "397344      397344      5  massmarket drugstore chocolate excellent dark ...   \n",
       "64426        64426      5  shortage potato mild comforting soup think one...   \n",
       "129994      129994      5  great taste honeytree mother hubbard golden mo...   \n",
       "391867      391867      5  delicious health packet treat thats also nutri...   \n",
       "95258        95258      5  wonderfully declicious another wabash valley p...   \n",
       "\n",
       "        length  word_count  length_change  wordcount_change  \n",
       "406317     135          21            115                27  \n",
       "72335       83          13             87                20  \n",
       "48877      150          23             57                12  \n",
       "98575       83          13             34                 8  \n",
       "65051      231          38            160                39  \n",
       "...        ...         ...            ...               ...  \n",
       "397344     351          43            164                32  \n",
       "64426      356          54            185                42  \n",
       "129994     137          21             65                17  \n",
       "391867      93          12             27                 6  \n",
       "95258      128          18             73                16  \n",
       "\n",
       "[30000 rows x 7 columns]"
      ]
     },
     "execution_count": 33,
     "metadata": {},
     "output_type": "execute_result"
    }
   ],
   "source": [
    "df_reviews_5Star"
   ]
  },
  {
   "cell_type": "markdown",
   "metadata": {},
   "source": [
    "## TOPIC MODELLING"
   ]
  },
  {
   "cell_type": "markdown",
   "metadata": {},
   "source": [
    "### a) 1 Star ratings"
   ]
  },
  {
   "cell_type": "markdown",
   "metadata": {},
   "source": [
    "Vectorize to extract features"
   ]
  },
  {
   "cell_type": "code",
   "execution_count": 34,
   "metadata": {},
   "outputs": [],
   "source": [
    "vect = CountVectorizer(max_features=1000, max_df=.15)\n",
    "X = vect.fit_transform(df_reviews_1Star['Summary_text'])"
   ]
  },
  {
   "cell_type": "markdown",
   "metadata": {},
   "source": [
    "Use Latent Dirichlet Allocation algorithm to build vocabulary for 10 topics"
   ]
  },
  {
   "cell_type": "code",
   "execution_count": 35,
   "metadata": {},
   "outputs": [],
   "source": [
    "lda = LatentDirichletAllocation(n_components=10, learning_method=\"batch\",\n",
    "                                max_iter=25, random_state=0)"
   ]
  },
  {
   "cell_type": "code",
   "execution_count": 36,
   "metadata": {},
   "outputs": [],
   "source": [
    "document_topics = lda.fit_transform(X)"
   ]
  },
  {
   "cell_type": "markdown",
   "metadata": {},
   "source": [
    "Check shape of model"
   ]
  },
  {
   "cell_type": "code",
   "execution_count": 37,
   "metadata": {},
   "outputs": [
    {
     "name": "stdout",
     "output_type": "stream",
     "text": [
      "lda.components_.shape: (10, 1000)\n"
     ]
    }
   ],
   "source": [
    "print(\"lda.components_.shape: {}\".format(lda.components_.shape))"
   ]
  },
  {
   "cell_type": "markdown",
   "metadata": {},
   "source": [
    "Sort and get feature names"
   ]
  },
  {
   "cell_type": "code",
   "execution_count": 38,
   "metadata": {},
   "outputs": [],
   "source": [
    "\n",
    "# for each topic (a row in the components_), sort the features (ascending).\n",
    "# Invert rows with [:, ::-1] to make sorting descending\n",
    "sorting = np.argsort(lda.components_, axis=1)[:, ::-1]\n",
    "# get the feature names from the vectorizer:\n",
    "feature_names = np.array(vect.get_feature_names())"
   ]
  },
  {
   "cell_type": "markdown",
   "metadata": {},
   "source": [
    "Display 10 topics "
   ]
  },
  {
   "cell_type": "code",
   "execution_count": 39,
   "metadata": {},
   "outputs": [
    {
     "name": "stdout",
     "output_type": "stream",
     "text": [
      "topic 0       topic 1       topic 2       topic 3       topic 4       \n",
      "--------      --------      --------      --------      --------      \n",
      "tea           coffee        dog           chocolate     sugar         \n",
      "water         cup           treat         chip          ingredient    \n",
      "drink         kcups         time          oil           free          \n",
      "coconut       bean          bag           bar           artificial    \n",
      "green         pod           day           salt          corn          \n",
      "bottle        machine       work          cooky         natural       \n",
      "leaf          kcup          hard          milk          syrup         \n",
      "tried         blend         piece         butter        sweet         \n",
      "seed          weak          didnt         fat           fruit         \n",
      "brand         ground        first         peanut        gluten        \n",
      "\n",
      "\n",
      "topic 5       topic 6       topic 7       topic 8       topic 9       \n",
      "--------      --------      --------      --------      --------      \n",
      "food          box           bad           food          amazon        \n",
      "cat           price         tried         dog           order         \n",
      "eat           amazon        ever          made          ordered       \n",
      "eating        item          really        china         received      \n",
      "diet          bag           money         formula       time          \n",
      "day           pack          tasted        chicken       date          \n",
      "thing         store         stuff         pet           old           \n",
      "meat          shipping      awful         baby          company       \n",
      "science       package       try           treat         stale         \n",
      "got           can           eat           vet           year          \n",
      "\n",
      "\n"
     ]
    }
   ],
   "source": [
    "# Print out the 10 topics:\n",
    "mglearn.tools.print_topics(topics=range(10), feature_names=feature_names,\n",
    "                           sorting=sorting, topics_per_chunk=5, n_words=10)\n"
   ]
  },
  {
   "cell_type": "markdown",
   "metadata": {},
   "source": [
    "Remodel for 100 topics"
   ]
  },
  {
   "cell_type": "code",
   "execution_count": 40,
   "metadata": {},
   "outputs": [],
   "source": [
    "lda100 = LatentDirichletAllocation(n_components=100, learning_method=\"batch\",\n",
    "                                   max_iter=25, random_state=0)\n",
    "document_topics100 = lda100.fit_transform(X)"
   ]
  },
  {
   "cell_type": "markdown",
   "metadata": {},
   "source": [
    "randomly choose  15 topics to display"
   ]
  },
  {
   "cell_type": "code",
   "execution_count": 41,
   "metadata": {},
   "outputs": [],
   "source": [
    "topics = np.array([7, 16, 24, 25, 28, 36, 37, 41, 45, 51, 53, 54, 63, 89, 97])"
   ]
  },
  {
   "cell_type": "markdown",
   "metadata": {},
   "source": [
    "Sort and Display topics"
   ]
  },
  {
   "cell_type": "code",
   "execution_count": 42,
   "metadata": {},
   "outputs": [
    {
     "name": "stdout",
     "output_type": "stream",
     "text": [
      "topic 7       topic 16      topic 24      topic 25      topic 28      \n",
      "--------      --------      --------      --------      --------      \n",
      "texture       cost          diet          contains      terrible      \n",
      "soy           le            food          low           stick         \n",
      "tasty         per           science       avoid         cracker       \n",
      "person        expensive     animal        manufacturer  ill           \n",
      "unpleasant    ounce         please        warning       lack          \n",
      "eating        much          vet           effect        nothing       \n",
      "found         weight        evo           may           try           \n",
      "could         lb            cat           search        love          \n",
      "also          better        research      heart         maybe         \n",
      "hard          count         hill          level         least         \n",
      "tried         total         pet           many          look          \n",
      "little        time          feed          toxic         trash         \n",
      "company       cheaper       ingredient    also          instead       \n",
      "amazing       way           filled        human         way           \n",
      "jerky         two           horrible      cause         usually       \n",
      "delicious     amount        try           alternative   close         \n",
      "much          lot           cheap         due           always        \n",
      "learned       10            price         natural       reason        \n",
      "eats          25            brand         stop          almost        \n",
      "garlic        worth         grain         website       favorite      \n",
      "\n",
      "\n",
      "topic 36      topic 37      topic 41      topic 45      topic 51      \n",
      "--------      --------      --------      --------      --------      \n",
      "item          bad           day           blend         food          \n",
      "return        milk          time          roast         junk          \n",
      "amazon        batch         next          french        pet           \n",
      "beware        really        later         mountain      recall        \n",
      "shipped       got           hour          dark          wellness      \n",
      "buyer         maybe         got           starbucks     health        \n",
      "shipment      wife          took          green         dry           \n",
      "gift          tried         went          coffee        canned        \n",
      "received      something     two           breakfast     never         \n",
      "returned      time          week          light         wet           \n",
      "ordered       tasted        first         try           feeding       \n",
      "cant          taking        back          better        company       \n",
      "ship          bought        still         bold          feel          \n",
      "purchase      thought       within        favorite      fed           \n",
      "disappointed  ive           every         decaf         feed          \n",
      "cannot        pretty        started       said          made          \n",
      "refund        try           thing         give          week          \n",
      "arrived       didnt         home          bought        could         \n",
      "receive       better        ate           almost        lot           \n",
      "shipping      much          morning       people        thought       \n",
      "\n",
      "\n",
      "topic 53      topic 54      topic 63      topic 89      topic 97      \n",
      "--------      --------      --------      --------      --------      \n",
      "bottle        cat           drink         made          ingredient    \n",
      "small         food          energy        china         list          \n",
      "size          diet          light         treat         rice          \n",
      "large         litter        drinking      dog           listed        \n",
      "tiny          science       caffeine      usa           natural       \n",
      "bug           ingredient    sip           pet           read          \n",
      "amount        formula       tried         chicken       first         \n",
      "aware         also          cant          read          contains      \n",
      "little        kitty         try           fda           sugar         \n",
      "could         chicken       first         say           artificial    \n",
      "way           first         much          amazon        label         \n",
      "please        many          think         country       contain       \n",
      "care          animal        couldnt       warning       sucralose     \n",
      "purchased     feeding       really        state         added         \n",
      "believe       health        people        jerky         sweetener     \n",
      "beware        need          want          company       also          \n",
      "fact          salmon        little        come          main          \n",
      "make          pet           im            look          healthy       \n",
      "adult         grain         take          love          amazon        \n",
      "much          time          feel          may           allergic      \n",
      "\n",
      "\n"
     ]
    }
   ],
   "source": [
    "sorting = np.argsort(lda100.components_, axis=1)[:, ::-1]\n",
    "feature_names = np.array(vect.get_feature_names())\n",
    "mglearn.tools.print_topics(topics=topics, feature_names=feature_names,\n",
    "                           sorting=sorting, topics_per_chunk=5, n_words=20)"
   ]
  },
  {
   "cell_type": "markdown",
   "metadata": {},
   "source": [
    "Plot"
   ]
  },
  {
   "cell_type": "code",
   "execution_count": 43,
   "metadata": {},
   "outputs": [
    {
     "data": {
      "image/png": "[encoded data removed]",
      "text/plain": [
       "<Figure size 720x720 with 2 Axes>"
      ]
     },
     "metadata": {
      "needs_background": "light"
     },
     "output_type": "display_data"
    }
   ],
   "source": [
    "fig, ax = plt.subplots(1, 2, figsize=(10, 10))\n",
    "topic_names = [\"{:>2} \".format(i) + \" \".join(words)\n",
    "               for i, words in enumerate(feature_names[sorting[:, :2]])]\n",
    "# two column bar chart:\n",
    "for col in [0, 1]:\n",
    "    start = col * 50\n",
    "    end = (col + 1) * 50\n",
    "    ax[col].barh(np.arange(50), np.sum(document_topics100, axis=0)[start:end])\n",
    "    ax[col].set_yticks(np.arange(50))\n",
    "    ax[col].set_yticklabels(topic_names[start:end], ha=\"left\", va=\"top\")\n",
    "    ax[col].invert_yaxis()\n",
    "    ax[col].set_xlim(10, 500)\n",
    "    yax = ax[col].get_yaxis()\n",
    "    yax.set_tick_params(pad=130)\n",
    "plt.tight_layout()"
   ]
  },
  {
   "cell_type": "markdown",
   "metadata": {},
   "source": [
    "## 2) 5 Star Ratings "
   ]
  },
  {
   "cell_type": "markdown",
   "metadata": {},
   "source": [
    "Vectorize to extract features"
   ]
  },
  {
   "cell_type": "code",
   "execution_count": 44,
   "metadata": {},
   "outputs": [],
   "source": [
    "vect = CountVectorizer(max_features=1000, max_df=.15)\n",
    "X = vect.fit_transform(df_reviews_5Star['Summary_text'])"
   ]
  },
  {
   "cell_type": "markdown",
   "metadata": {},
   "source": [
    "Use Latent Dirichlet Allocation algorithm to build vocabulary for 10 topics"
   ]
  },
  {
   "cell_type": "code",
   "execution_count": 45,
   "metadata": {},
   "outputs": [],
   "source": [
    "lda = LatentDirichletAllocation(n_components=10, learning_method=\"batch\",\n",
    "                                max_iter=25, random_state=0)"
   ]
  },
  {
   "cell_type": "code",
   "execution_count": 46,
   "metadata": {},
   "outputs": [],
   "source": [
    "document_topics = lda.fit_transform(X)"
   ]
  },
  {
   "cell_type": "markdown",
   "metadata": {},
   "source": [
    "Check shape of model"
   ]
  },
  {
   "cell_type": "code",
   "execution_count": 47,
   "metadata": {},
   "outputs": [
    {
     "name": "stdout",
     "output_type": "stream",
     "text": [
      "lda.components_.shape: (10, 1000)\n"
     ]
    }
   ],
   "source": [
    "print(\"lda.components_.shape: {}\".format(lda.components_.shape))"
   ]
  },
  {
   "cell_type": "markdown",
   "metadata": {},
   "source": [
    "Sort and get feature names"
   ]
  },
  {
   "cell_type": "code",
   "execution_count": 48,
   "metadata": {},
   "outputs": [],
   "source": [
    "\n",
    "# for each topic (a row in the components_), sort the features (ascending).\n",
    "# Invert rows with [:, ::-1] to make sorting descending\n",
    "sorting = np.argsort(lda.components_, axis=1)[:, ::-1]\n",
    "# get the feature names from the vectorizer:\n",
    "feature_names = np.array(vect.get_feature_names())"
   ]
  },
  {
   "cell_type": "markdown",
   "metadata": {},
   "source": [
    "Display 10 topics "
   ]
  },
  {
   "cell_type": "code",
   "execution_count": 49,
   "metadata": {},
   "outputs": [
    {
     "name": "stdout",
     "output_type": "stream",
     "text": [
      "topic 0       topic 1       topic 2       topic 3       topic 4       \n",
      "--------      --------      --------      --------      --------      \n",
      "tea           treat         oil           food          amazon        \n",
      "drink         dog           use           cat           store         \n",
      "water         time          sauce         dog           price         \n",
      "green         day           cereal        eat           find          \n",
      "hot           bag           rice          diet          buy           \n",
      "cup           little        add           dry           local         \n",
      "bag           work          hot           brand         found         \n",
      "day           keep          salt          ingredient    grocery       \n",
      "drinking      small         bread         year          year          \n",
      "also          use           soup          healthy       buying        \n",
      "\n",
      "\n",
      "topic 5       topic 6       topic 7       topic 8       topic 9       \n",
      "--------      --------      --------      --------      --------      \n",
      "chocolate     order         coffee        snack         sweet         \n",
      "bar           box           cup           chip          candy         \n",
      "sugar         ordered       strong        bag           really        \n",
      "cooky         fresh         popcorn       eat           try           \n",
      "free          arrived       bold          healthy       fruit         \n",
      "butter        time          favorite      kid           im            \n",
      "mix           fast          roast         baby          dont          \n",
      "peanut        would         bean          delicious     would         \n",
      "milk          gift          kcups         tasty         stuff         \n",
      "protein       received      blend         sweet         delicious     \n",
      "\n",
      "\n"
     ]
    }
   ],
   "source": [
    "# Print out the 10 topics:\n",
    "mglearn.tools.print_topics(topics=range(10), feature_names=feature_names,\n",
    "                           sorting=sorting, topics_per_chunk=5, n_words=10)"
   ]
  },
  {
   "cell_type": "markdown",
   "metadata": {},
   "source": [
    "Remodel for 100 topics"
   ]
  },
  {
   "cell_type": "code",
   "execution_count": 50,
   "metadata": {},
   "outputs": [],
   "source": [
    "lda100 = LatentDirichletAllocation(n_components=100, learning_method=\"batch\",\n",
    "                                   max_iter=25, random_state=0)\n",
    "document_topics100 = lda100.fit_transform(X)"
   ]
  },
  {
   "cell_type": "markdown",
   "metadata": {},
   "source": [
    "randomly choose  15 topics to display"
   ]
  },
  {
   "cell_type": "code",
   "execution_count": 51,
   "metadata": {},
   "outputs": [],
   "source": [
    "topics = np.array([7, 16, 24, 25, 28, 36, 37, 41, 45, 51, 53, 54, 63, 89, 97])"
   ]
  },
  {
   "cell_type": "markdown",
   "metadata": {},
   "source": [
    "Sort and Display topics"
   ]
  },
  {
   "cell_type": "code",
   "execution_count": 52,
   "metadata": {},
   "outputs": [
    {
     "name": "stdout",
     "output_type": "stream",
     "text": [
      "topic 7       topic 16      topic 24      topic 25      topic 28      \n",
      "--------      --------      --------      --------      --------      \n",
      "chip          ive           eating        coffee        rice          \n",
      "potato        yet           stop          starbucks     meal          \n",
      "kettle        tried         plain         instant       cook          \n",
      "bbq           havent        alone         drink         brown         \n",
      "salty         review        crisp         shop          cooked        \n",
      "eat           star          stand         better        oat           \n",
      "baked         strawberry    dip           much          cut           \n",
      "crunchy       berry         replacement   drinker       cooking       \n",
      "sweet         ever          eat           ever          use           \n",
      "crunch        im            allergic      ive           texture       \n",
      "snack         id            delicious     tasting       food          \n",
      "brand         outstanding   enjoy         house         time          \n",
      "ever          anyway        perfect       tried         delicious     \n",
      "delicious     ton           hard          brand         way           \n",
      "also          better        dont          drinking      well          \n",
      "dont          far           spread        ground        tasting       \n",
      "really        found         family        enjoy         eat           \n",
      "alternative   number        also          really        dont          \n",
      "much          many          offered       brewed        microwave     \n",
      "tried         really        case          time          much          \n",
      "\n",
      "\n",
      "topic 36      topic 37      topic 41      topic 45      topic 51      \n",
      "--------      --------      --------      --------      --------      \n",
      "blue          free          cereal        soup          water         \n",
      "blood         gluten        breakfast     chicken       jelly         \n",
      "body          diet          granola       choice        bear          \n",
      "level         eat           yogurt        vegetable     plenty        \n",
      "magnesium     food          eat           lunch         need          \n",
      "source        husband       fiber         staple        drinking      \n",
      "heart         found         crunch        vegan         plain         \n",
      "almond        tasting       bowl          pantry        better        \n",
      "diamond       wheat         milk          also          ive           \n",
      "normal        better        healthy       veggie        come          \n",
      "cause         many          crunchy       delicious     warm          \n",
      "diabetic      need          morning       food          much          \n",
      "known         even          delicious     tasty         also          \n",
      "adult         far           eating        egg           sure          \n",
      "help          thank         fruit         use           bottle        \n",
      "recommended   tried         nutritious    bowl          least         \n",
      "sugar         texture       oat           well          especially    \n",
      "found         finding       also          tomato        tasting       \n",
      "healthy       also          full          review        le            \n",
      "keep          gone          raisin        added         use           \n",
      "\n",
      "\n",
      "topic 53      topic 54      topic 63      topic 89      topic 97      \n",
      "--------      --------      --------      --------      --------      \n",
      "food          store         cant          salt          add           \n",
      "problem       local         amazing       seasoning     cup           \n",
      "issue         grocery       life          vinegar       little        \n",
      "allergy       amazon        beat          salty         use           \n",
      "stomach       buy           cannot        sea           caramel       \n",
      "sensitive     cheaper       wrong         mustard       let           \n",
      "switched      much          enough        use           pour          \n",
      "natural       bought        believe       steak         tablespoon    \n",
      "brand         carry         go            pork          put           \n",
      "also          find          anyone        ever          bit           \n",
      "skin          supermarket   live          pepper        12            \n",
      "premium       le            without       really        stir          \n",
      "well          buying        say           food          14            \n",
      "balance       stock         ever          much          scoop         \n",
      "since         expensive     thing         without       extra         \n",
      "le            brand         delicious     also          ground        \n",
      "change        better        would         used          adding        \n",
      "formula       found         eat           perfect       teaspoon      \n",
      "tried         shelf         awesome       everything    minute        \n",
      "research      way           tell          better        way           \n",
      "\n",
      "\n"
     ]
    }
   ],
   "source": [
    "sorting = np.argsort(lda100.components_, axis=1)[:, ::-1]\n",
    "feature_names = np.array(vect.get_feature_names())\n",
    "mglearn.tools.print_topics(topics=topics, feature_names=feature_names,\n",
    "                           sorting=sorting, topics_per_chunk=5, n_words=20)"
   ]
  },
  {
   "cell_type": "markdown",
   "metadata": {},
   "source": [
    "plot"
   ]
  },
  {
   "cell_type": "code",
   "execution_count": 53,
   "metadata": {},
   "outputs": [
    {
     "data": {
      "image/png": "[encoded data removed]",
      "text/plain": [
       "<Figure size 720x720 with 2 Axes>"
      ]
     },
     "metadata": {
      "needs_background": "light"
     },
     "output_type": "display_data"
    }
   ],
   "source": [
    "fig, ax = plt.subplots(1, 2, figsize=(10, 10))\n",
    "topic_names = [\"{:>2} \".format(i) + \" \".join(words)\n",
    "               for i, words in enumerate(feature_names[sorting[:, :2]])]\n",
    "# two column bar chart:\n",
    "for col in [0, 1]:\n",
    "    start = col * 50\n",
    "    end = (col + 1) * 50\n",
    "    ax[col].barh(np.arange(50), np.sum(document_topics100, axis=0)[start:end])\n",
    "    ax[col].set_yticks(np.arange(50))\n",
    "    ax[col].set_yticklabels(topic_names[start:end], ha=\"left\", va=\"top\")\n",
    "    ax[col].invert_yaxis()\n",
    "    ax[col].set_xlim(10,500)\n",
    "    yax = ax[col].get_yaxis()\n",
    "    yax.set_tick_params(pad=130)\n",
    "plt.tight_layout()"
   ]
  }
 ],
 "metadata": {
  "kernelspec": {
   "display_name": "Python 3",
   "language": "python",
   "name": "python3"
  },
  "language_info": {
   "codemirror_mode": {
    "name": "ipython",
    "version": 3
   },
   "file_extension": ".py",
   "mimetype": "text/x-python",
   "name": "python",
   "nbconvert_exporter": "python",
   "pygments_lexer": "ipython3",
   "version": "3.7.6"
  }
 },
 "nbformat": 4,
 "nbformat_minor": 2
}
