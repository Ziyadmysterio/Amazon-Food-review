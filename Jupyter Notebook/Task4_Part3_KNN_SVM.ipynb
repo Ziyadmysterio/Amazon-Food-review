{
 "cells": [
  {
   "cell_type": "markdown",
   "metadata": {},
   "source": [
    "# F21 AA. CW 1\n",
    "# TASK 4 Model Training ,tuning and evaluation"
   ]
  },
  {
   "cell_type": "markdown",
   "metadata": {},
   "source": [
    "# K Nearest Neighbor AND Support Vector Machines"
   ]
  },
  {
   "cell_type": "markdown",
   "metadata": {},
   "source": [
    "Imports"
   ]
  },
  {
   "cell_type": "code",
   "execution_count": 1,
   "metadata": {},
   "outputs": [
    {
     "name": "stderr",
     "output_type": "stream",
     "text": [
      "/Users/amit/anaconda3/envs/F21TA/lib/python3.7/site-packages/sklearn/externals/six.py:31: FutureWarning: The module is deprecated in version 0.21 and will be removed in version 0.23 since we've dropped support for Python 2.7. Please rely on the official version of six (https://pypi.org/project/six/).\n",
      "  \"(https://pypi.org/project/six/).\", FutureWarning)\n",
      "/Users/amit/anaconda3/envs/F21TA/lib/python3.7/site-packages/sklearn/externals/joblib/__init__.py:15: FutureWarning: sklearn.externals.joblib is deprecated in 0.21 and will be removed in 0.23. Please import this functionality directly from joblib, which can be installed with: pip install joblib. If this warning is raised when loading pickled models, you may need to re-serialize those models with scikit-learn 0.21+.\n",
      "  warnings.warn(msg, category=FutureWarning)\n",
      "[nltk_data] Downloading package stopwords to /Users/amit/nltk_data...\n",
      "[nltk_data]   Package stopwords is already up-to-date!\n",
      "[nltk_data] Downloading package wordnet to /Users/amit/nltk_data...\n",
      "[nltk_data]   Package wordnet is already up-to-date!\n"
     ]
    }
   ],
   "source": [
    "import pandas as pd\n",
    "import numpy as np\n",
    "from sklearn.feature_extraction.text import CountVectorizer\n",
    "from sklearn.feature_extraction.text import TfidfVectorizer\n",
    "from sklearn.feature_extraction.text import TfidfTransformer\n",
    "from sklearn.metrics import confusion_matrix,classification_report\n",
    "from sklearn.pipeline import Pipeline\n",
    "from sklearn.model_selection import GridSearchCV\n",
    "from sklearn.neighbors import KNeighborsClassifier \n",
    "from sklearn.svm import LinearSVC\n",
    "\n",
    "import seaborn as sns\n",
    "import mglearn\n",
    "import matplotlib.pyplot as plt\n",
    "# Custom PreprocessAndNorm.pynb module to perform preprocessing and Normalization for function reuse\n",
    "%run ProcessingAndNorm.ipynb"
   ]
  },
  {
   "cell_type": "markdown",
   "metadata": {},
   "source": [
    "Inputs - train Data "
   ]
  },
  {
   "cell_type": "code",
   "execution_count": 2,
   "metadata": {},
   "outputs": [
    {
     "data": {
      "text/html": [
       "<div>\n",
       "<style scoped>\n",
       "    .dataframe tbody tr th:only-of-type {\n",
       "        vertical-align: middle;\n",
       "    }\n",
       "\n",
       "    .dataframe tbody tr th {\n",
       "        vertical-align: top;\n",
       "    }\n",
       "\n",
       "    .dataframe thead th {\n",
       "        text-align: right;\n",
       "    }\n",
       "</style>\n",
       "<table border=\"1\" class=\"dataframe\">\n",
       "  <thead>\n",
       "    <tr style=\"text-align: right;\">\n",
       "      <th></th>\n",
       "      <th>Unnamed: 0</th>\n",
       "      <th>Score</th>\n",
       "      <th>Summary_text</th>\n",
       "      <th>length</th>\n",
       "      <th>word_count</th>\n",
       "      <th>length_change</th>\n",
       "      <th>wordcount_change</th>\n",
       "    </tr>\n",
       "  </thead>\n",
       "  <tbody>\n",
       "    <tr>\n",
       "      <th>0</th>\n",
       "      <td>0</td>\n",
       "      <td>5</td>\n",
       "      <td>good receiv product earli seller tastey great ...</td>\n",
       "      <td>103</td>\n",
       "      <td>16</td>\n",
       "      <td>104</td>\n",
       "      <td>24</td>\n",
       "    </tr>\n",
       "    <tr>\n",
       "      <th>1</th>\n",
       "      <td>1</td>\n",
       "      <td>5</td>\n",
       "      <td>organ kosher tasti assort premium tea teasan n...</td>\n",
       "      <td>1199</td>\n",
       "      <td>193</td>\n",
       "      <td>799</td>\n",
       "      <td>126</td>\n",
       "    </tr>\n",
       "    <tr>\n",
       "      <th>2</th>\n",
       "      <td>2</td>\n",
       "      <td>5</td>\n",
       "      <td>excel glutenfre spaghetti great tast great str...</td>\n",
       "      <td>619</td>\n",
       "      <td>101</td>\n",
       "      <td>527</td>\n",
       "      <td>103</td>\n",
       "    </tr>\n",
       "    <tr>\n",
       "      <th>3</th>\n",
       "      <td>3</td>\n",
       "      <td>5</td>\n",
       "      <td>lindt lindt buy multipack misl pictur whole ha...</td>\n",
       "      <td>117</td>\n",
       "      <td>19</td>\n",
       "      <td>84</td>\n",
       "      <td>15</td>\n",
       "    </tr>\n",
       "    <tr>\n",
       "      <th>4</th>\n",
       "      <td>4</td>\n",
       "      <td>5</td>\n",
       "      <td>yum bar good love warm definit think great sna...</td>\n",
       "      <td>88</td>\n",
       "      <td>14</td>\n",
       "      <td>76</td>\n",
       "      <td>15</td>\n",
       "    </tr>\n",
       "  </tbody>\n",
       "</table>\n",
       "</div>"
      ],
      "text/plain": [
       "   Unnamed: 0  Score                                       Summary_text  \\\n",
       "0           0      5  good receiv product earli seller tastey great ...   \n",
       "1           1      5  organ kosher tasti assort premium tea teasan n...   \n",
       "2           2      5  excel glutenfre spaghetti great tast great str...   \n",
       "3           3      5  lindt lindt buy multipack misl pictur whole ha...   \n",
       "4           4      5  yum bar good love warm definit think great sna...   \n",
       "\n",
       "   length  word_count  length_change  wordcount_change  \n",
       "0     103          16            104                24  \n",
       "1    1199         193            799               126  \n",
       "2     619         101            527               103  \n",
       "3     117          19             84                15  \n",
       "4      88          14             76                15  "
      ]
     },
     "execution_count": 2,
     "metadata": {},
     "output_type": "execute_result"
    }
   ],
   "source": [
    "# Preprocessed data from step 2 which used Stemming\n",
    "df_reviews_p_s = pd.read_csv('df_reviews_p_s.csv')\n",
    "df_reviews_p_s.head()"
   ]
  },
  {
   "cell_type": "code",
   "execution_count": 3,
   "metadata": {},
   "outputs": [
    {
     "data": {
      "text/html": [
       "<div>\n",
       "<style scoped>\n",
       "    .dataframe tbody tr th:only-of-type {\n",
       "        vertical-align: middle;\n",
       "    }\n",
       "\n",
       "    .dataframe tbody tr th {\n",
       "        vertical-align: top;\n",
       "    }\n",
       "\n",
       "    .dataframe thead th {\n",
       "        text-align: right;\n",
       "    }\n",
       "</style>\n",
       "<table border=\"1\" class=\"dataframe\">\n",
       "  <thead>\n",
       "    <tr style=\"text-align: right;\">\n",
       "      <th></th>\n",
       "      <th>Unnamed: 0</th>\n",
       "      <th>Score</th>\n",
       "      <th>Summary_text</th>\n",
       "      <th>length</th>\n",
       "      <th>word_count</th>\n",
       "      <th>length_change</th>\n",
       "      <th>wordcount_change</th>\n",
       "    </tr>\n",
       "  </thead>\n",
       "  <tbody>\n",
       "    <tr>\n",
       "      <th>0</th>\n",
       "      <td>0</td>\n",
       "      <td>5</td>\n",
       "      <td>good received product early seller tastey grea...</td>\n",
       "      <td>109</td>\n",
       "      <td>16</td>\n",
       "      <td>98</td>\n",
       "      <td>24</td>\n",
       "    </tr>\n",
       "    <tr>\n",
       "      <th>1</th>\n",
       "      <td>1</td>\n",
       "      <td>5</td>\n",
       "      <td>organic kosher tasty assortment premium tea te...</td>\n",
       "      <td>1334</td>\n",
       "      <td>193</td>\n",
       "      <td>664</td>\n",
       "      <td>126</td>\n",
       "    </tr>\n",
       "    <tr>\n",
       "      <th>2</th>\n",
       "      <td>2</td>\n",
       "      <td>5</td>\n",
       "      <td>excellent glutenfree spaghetti great taste gre...</td>\n",
       "      <td>690</td>\n",
       "      <td>101</td>\n",
       "      <td>456</td>\n",
       "      <td>103</td>\n",
       "    </tr>\n",
       "    <tr>\n",
       "      <th>3</th>\n",
       "      <td>3</td>\n",
       "      <td>5</td>\n",
       "      <td>lindt lindt buying multipack misled picture wh...</td>\n",
       "      <td>138</td>\n",
       "      <td>19</td>\n",
       "      <td>63</td>\n",
       "      <td>15</td>\n",
       "    </tr>\n",
       "    <tr>\n",
       "      <th>4</th>\n",
       "      <td>4</td>\n",
       "      <td>5</td>\n",
       "      <td>yum bar good loved warmed definitely think gre...</td>\n",
       "      <td>98</td>\n",
       "      <td>14</td>\n",
       "      <td>66</td>\n",
       "      <td>15</td>\n",
       "    </tr>\n",
       "  </tbody>\n",
       "</table>\n",
       "</div>"
      ],
      "text/plain": [
       "   Unnamed: 0  Score                                       Summary_text  \\\n",
       "0           0      5  good received product early seller tastey grea...   \n",
       "1           1      5  organic kosher tasty assortment premium tea te...   \n",
       "2           2      5  excellent glutenfree spaghetti great taste gre...   \n",
       "3           3      5  lindt lindt buying multipack misled picture wh...   \n",
       "4           4      5  yum bar good loved warmed definitely think gre...   \n",
       "\n",
       "   length  word_count  length_change  wordcount_change  \n",
       "0     109          16             98                24  \n",
       "1    1334         193            664               126  \n",
       "2     690         101            456               103  \n",
       "3     138          19             63                15  \n",
       "4      98          14             66                15  "
      ]
     },
     "execution_count": 3,
     "metadata": {},
     "output_type": "execute_result"
    }
   ],
   "source": [
    "# Preprocessed data from step 2 which used Lemmatization\n",
    "df_reviews_p_l = pd.read_csv('df_reviews_p_l.csv')\n",
    "df_reviews_p_l.head()"
   ]
  },
  {
   "cell_type": "markdown",
   "metadata": {},
   "source": [
    "Inputs - Test Data"
   ]
  },
  {
   "cell_type": "code",
   "execution_count": 4,
   "metadata": {},
   "outputs": [],
   "source": [
    "df_test=pd.read_csv('test.csv')\n",
    "df_label=pd.read_csv('labels.csv')\n"
   ]
  },
  {
   "cell_type": "code",
   "execution_count": 5,
   "metadata": {},
   "outputs": [
    {
     "name": "stdout",
     "output_type": "stream",
     "text": [
      "<class 'pandas.core.frame.DataFrame'>\n",
      "RangeIndex: 142114 entries, 0 to 142113\n",
      "Data columns (total 9 columns):\n",
      "Id                        142114 non-null int64\n",
      "ProductId                 142114 non-null object\n",
      "UserId                    142114 non-null object\n",
      "ProfileName               142112 non-null object\n",
      "HelpfulnessNumerator      142114 non-null int64\n",
      "HelpfulnessDenominator    142114 non-null int64\n",
      "Time                      142114 non-null int64\n",
      "Summary                   142107 non-null object\n",
      "Text                      142114 non-null object\n",
      "dtypes: int64(4), object(5)\n",
      "memory usage: 9.8+ MB\n"
     ]
    }
   ],
   "source": [
    "df_test.info()"
   ]
  },
  {
   "cell_type": "code",
   "execution_count": 6,
   "metadata": {},
   "outputs": [
    {
     "name": "stdout",
     "output_type": "stream",
     "text": [
      "<class 'pandas.core.frame.DataFrame'>\n",
      "RangeIndex: 142114 entries, 0 to 142113\n",
      "Data columns (total 2 columns):\n",
      "Id       142114 non-null int64\n",
      "Score    142114 non-null int64\n",
      "dtypes: int64(2)\n",
      "memory usage: 2.2 MB\n"
     ]
    }
   ],
   "source": [
    "df_label.info()"
   ]
  },
  {
   "cell_type": "markdown",
   "metadata": {},
   "source": [
    "Reuse preprocessing done in task 2"
   ]
  },
  {
   "cell_type": "code",
   "execution_count": 7,
   "metadata": {},
   "outputs": [
    {
     "name": "stdout",
     "output_type": "stream",
     "text": [
      "<class 'pandas.core.frame.DataFrame'>\n",
      "Int64Index: 142114 entries, 0 to 142113\n",
      "Data columns (total 2 columns):\n",
      "Score           142114 non-null category\n",
      "Summary_text    142114 non-null object\n",
      "dtypes: category(1), object(1)\n",
      "memory usage: 2.3+ MB\n"
     ]
    }
   ],
   "source": [
    "df_test_data = pd.merge(df_label, df_test, on='Id')\n",
    "df_test_data.Summary.fillna('',inplace=True)\n",
    "df_test_data.Text.fillna('', inplace=True)\n",
    "df_test_data['Summary_text']=df_test_data['Summary']+\" \"+df_test_data['Text']\n",
    "df_test_data = df_test_data[['Score','Summary_text']]\n",
    "df_test_data['Score']=df_test_data.Score.astype('category')\n",
    "df_test_data=Perform_Preprocessing(df_test_data)\n",
    "df_test_data.info()"
   ]
  },
  {
   "cell_type": "code",
   "execution_count": 52,
   "metadata": {},
   "outputs": [
    {
     "data": {
      "text/plain": [
       "0         love flavor fog chaser best flavor body far pr...\n",
       "1         tasty tea found pf changs tastes great 16 bags...\n",
       "2         yum quite chocolate bar substitute delicious a...\n",
       "3         gluten free biscotti tasty pamelas almond bisc...\n",
       "4         happy puppies hrefhttpwwwamazoncomgpproductb00...\n",
       "                                ...                        \n",
       "142109    great treats buying store hard time keeping st...\n",
       "142110    nongmo magnesium boost glad companies making p...\n",
       "142111    real thing similar love real scottish haggis b...\n",
       "142112    wow awesome syrup eat lot syrup house three ye...\n",
       "142113    dog buy give dog needs lose weight gets hungry...\n",
       "Name: Summary_text, Length: 142114, dtype: object"
      ]
     },
     "execution_count": 52,
     "metadata": {},
     "output_type": "execute_result"
    }
   ],
   "source": [
    "X_test=df_test_data['Summary_text']\n",
    "X_test"
   ]
  },
  {
   "cell_type": "code",
   "execution_count": 54,
   "metadata": {},
   "outputs": [
    {
     "data": {
      "text/plain": [
       "0         5\n",
       "1         5\n",
       "2         5\n",
       "3         3\n",
       "4         4\n",
       "         ..\n",
       "142109    5\n",
       "142110    5\n",
       "142111    4\n",
       "142112    5\n",
       "142113    5\n",
       "Name: Score, Length: 142114, dtype: category\n",
       "Categories (5, int64): [1, 2, 3, 4, 5]"
      ]
     },
     "execution_count": 54,
     "metadata": {},
     "output_type": "execute_result"
    }
   ],
   "source": [
    "\n",
    "Y_test=df_test_data['Score']\n",
    "Y_test"
   ]
  },
  {
   "cell_type": "markdown",
   "metadata": {},
   "source": [
    "# Running KNN and SVM to get baseline"
   ]
  },
  {
   "cell_type": "markdown",
   "metadata": {},
   "source": [
    "We first test both KNN and SVM on unigram version to check training time and performance before choosing one algorithm"
   ]
  },
  {
   "cell_type": "markdown",
   "metadata": {},
   "source": [
    "Define train data"
   ]
  },
  {
   "cell_type": "code",
   "execution_count": 10,
   "metadata": {},
   "outputs": [],
   "source": [
    "X_train=df_reviews_p_s['Summary_text']\n",
    "Y_train=df_reviews_p_s['Score']"
   ]
  },
  {
   "cell_type": "markdown",
   "metadata": {},
   "source": [
    "## KNN"
   ]
  },
  {
   "cell_type": "markdown",
   "metadata": {},
   "source": [
    "Create Pipe for KNN "
   ]
  },
  {
   "cell_type": "code",
   "execution_count": 11,
   "metadata": {},
   "outputs": [],
   "source": [
    "pipe_KNN = Pipeline([\n",
    "    ('bow', CountVectorizer(analyzer='word',ngram_range=(1,1),min_df=25)),  # strings to token integer counts\n",
    "    ('classifier', KNeighborsClassifier(n_neighbors =5)),  # train on TF-IDF vectors w/ Naive Bayes classifier\n",
    "])"
   ]
  },
  {
   "cell_type": "markdown",
   "metadata": {},
   "source": [
    "Fit train data on Pipe"
   ]
  },
  {
   "cell_type": "code",
   "execution_count": 13,
   "metadata": {},
   "outputs": [
    {
     "data": {
      "text/plain": [
       "Pipeline(memory=None,\n",
       "         steps=[('bow',\n",
       "                 CountVectorizer(analyzer='word', binary=False,\n",
       "                                 decode_error='strict',\n",
       "                                 dtype=<class 'numpy.int64'>, encoding='utf-8',\n",
       "                                 input='content', lowercase=True, max_df=1.0,\n",
       "                                 max_features=None, min_df=25,\n",
       "                                 ngram_range=(1, 1), preprocessor=None,\n",
       "                                 stop_words=None, strip_accents=None,\n",
       "                                 token_pattern='(?u)\\\\b\\\\w\\\\w+\\\\b',\n",
       "                                 tokenizer=None, vocabulary=None)),\n",
       "                ('classifier',\n",
       "                 KNeighborsClassifier(algorithm='auto', leaf_size=30,\n",
       "                                      metric='minkowski', metric_params=None,\n",
       "                                      n_jobs=None, n_neighbors=5, p=2,\n",
       "                                      weights='uniform'))],\n",
       "         verbose=False)"
      ]
     },
     "execution_count": 13,
     "metadata": {},
     "output_type": "execute_result"
    }
   ],
   "source": [
    "pipe_KNN.fit(X_train,Y_train)"
   ]
  },
  {
   "cell_type": "markdown",
   "metadata": {},
   "source": [
    "Predict Test data"
   ]
  },
  {
   "cell_type": "code",
   "execution_count": 14,
   "metadata": {},
   "outputs": [],
   "source": [
    "predictions_KNN = pipe_KNN.predict(X_test)"
   ]
  },
  {
   "cell_type": "markdown",
   "metadata": {},
   "source": [
    "Print Result"
   ]
  },
  {
   "cell_type": "code",
   "execution_count": 15,
   "metadata": {},
   "outputs": [
    {
     "name": "stdout",
     "output_type": "stream",
     "text": [
      "              precision    recall  f1-score   support\n",
      "\n",
      "           1       0.28      0.53      0.37      7033\n",
      "           2       0.21      0.50      0.30      3070\n",
      "           3       0.22      0.49      0.31      4846\n",
      "           4       0.23      0.51      0.32      9171\n",
      "           5       0.93      0.72      0.81    117994\n",
      "\n",
      "    accuracy                           0.68    142114\n",
      "   macro avg       0.38      0.55      0.42    142114\n",
      "weighted avg       0.82      0.68      0.73    142114\n",
      "\n"
     ]
    }
   ],
   "source": [
    "print(classification_report(predictions_KNN,Y_test))"
   ]
  },
  {
   "cell_type": "markdown",
   "metadata": {},
   "source": [
    "Initial Discussion:Although the results were better than that of naive bayes baseline, KNN took too long for even the simplest\n",
    "case and would not be ideal for use with gridseach and pipeline. This algorithm being computationally very expensive, we decided to move onto SVM"
   ]
  },
  {
   "cell_type": "markdown",
   "metadata": {},
   "source": [
    "## SVM"
   ]
  },
  {
   "cell_type": "markdown",
   "metadata": {},
   "source": [
    "Create Pipe line for SVC"
   ]
  },
  {
   "cell_type": "code",
   "execution_count": 74,
   "metadata": {},
   "outputs": [],
   "source": [
    "\n",
    "pipe_SVC = Pipeline([\n",
    "    ('Tfidf', TfidfVectorizer(analyzer='word',ngram_range=(1,1),min_df=25)),  # strings to token integer counts\n",
    "    ('classifier', LinearSVC()),  # train on TF-IDF vectors w/ Naive Bayes classifier\n",
    "])\n"
   ]
  },
  {
   "cell_type": "markdown",
   "metadata": {},
   "source": [
    "Fit train data "
   ]
  },
  {
   "cell_type": "code",
   "execution_count": 75,
   "metadata": {},
   "outputs": [
    {
     "data": {
      "text/plain": [
       "Pipeline(memory=None,\n",
       "         steps=[('Tfidf',\n",
       "                 TfidfVectorizer(analyzer='word', binary=False,\n",
       "                                 decode_error='strict',\n",
       "                                 dtype=<class 'numpy.float64'>,\n",
       "                                 encoding='utf-8', input='content',\n",
       "                                 lowercase=True, max_df=1.0, max_features=None,\n",
       "                                 min_df=25, ngram_range=(1, 1), norm='l2',\n",
       "                                 preprocessor=None, smooth_idf=True,\n",
       "                                 stop_words=None, strip_accents=None,\n",
       "                                 sublinear_tf=False,\n",
       "                                 token_pattern='(?u)\\\\b\\\\w\\\\w+\\\\b',\n",
       "                                 tokenizer=None, use_idf=True,\n",
       "                                 vocabulary=None)),\n",
       "                ('classifier',\n",
       "                 LinearSVC(C=1.0, class_weight=None, dual=True,\n",
       "                           fit_intercept=True, intercept_scaling=1,\n",
       "                           loss='squared_hinge', max_iter=1000,\n",
       "                           multi_class='ovr', penalty='l2', random_state=None,\n",
       "                           tol=0.0001, verbose=0))],\n",
       "         verbose=False)"
      ]
     },
     "execution_count": 75,
     "metadata": {},
     "output_type": "execute_result"
    }
   ],
   "source": [
    "pipe_SVC.fit(X_train,Y_train)"
   ]
  },
  {
   "cell_type": "markdown",
   "metadata": {},
   "source": [
    "Make predictions using Test data "
   ]
  },
  {
   "cell_type": "code",
   "execution_count": 76,
   "metadata": {},
   "outputs": [],
   "source": [
    "predictions_SVC = pipe_SVC.predict(X_test)"
   ]
  },
  {
   "cell_type": "markdown",
   "metadata": {},
   "source": [
    "Print Results"
   ]
  },
  {
   "cell_type": "code",
   "execution_count": 77,
   "metadata": {},
   "outputs": [
    {
     "name": "stdout",
     "output_type": "stream",
     "text": [
      "              precision    recall  f1-score   support\n",
      "\n",
      "           1       0.54      0.60      0.57     11623\n",
      "           2       0.12      0.40      0.19      2255\n",
      "           3       0.25      0.44      0.32      6161\n",
      "           4       0.16      0.42      0.24      7836\n",
      "           5       0.94      0.75      0.84    114239\n",
      "\n",
      "    accuracy                           0.70    142114\n",
      "   macro avg       0.40      0.52      0.43    142114\n",
      "weighted avg       0.83      0.70      0.75    142114\n",
      "\n"
     ]
    }
   ],
   "source": [
    "print(classification_report(predictions_SVC,Y_test))"
   ]
  },
  {
   "cell_type": "markdown",
   "metadata": {},
   "source": [
    "# Model Building,tuning and evaluation using SVM and Tf-IDF vectorization"
   ]
  },
  {
   "cell_type": "markdown",
   "metadata": {},
   "source": [
    "Since TFIDF works better with SVM, we decided to test both preprocessed with stemming and lemma with TFIDF and not count Vectorization"
   ]
  },
  {
   "cell_type": "markdown",
   "metadata": {},
   "source": [
    "### a)Preprocessed data with Stemming      "
   ]
  },
  {
   "cell_type": "markdown",
   "metadata": {},
   "source": [
    "Set train data"
   ]
  },
  {
   "cell_type": "code",
   "execution_count": 11,
   "metadata": {},
   "outputs": [],
   "source": [
    "X_train=df_reviews_p_s['Summary_text']\n",
    "Y_train=df_reviews_p_s['Score']"
   ]
  },
  {
   "cell_type": "markdown",
   "metadata": {},
   "source": [
    "Create Pipeline"
   ]
  },
  {
   "cell_type": "code",
   "execution_count": 29,
   "metadata": {},
   "outputs": [],
   "source": [
    "pipeline1 = Pipeline([\n",
    "    ('Tfidf', TfidfVectorizer(analyzer='word',min_df=25)),  # strings to token integer counts into TFIDF\n",
    "    ('classifier', LinearSVC()),  # train on TF-IDF vectors w/ Support Vector Machines\n",
    "])"
   ]
  },
  {
   "cell_type": "markdown",
   "metadata": {},
   "source": [
    "Create parameter grid\n"
   ]
  },
  {
   "cell_type": "code",
   "execution_count": 30,
   "metadata": {},
   "outputs": [],
   "source": [
    "param_grid1 = {'classifier__C': [0.1,0.3,0.5,1],\n",
    "               \"Tfidf__ngram_range\": [(1, 1), (1, 2)]}\n",
    "\n",
    "grid1 = GridSearchCV(pipeline1, param_grid1, cv=3)\n"
   ]
  },
  {
   "cell_type": "markdown",
   "metadata": {},
   "source": [
    "Fit training data"
   ]
  },
  {
   "cell_type": "code",
   "execution_count": 31,
   "metadata": {},
   "outputs": [
    {
     "name": "stdout",
     "output_type": "stream",
     "text": [
      "Best cross-validation score: 0.80\n"
     ]
    }
   ],
   "source": [
    "grid1.fit(X_train, Y_train)\n",
    "print(\"Best cross-validation score: {:.2f}\".format(grid1.best_score_))"
   ]
  },
  {
   "cell_type": "markdown",
   "metadata": {},
   "source": [
    "Print results"
   ]
  },
  {
   "cell_type": "code",
   "execution_count": 32,
   "metadata": {},
   "outputs": [
    {
     "data": {
      "text/plain": [
       "array([[0.74467327, 0.75014073, 0.77923488, 0.8002627 ],\n",
       "       [0.74917437, 0.75076699, 0.7965497 , 0.80109303]])"
      ]
     },
     "execution_count": 32,
     "metadata": {},
     "output_type": "execute_result"
    }
   ],
   "source": [
    "scores1 = grid1.cv_results_['mean_test_score'].reshape(-1, 2).T\n",
    "scores1"
   ]
  },
  {
   "cell_type": "markdown",
   "metadata": {},
   "source": [
    "Display Heatmap of results\n"
   ]
  },
  {
   "cell_type": "code",
   "execution_count": 33,
   "metadata": {},
   "outputs": [
    {
     "data": {
      "text/plain": [
       "<matplotlib.colorbar.Colorbar at 0x1c99eefa10>"
      ]
     },
     "execution_count": 33,
     "metadata": {},
     "output_type": "execute_result"
    },
    {
     "data": {
      "image/png": "[encoded data removed]",
      "text/plain": [
       "<Figure size 432x288 with 2 Axes>"
      ]
     },
     "metadata": {
      "needs_background": "light"
     },
     "output_type": "display_data"
    }
   ],
   "source": [
    "# visualize heat map\n",
    "\n",
    "heatmap1 = mglearn.tools.heatmap(\n",
    "    scores1, xlabel=\"C\", ylabel=\"ngram_range\", cmap=\"viridis\", fmt=\"%.3f\",\n",
    "    xticklabels=param_grid1['classifier__C'],\n",
    "    yticklabels=param_grid1['Tfidf__ngram_range'])\n",
    "plt.colorbar(heatmap1)"
   ]
  },
  {
   "cell_type": "markdown",
   "metadata": {},
   "source": [
    "Finetuned Pipe\n"
   ]
  },
  {
   "cell_type": "code",
   "execution_count": 55,
   "metadata": {},
   "outputs": [],
   "source": [
    "pipe1 = Pipeline([\n",
    "    ('Tfidf', TfidfVectorizer(analyzer='word',ngram_range=(1,2),min_df=25)),  # strings to token integer counts\n",
    "    ('classifier', LinearSVC(C=1)),  # train on TF-IDF vectors w/ SVM\n",
    "])\n",
    "\n"
   ]
  },
  {
   "cell_type": "markdown",
   "metadata": {},
   "source": [
    "Fit training data\n"
   ]
  },
  {
   "cell_type": "code",
   "execution_count": 56,
   "metadata": {},
   "outputs": [
    {
     "data": {
      "text/plain": [
       "Pipeline(memory=None,\n",
       "         steps=[('Tfidf',\n",
       "                 TfidfVectorizer(analyzer='word', binary=False,\n",
       "                                 decode_error='strict',\n",
       "                                 dtype=<class 'numpy.float64'>,\n",
       "                                 encoding='utf-8', input='content',\n",
       "                                 lowercase=True, max_df=1.0, max_features=None,\n",
       "                                 min_df=25, ngram_range=(1, 2), norm='l2',\n",
       "                                 preprocessor=None, smooth_idf=True,\n",
       "                                 stop_words=None, strip_accents=None,\n",
       "                                 sublinear_tf=False,\n",
       "                                 token_pattern='(?u)\\\\b\\\\w\\\\w+\\\\b',\n",
       "                                 tokenizer=None, use_idf=True,\n",
       "                                 vocabulary=None)),\n",
       "                ('classifier',\n",
       "                 LinearSVC(C=1, class_weight=None, dual=True,\n",
       "                           fit_intercept=True, intercept_scaling=1,\n",
       "                           loss='squared_hinge', max_iter=1000,\n",
       "                           multi_class='ovr', penalty='l2', random_state=None,\n",
       "                           tol=0.0001, verbose=0))],\n",
       "         verbose=False)"
      ]
     },
     "execution_count": 56,
     "metadata": {},
     "output_type": "execute_result"
    }
   ],
   "source": [
    "pipe1.fit(X_train,Y_train)"
   ]
  },
  {
   "cell_type": "markdown",
   "metadata": {},
   "source": [
    "Make predictions on test data\n"
   ]
  },
  {
   "cell_type": "code",
   "execution_count": 57,
   "metadata": {},
   "outputs": [],
   "source": [
    "predictions1 = pipe1.predict(X_test)"
   ]
  },
  {
   "cell_type": "markdown",
   "metadata": {},
   "source": [
    "Print Results"
   ]
  },
  {
   "cell_type": "code",
   "execution_count": 58,
   "metadata": {},
   "outputs": [
    {
     "name": "stdout",
     "output_type": "stream",
     "text": [
      "              precision    recall  f1-score   support\n",
      "\n",
      "           1       0.60      0.65      0.63     12082\n",
      "           2       0.30      0.44      0.36      5017\n",
      "           3       0.38      0.50      0.43      8212\n",
      "           4       0.33      0.47      0.39     14568\n",
      "           5       0.91      0.81      0.86    102235\n",
      "\n",
      "    accuracy                           0.73    142114\n",
      "   macro avg       0.51      0.57      0.53    142114\n",
      "weighted avg       0.77      0.73      0.75    142114\n",
      "\n"
     ]
    }
   ],
   "source": [
    "print(classification_report(predictions1,Y_test))"
   ]
  },
  {
   "cell_type": "code",
   "execution_count": 59,
   "metadata": {},
   "outputs": [
    {
     "data": {
      "text/plain": [
       "array([[ 7870,   857,   633,   674,  3041],\n",
       "       [ 1387,  2211,  1049,   722,  2047],\n",
       "       [  804,   744,  4095,  1623,  3381],\n",
       "       [  568,   515,  1272,  6804, 11187],\n",
       "       [ 1453,   690,  1163,  4745, 82579]])"
      ]
     },
     "execution_count": 59,
     "metadata": {},
     "output_type": "execute_result"
    }
   ],
   "source": [
    "confusion_matrix(Y_test, predictions1)"
   ]
  },
  {
   "cell_type": "code",
   "execution_count": 60,
   "metadata": {},
   "outputs": [
    {
     "data": {
      "image/png": "[encoded data removed]",
      "text/plain": [
       "<Figure size 720x720 with 2 Axes>"
      ]
     },
     "metadata": {
      "needs_background": "light"
     },
     "output_type": "display_data"
    }
   ],
   "source": [
    "# Confusion matrix as a heatmap\n",
    "conf_mat = confusion_matrix(Y_test, predictions1)\n",
    "fig, ax = plt.subplots(figsize=(10,10))\n",
    "sns.heatmap(conf_mat, annot=True, fmt='d',\n",
    "            xticklabels=df_reviews_p_s.Score.astype('category').cat.categories, \n",
    "            yticklabels=df_reviews_p_s.Score.astype('category').cat.categories)\n",
    "plt.title('Confusion Matrix')\n",
    "plt.ylabel('Actual Rating')\n",
    "plt.xlabel('Predicted Rating')\n",
    "b, t = plt.ylim() # discover the values for bottom and top\n",
    "b += 0.5 # Add 0.5 to the bottom\n",
    "t -= 0.5 # Subtract 0.5 from the top\n",
    "plt.ylim(b, t) # update the ylim(bottom, top) values\n",
    "plt.show()"
   ]
  },
  {
   "cell_type": "markdown",
   "metadata": {},
   "source": [
    "### b)Preprocessed data with lemmatization      "
   ]
  },
  {
   "cell_type": "markdown",
   "metadata": {},
   "source": [
    "Set train data "
   ]
  },
  {
   "cell_type": "code",
   "execution_count": 15,
   "metadata": {},
   "outputs": [],
   "source": [
    "X_train2=df_reviews_p_l['Summary_text']\n",
    "Y_train2=df_reviews_p_l['Score']"
   ]
  },
  {
   "cell_type": "markdown",
   "metadata": {},
   "source": [
    "Create Pipeline"
   ]
  },
  {
   "cell_type": "code",
   "execution_count": 22,
   "metadata": {},
   "outputs": [],
   "source": [
    "pipeline2 = Pipeline([\n",
    "    ('Tfidf', TfidfVectorizer(analyzer='word',min_df=25)),  # strings to token integer counts\n",
    "    ('classifier', LinearSVC()),  # train on TF-IDF vectors w/ Naive Bayes classifier\n",
    "])"
   ]
  },
  {
   "cell_type": "markdown",
   "metadata": {},
   "source": [
    "Create parameter grid"
   ]
  },
  {
   "cell_type": "code",
   "execution_count": 25,
   "metadata": {},
   "outputs": [],
   "source": [
    "param_grid2 = {'classifier__C': [0.1,0.5,1],\n",
    "               \"Tfidf__ngram_range\": [(1, 1), (1, 2)]}\n",
    "\n",
    "grid2 = GridSearchCV(pipeline2, param_grid2, cv=3)\n",
    "\n",
    "\n"
   ]
  },
  {
   "cell_type": "markdown",
   "metadata": {},
   "source": [
    "Fit Training data"
   ]
  },
  {
   "cell_type": "code",
   "execution_count": 26,
   "metadata": {},
   "outputs": [
    {
     "name": "stdout",
     "output_type": "stream",
     "text": [
      "Best cross-validation score: 0.80\n"
     ]
    }
   ],
   "source": [
    "grid2.fit(X_train2, Y_train2)\n",
    "print(\"Best cross-validation score: {:.2f}\".format(grid2.best_score_))"
   ]
  },
  {
   "cell_type": "markdown",
   "metadata": {},
   "source": [
    "Display results"
   ]
  },
  {
   "cell_type": "code",
   "execution_count": 27,
   "metadata": {},
   "outputs": [
    {
     "data": {
      "text/plain": [
       "array([[0.74891401, 0.75625323, 0.80087254],\n",
       "       [0.75569499, 0.78012854, 0.8014214 ]])"
      ]
     },
     "execution_count": 27,
     "metadata": {},
     "output_type": "execute_result"
    }
   ],
   "source": [
    "scores2 = grid2.cv_results_['mean_test_score'].reshape(-1, 2).T\n",
    "scores2"
   ]
  },
  {
   "cell_type": "markdown",
   "metadata": {},
   "source": [
    "Display heatmap of results"
   ]
  },
  {
   "cell_type": "code",
   "execution_count": 28,
   "metadata": {},
   "outputs": [
    {
     "data": {
      "text/plain": [
       "<matplotlib.colorbar.Colorbar at 0x1c9c2c8710>"
      ]
     },
     "execution_count": 28,
     "metadata": {},
     "output_type": "execute_result"
    },
    {
     "data": {
      "image/png": "[encoded data removed]",
      "text/plain": [
       "<Figure size 432x288 with 2 Axes>"
      ]
     },
     "metadata": {
      "needs_background": "light"
     },
     "output_type": "display_data"
    }
   ],
   "source": [
    "# visualize heat map\n",
    "\n",
    "heatmap2 = mglearn.tools.heatmap(\n",
    "    scores2, xlabel=\"C\", ylabel=\"ngram_range\", cmap=\"viridis\", fmt=\"%.3f\",\n",
    "    xticklabels=param_grid2['classifier__C'],\n",
    "    yticklabels=param_grid2['Tfidf__ngram_range'])\n",
    "plt.colorbar(heatmap2)"
   ]
  },
  {
   "cell_type": "markdown",
   "metadata": {},
   "source": [
    "Finetuned pipeline"
   ]
  },
  {
   "cell_type": "code",
   "execution_count": 16,
   "metadata": {},
   "outputs": [],
   "source": [
    "pipe2 = Pipeline([\n",
    "    ('Tfidf', TfidfVectorizer(analyzer='word',ngram_range=(1,2),min_df=25)),  # strings to token integer counts\n",
    "    ('classifier', LinearSVC(C=1)),  # train on TF-IDF vectors w/ Support Vector Machines\n",
    "])\n",
    "\n"
   ]
  },
  {
   "cell_type": "markdown",
   "metadata": {},
   "source": [
    "Fit train data"
   ]
  },
  {
   "cell_type": "code",
   "execution_count": 17,
   "metadata": {},
   "outputs": [
    {
     "data": {
      "text/plain": [
       "Pipeline(memory=None,\n",
       "         steps=[('Tfidf',\n",
       "                 TfidfVectorizer(analyzer='word', binary=False,\n",
       "                                 decode_error='strict',\n",
       "                                 dtype=<class 'numpy.float64'>,\n",
       "                                 encoding='utf-8', input='content',\n",
       "                                 lowercase=True, max_df=1.0, max_features=None,\n",
       "                                 min_df=25, ngram_range=(1, 2), norm='l2',\n",
       "                                 preprocessor=None, smooth_idf=True,\n",
       "                                 stop_words=None, strip_accents=None,\n",
       "                                 sublinear_tf=False,\n",
       "                                 token_pattern='(?u)\\\\b\\\\w\\\\w+\\\\b',\n",
       "                                 tokenizer=None, use_idf=True,\n",
       "                                 vocabulary=None)),\n",
       "                ('classifier',\n",
       "                 LinearSVC(C=1, class_weight=None, dual=True,\n",
       "                           fit_intercept=True, intercept_scaling=1,\n",
       "                           loss='squared_hinge', max_iter=1000,\n",
       "                           multi_class='ovr', penalty='l2', random_state=None,\n",
       "                           tol=0.0001, verbose=0))],\n",
       "         verbose=False)"
      ]
     },
     "execution_count": 17,
     "metadata": {},
     "output_type": "execute_result"
    }
   ],
   "source": [
    "pipe2.fit(X_train2,Y_train2)"
   ]
  },
  {
   "cell_type": "markdown",
   "metadata": {},
   "source": [
    "Predict for test data"
   ]
  },
  {
   "cell_type": "code",
   "execution_count": 18,
   "metadata": {},
   "outputs": [],
   "source": [
    "predictions2 = pipe2.predict(X_test)"
   ]
  },
  {
   "cell_type": "markdown",
   "metadata": {},
   "source": [
    "Display Results"
   ]
  },
  {
   "cell_type": "code",
   "execution_count": 19,
   "metadata": {},
   "outputs": [
    {
     "name": "stdout",
     "output_type": "stream",
     "text": [
      "              precision    recall  f1-score   support\n",
      "\n",
      "           1       0.79      0.76      0.77     13558\n",
      "           2       0.46      0.63      0.53      5392\n",
      "           3       0.53      0.63      0.57      8874\n",
      "           4       0.46      0.62      0.53     15103\n",
      "           5       0.95      0.87      0.90     99187\n",
      "\n",
      "    accuracy                           0.81    142114\n",
      "   macro avg       0.64      0.70      0.66    142114\n",
      "weighted avg       0.84      0.81      0.82    142114\n",
      "\n"
     ]
    }
   ],
   "source": [
    "print(classification_report(predictions2,Y_test))"
   ]
  },
  {
   "cell_type": "code",
   "execution_count": 20,
   "metadata": {},
   "outputs": [
    {
     "data": {
      "text/plain": [
       "array([[10299,   749,   533,   354,  1140],\n",
       "       [ 1560,  3376,   977,   473,  1030],\n",
       "       [  761,   728,  5595,  1553,  2010],\n",
       "       [  341,   284,  1117,  9403,  9201],\n",
       "       [  597,   255,   652,  3320, 85806]])"
      ]
     },
     "execution_count": 20,
     "metadata": {},
     "output_type": "execute_result"
    }
   ],
   "source": [
    "confusion_matrix(Y_test, predictions2)"
   ]
  },
  {
   "cell_type": "code",
   "execution_count": 21,
   "metadata": {},
   "outputs": [
    {
     "data": {
      "image/png": "[encoded data removed]",
      "text/plain": [
       "<Figure size 720x720 with 2 Axes>"
      ]
     },
     "metadata": {
      "needs_background": "light"
     },
     "output_type": "display_data"
    }
   ],
   "source": [
    "# Confusion matrix as a heatmap\n",
    "conf_mat = confusion_matrix(Y_test, predictions2)\n",
    "fig, ax = plt.subplots(figsize=(10,10))\n",
    "sns.heatmap(conf_mat, annot=True, fmt='d',\n",
    "            xticklabels=df_reviews_p_s.Score.astype('category').cat.categories, \n",
    "            yticklabels=df_reviews_p_s.Score.astype('category').cat.categories)\n",
    "plt.title('Confusion Matrix')\n",
    "plt.ylabel('Actual Rating')\n",
    "plt.xlabel('Predicted Rating')\n",
    "b, t = plt.ylim() # discover the values for bottom and top\n",
    "b += 0.5 # Add 0.5 to the bottom\n",
    "t -= 0.5 # Subtract 0.5 from the top\n",
    "plt.ylim(b, t) # update the ylim(bottom, top) values\n",
    "plt.show()"
   ]
  }
 ],
 "metadata": {
  "kernelspec": {
   "display_name": "Python 3",
   "language": "python",
   "name": "python3"
  },
  "language_info": {
   "codemirror_mode": {
    "name": "ipython",
    "version": 3
   },
   "file_extension": ".py",
   "mimetype": "text/x-python",
   "name": "python",
   "nbconvert_exporter": "python",
   "pygments_lexer": "ipython3",
   "version": "3.7.6"
  }
 },
 "nbformat": 4,
 "nbformat_minor": 2
}
